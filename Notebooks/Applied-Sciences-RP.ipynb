{
 "cells": [
  {
   "cell_type": "code",
   "execution_count": 1,
   "id": "cf0ae557",
   "metadata": {
    "_cell_guid": "b1076dfc-b9ad-4769-8c92-a6c4dae69d19",
    "_uuid": "8f2839f25d086af736a60e9eeb907d3b93b6e0e5",
    "execution": {
     "iopub.execute_input": "2024-04-20T07:42:08.348904Z",
     "iopub.status.busy": "2024-04-20T07:42:08.348566Z",
     "iopub.status.idle": "2024-04-20T07:42:09.053955Z",
     "shell.execute_reply": "2024-04-20T07:42:09.053229Z"
    },
    "papermill": {
     "duration": 0.714743,
     "end_time": "2024-04-20T07:42:09.056312",
     "exception": false,
     "start_time": "2024-04-20T07:42:08.341569",
     "status": "completed"
    },
    "tags": []
   },
   "outputs": [],
   "source": [
    "# This Python 3 environment comes with many helpful analytics libraries installed\n",
    "# It is defined by the kaggle/python Docker image: https://github.com/kaggle/docker-python\n",
    "# For example, here's several helpful packages to load\n",
    "\n",
    "import numpy as np # linear algebra\n",
    "import pandas as pd # data processing, CSV file I/O (e.g. pd.read_csv)\n",
    "\n",
    "# Input data files are available in the read-only \"../input/\" directory\n",
    "# For example, running this (by clicking run or pressing Shift+Enter) will list all files under the input directory\n",
    "\n",
    "import os\n",
    "\n",
    "\n",
    "# You can write up to 20GB to the current directory (/kaggle/working/) that gets preserved as output when you create a version using \"Save & Run All\" \n",
    "# You can also write temporary files to /kaggle/temp/, but they won't be saved outside of the current session"
   ]
  },
  {
   "cell_type": "code",
   "execution_count": 2,
   "id": "d1048df6",
   "metadata": {
    "execution": {
     "iopub.execute_input": "2024-04-20T07:42:09.068513Z",
     "iopub.status.busy": "2024-04-20T07:42:09.068134Z",
     "iopub.status.idle": "2024-04-20T07:42:09.360353Z",
     "shell.execute_reply": "2024-04-20T07:42:09.359427Z"
    },
    "papermill": {
     "duration": 0.300725,
     "end_time": "2024-04-20T07:42:09.362791",
     "exception": false,
     "start_time": "2024-04-20T07:42:09.062066",
     "status": "completed"
    },
    "tags": []
   },
   "outputs": [],
   "source": [
    "import os\n",
    "import PIL\n",
    "import zipfile\n",
    "import numpy as np\n",
    "import pandas as pd\n",
    "import matplotlib.pyplot as plt\n",
    "import pickle\n",
    "import h5py\n",
    "import cv2"
   ]
  },
  {
   "cell_type": "code",
   "execution_count": 3,
   "id": "585ab67c",
   "metadata": {
    "execution": {
     "iopub.execute_input": "2024-04-20T07:42:09.374752Z",
     "iopub.status.busy": "2024-04-20T07:42:09.373968Z",
     "iopub.status.idle": "2024-04-20T07:42:09.378971Z",
     "shell.execute_reply": "2024-04-20T07:42:09.378197Z"
    },
    "papermill": {
     "duration": 0.012595,
     "end_time": "2024-04-20T07:42:09.380803",
     "exception": false,
     "start_time": "2024-04-20T07:42:09.368208",
     "status": "completed"
    },
    "tags": []
   },
   "outputs": [],
   "source": [
    "os.mkdir(\"/kaggle/working/bt_images\")\n",
    "os.mkdir(\"/kaggle/working/bt_images/1\")\n",
    "os.mkdir(\"/kaggle/working/bt_images/2\")\n",
    "os.mkdir(\"/kaggle/working/bt_images/3\")"
   ]
  },
  {
   "cell_type": "code",
   "execution_count": 4,
   "id": "1c11505e",
   "metadata": {
    "execution": {
     "iopub.execute_input": "2024-04-20T07:42:09.392055Z",
     "iopub.status.busy": "2024-04-20T07:42:09.391786Z",
     "iopub.status.idle": "2024-04-20T07:43:30.552547Z",
     "shell.execute_reply": "2024-04-20T07:43:30.551538Z"
    },
    "papermill": {
     "duration": 81.183776,
     "end_time": "2024-04-20T07:43:30.569883",
     "exception": false,
     "start_time": "2024-04-20T07:42:09.386107",
     "status": "completed"
    },
    "tags": []
   },
   "outputs": [
    {
     "name": "stdout",
     "output_type": "stream",
     "text": [
      "3064 files successfully saved\n"
     ]
    },
    {
     "data": {
      "image/png": "[encoded data removed]",
      "text/plain": [
       "<Figure size 640x480 with 1 Axes>"
      ]
     },
     "metadata": {},
     "output_type": "display_data"
    }
   ],
   "source": [
    "labels=[]\n",
    "border=[]\n",
    "filename = None\n",
    "\n",
    "for filename in range(1, 3065):\n",
    "  with h5py.File('/kaggle/input/figshare-brain-tumor-dataset/dataset/data/{}.mat'.format(filename), 'r') as f:\n",
    "      img = f['cjdata']['image']\n",
    "      label = f['cjdata']['label'][0][0]\n",
    "     \n",
    "     \n",
    "      labels.append(int(label))\n",
    "      img = np.array(img, dtype=np.float32)\n",
    "      \n",
    "      plt.axis('off')\n",
    "      \n",
    "      plt.imsave(\"/kaggle/working/bt_images/{}/{}.jpg\".format(str(int(label)),filename), img, cmap='gray')\n",
    "      \n",
    "      \n",
    "print(\"{} files successfully saved\".format(filename))"
   ]
  },
  {
   "cell_type": "code",
   "execution_count": 5,
   "id": "97cd0c67",
   "metadata": {
    "execution": {
     "iopub.execute_input": "2024-04-20T07:43:30.595893Z",
     "iopub.status.busy": "2024-04-20T07:43:30.595297Z",
     "iopub.status.idle": "2024-04-20T07:43:44.549564Z",
     "shell.execute_reply": "2024-04-20T07:43:44.548408Z"
    },
    "papermill": {
     "duration": 13.970018,
     "end_time": "2024-04-20T07:43:44.551609",
     "exception": false,
     "start_time": "2024-04-20T07:43:30.581591",
     "status": "completed"
    },
    "tags": []
   },
   "outputs": [
    {
     "name": "stdout",
     "output_type": "stream",
     "text": [
      "Collecting split-folders\r\n",
      "  Downloading split_folders-0.5.1-py3-none-any.whl.metadata (6.2 kB)\r\n",
      "Downloading split_folders-0.5.1-py3-none-any.whl (8.4 kB)\r\n",
      "Installing collected packages: split-folders\r\n",
      "Successfully installed split-folders-0.5.1\r\n"
     ]
    },
    {
     "name": "stderr",
     "output_type": "stream",
     "text": [
      "Copying files: 3064 files [00:00, 6498.39 files/s]\n"
     ]
    }
   ],
   "source": [
    "!pip install split-folders\n",
    "import splitfolders\n",
    "splitfolders.ratio('/kaggle/working/bt_images', output=\"/kaggle/working/output\", seed=1337, ratio=(.8, 0.2,0.0)) "
   ]
  },
  {
   "cell_type": "code",
   "execution_count": 6,
   "id": "7253adfa",
   "metadata": {
    "execution": {
     "iopub.execute_input": "2024-04-20T07:43:44.569979Z",
     "iopub.status.busy": "2024-04-20T07:43:44.569578Z",
     "iopub.status.idle": "2024-04-20T07:43:51.943928Z",
     "shell.execute_reply": "2024-04-20T07:43:51.943128Z"
    },
    "papermill": {
     "duration": 7.387387,
     "end_time": "2024-04-20T07:43:51.946335",
     "exception": false,
     "start_time": "2024-04-20T07:43:44.558948",
     "status": "completed"
    },
    "tags": []
   },
   "outputs": [],
   "source": [
    "#packages for notebook\n",
    "import torch\n",
    "import torch.nn as nn\n",
    "import torch.nn.functional as F\n",
    "from torch.utils.data import DataLoader, Dataset\n",
    "from torchvision import transforms, models\n",
    "from torchvision.utils import make_grid\n",
    "import os\n",
    "import random\n",
    "import numpy as np\n",
    "import pandas as pd\n",
    "import pickle\n",
    "import time\n",
    "import matplotlib.pyplot as plt\n",
    "import seaborn as sns\n",
    "from sklearn.model_selection import train_test_split\n",
    "from sklearn.metrics import confusion_matrix, classification_report\n",
    "from torchvision.datasets import ImageFolder"
   ]
  },
  {
   "cell_type": "code",
   "execution_count": 7,
   "id": "35785f52",
   "metadata": {
    "execution": {
     "iopub.execute_input": "2024-04-20T07:43:51.960314Z",
     "iopub.status.busy": "2024-04-20T07:43:51.959824Z",
     "iopub.status.idle": "2024-04-20T07:43:51.969399Z",
     "shell.execute_reply": "2024-04-20T07:43:51.968365Z"
    },
    "papermill": {
     "duration": 0.018675,
     "end_time": "2024-04-20T07:43:51.971319",
     "exception": false,
     "start_time": "2024-04-20T07:43:51.952644",
     "status": "completed"
    },
    "tags": []
   },
   "outputs": [],
   "source": [
    "rotation_angles = [45, 90, 135, 180, 225, 270, 315]\n",
    "    \n",
    "    # Define sigma values for Gaussian Blur\n",
    "sigma_values = [0.25, 0.5, 1.0, 2.0]\n",
    "    \n",
    "    # Define lightness values for sharpening\n",
    "lightness_values = [0.5, 1.0, 1.5, 2.0]\n",
    "    \n",
    "    # Define transformations\n",
    "transform = transforms.Compose([\n",
    "        transforms.Resize((256, 256)),\n",
    "        transforms.RandomChoice([\n",
    "            transforms.RandomRotation(angle) for angle in rotation_angles\n",
    "        ]),\n",
    "        transforms.RandomHorizontalFlip(p=0.5),\n",
    "        transforms.RandomVerticalFlip(p=0.5),\n",
    "        transforms.RandomApply([\n",
    "            transforms.GaussianBlur(kernel_size=23, sigma=(sigma, sigma)) for sigma in sigma_values\n",
    "        ], p=0.5),\n",
    "        transforms.RandomApply([\n",
    "            transforms.Lambda(lambda img: transforms.functional.adjust_sharpness(img, lightness)) \n",
    "            for lightness in lightness_values\n",
    "        ], p=0.5),\n",
    "        transforms.ToTensor(),\n",
    "        transforms.Normalize(mean=[0.485, 0.456, 0.406], std=[0.229, 0.224, 0.225])\n",
    "    ])"
   ]
  },
  {
   "cell_type": "code",
   "execution_count": 8,
   "id": "83f2ce21",
   "metadata": {
    "execution": {
     "iopub.execute_input": "2024-04-20T07:43:51.984777Z",
     "iopub.status.busy": "2024-04-20T07:43:51.984131Z",
     "iopub.status.idle": "2024-04-20T07:43:51.987949Z",
     "shell.execute_reply": "2024-04-20T07:43:51.987135Z"
    },
    "papermill": {
     "duration": 0.012479,
     "end_time": "2024-04-20T07:43:51.989873",
     "exception": false,
     "start_time": "2024-04-20T07:43:51.977394",
     "status": "completed"
    },
    "tags": []
   },
   "outputs": [],
   "source": [
    "# transform = transforms.Compose([\n",
    "#     transforms.Resize((256, 256)),\n",
    "#     transforms.RandomHorizontalFlip(),\n",
    "#     transforms.RandomVerticalFlip(),\n",
    "#     transforms.ToTensor(),\n",
    "#     transforms.Normalize(mean=[0.485, 0.456, 0.406], std=[0.229, 0.224, 0.225]),\n",
    "# ])"
   ]
  },
  {
   "cell_type": "code",
   "execution_count": 9,
   "id": "b7a1b3b8",
   "metadata": {
    "execution": {
     "iopub.execute_input": "2024-04-20T07:43:52.002968Z",
     "iopub.status.busy": "2024-04-20T07:43:52.002526Z",
     "iopub.status.idle": "2024-04-20T07:43:52.006338Z",
     "shell.execute_reply": "2024-04-20T07:43:52.005521Z"
    },
    "papermill": {
     "duration": 0.012337,
     "end_time": "2024-04-20T07:43:52.008226",
     "exception": false,
     "start_time": "2024-04-20T07:43:51.995889",
     "status": "completed"
    },
    "tags": []
   },
   "outputs": [],
   "source": [
    "#os.rmdir('/kaggle/working/output/train/0')\n",
    "# os.rmdir('/kaggle/working/output/val/0')"
   ]
  },
  {
   "cell_type": "code",
   "execution_count": 10,
   "id": "0bcdc567",
   "metadata": {
    "execution": {
     "iopub.execute_input": "2024-04-20T07:43:52.020985Z",
     "iopub.status.busy": "2024-04-20T07:43:52.020741Z",
     "iopub.status.idle": "2024-04-20T07:43:52.039920Z",
     "shell.execute_reply": "2024-04-20T07:43:52.039107Z"
    },
    "papermill": {
     "duration": 0.02763,
     "end_time": "2024-04-20T07:43:52.041810",
     "exception": false,
     "start_time": "2024-04-20T07:43:52.014180",
     "status": "completed"
    },
    "tags": []
   },
   "outputs": [],
   "source": [
    "dataset_path=\"/kaggle/working/output\"\n",
    "batch_size=64\n",
    "train_dataset = ImageFolder(dataset_path+\"/train\", transform=transform)\n",
    "val_dataset = ImageFolder(dataset_path+\"/val\", transform=transform)\n",
    "train_loader = DataLoader(train_dataset, batch_size=batch_size, shuffle=True)\n",
    "test_loader = DataLoader(val_dataset, batch_size=batch_size, shuffle=True)"
   ]
  },
  {
   "cell_type": "code",
   "execution_count": 11,
   "id": "0caf7a71",
   "metadata": {
    "execution": {
     "iopub.execute_input": "2024-04-20T07:43:52.054672Z",
     "iopub.status.busy": "2024-04-20T07:43:52.054396Z",
     "iopub.status.idle": "2024-04-20T07:43:52.325059Z",
     "shell.execute_reply": "2024-04-20T07:43:52.323991Z"
    },
    "papermill": {
     "duration": 0.279668,
     "end_time": "2024-04-20T07:43:52.327451",
     "exception": false,
     "start_time": "2024-04-20T07:43:52.047783",
     "status": "completed"
    },
    "tags": []
   },
   "outputs": [
    {
     "name": "stdout",
     "output_type": "stream",
     "text": [
      "CNN(\n",
      "  (conv1): Conv2d(3, 16, kernel_size=(5, 5), stride=(2, 2), padding=(1, 1))\n",
      "  (conv2): Conv2d(16, 32, kernel_size=(3, 3), stride=(2, 2), padding=(1, 1))\n",
      "  (conv3): Conv2d(32, 64, kernel_size=(3, 3), stride=(1, 1), padding=(1, 1))\n",
      "  (conv4): Conv2d(64, 128, kernel_size=(3, 3), stride=(1, 1), padding=(1, 1))\n",
      "  (fc1): Linear(in_features=2048, out_features=1024, bias=True)\n",
      "  (fc2): Linear(in_features=1024, out_features=3, bias=True)\n",
      "  (dropout): Dropout(p=0.5, inplace=False)\n",
      "  (flatten): Flatten(start_dim=1, end_dim=-1)\n",
      ")\n"
     ]
    }
   ],
   "source": [
    "import torch\n",
    "import torch.nn as nn\n",
    "import torch.nn.functional as F\n",
    "\n",
    "class CNN(nn.Module):\n",
    "    def __init__(self):\n",
    "        super(CNN, self).__init__()\n",
    "        self.conv1 = nn.Conv2d(3, 16, kernel_size=5, stride=2, padding=1)  # Convolutional Layer 1\n",
    "        self.conv2 = nn.Conv2d(16, 32, kernel_size=3, stride=2, padding=1)  # Convolutional Layer 2\n",
    "        self.conv3 = nn.Conv2d(32, 64, kernel_size=3, stride=1, padding=1)  # Convolutional Layer 3\n",
    "        self.conv4 = nn.Conv2d(64, 128, kernel_size=3, stride=1, padding=1)  # Convolutional Layer 4\n",
    "        \n",
    "        self.fc1 = nn.Linear(128 * 4 * 4, 1024)  # Fully Connected Layer 1\n",
    "        self.fc2 = nn.Linear(1024, 3)  # Fully Connected Layer 2\n",
    "        \n",
    "        self.dropout = nn.Dropout(p=0.5)\n",
    "        self.flatten = nn.Flatten()\n",
    "        \n",
    "    def forward(self, x):\n",
    "        x = F.relu(self.conv1(x))  # Conv1\n",
    "        x = self.dropout(x)\n",
    "        x = F.max_pool2d(x, kernel_size=2, stride=2)  # Max Pooling 1\n",
    "        \n",
    "        x = F.relu(self.conv2(x))  # Conv2\n",
    "        x = self.dropout(x)\n",
    "        x = F.max_pool2d(x, kernel_size=2, stride=2)  # Max Pooling 2\n",
    "        \n",
    "        x = F.relu(self.conv3(x))  # Conv3\n",
    "        x = self.dropout(x)\n",
    "        x = F.max_pool2d(x, kernel_size=2, stride=2)  # Max Pooling 3\n",
    "        \n",
    "        x = F.relu(self.conv4(x))  # Conv4\n",
    "        x = self.dropout(x)\n",
    "        x = F.max_pool2d(x, kernel_size=2, stride=2)  # Max Pooling 4\n",
    "        \n",
    "#         x = self.flatten(x)# Flatten\n",
    "        x = x.view(-1, 128 * 4 * 4)\n",
    "        x = F.relu(self.fc1(x))  # FC1\n",
    "        x = self.dropout(x)\n",
    "        x = self.fc2(x)  # FC2\n",
    "        \n",
    "        return F.softmax(x, dim=1)  # Softmax\n",
    "\n",
    "# Initialize the model\n",
    "resnet_model = CNN()\n",
    "resnet_model.cuda()\n",
    "print(resnet_model)\n"
   ]
  },
  {
   "cell_type": "code",
   "execution_count": 12,
   "id": "ebf6dfa9",
   "metadata": {
    "execution": {
     "iopub.execute_input": "2024-04-20T07:43:52.342334Z",
     "iopub.status.busy": "2024-04-20T07:43:52.342010Z",
     "iopub.status.idle": "2024-04-20T07:43:52.347004Z",
     "shell.execute_reply": "2024-04-20T07:43:52.346269Z"
    },
    "papermill": {
     "duration": 0.014057,
     "end_time": "2024-04-20T07:43:52.348888",
     "exception": false,
     "start_time": "2024-04-20T07:43:52.334831",
     "status": "completed"
    },
    "tags": []
   },
   "outputs": [],
   "source": [
    "# # instantiate transfer learning model\n",
    "# resnet_model = models.resnet50(pretrained=True)\n",
    "\n",
    "# # set all parameters as not trainable\n",
    "# for param in resnet_model.parameters():\n",
    "#     param.requires_grad = False\n",
    "\n",
    "# # get input of fc layer\n",
    "# n_inputs = resnet_model.fc.in_features\n",
    "\n",
    "# # redefine fc layer / top layer / head for our classification problem\n",
    "# resnet_model.fc = nn.Sequential(\n",
    "#     nn.Linear(n_inputs, 2048),\n",
    "#     nn.SELU(),\n",
    "#     nn.Dropout(p=0.4),\n",
    "#     nn.Linear(2048, 1024),\n",
    "#     nn.SELU(),\n",
    "#     nn.Dropout(p=0.4),\n",
    "#     nn.Linear(1024, 512),\n",
    "#     nn.SELU(),\n",
    "#     nn.Dropout(p=0.4),\n",
    "#     nn.Linear(512, 256),\n",
    "#     nn.SELU(),\n",
    "#     nn.Dropout(p=0.4),\n",
    "#     nn.Linear(256, 3)  # Assuming 4 classes\n",
    "# )\n",
    "\n",
    "# # Make only the last 2 layers (fc layer and the final activation) trainable\n",
    "# for name, child in resnet_model.named_children():\n",
    "#     if name == 'fc'or name=='layer4':\n",
    "#         for param in child.parameters():\n",
    "#             param.requires_grad = True\n",
    "\n",
    "# # set model to run on GPU or CPU based on availability (not shown in your code)\n",
    "# resnet_model.cuda()\n",
    "# # print the transfer\n",
    "# print(resnet_model)"
   ]
  },
  {
   "cell_type": "code",
   "execution_count": 13,
   "id": "1604d9ad",
   "metadata": {
    "execution": {
     "iopub.execute_input": "2024-04-20T07:43:52.362260Z",
     "iopub.status.busy": "2024-04-20T07:43:52.361968Z",
     "iopub.status.idle": "2024-04-20T07:43:52.368705Z",
     "shell.execute_reply": "2024-04-20T07:43:52.367863Z"
    },
    "papermill": {
     "duration": 0.015504,
     "end_time": "2024-04-20T07:43:52.370526",
     "exception": false,
     "start_time": "2024-04-20T07:43:52.355022",
     "status": "completed"
    },
    "tags": []
   },
   "outputs": [],
   "source": [
    "# import torch\n",
    "# import torch.nn as nn\n",
    "\n",
    "# class MyModel(nn.Module):\n",
    "#     def __init__(self):\n",
    "#         super(MyModel, self).__init__()\n",
    "#         self.conv1 = nn.Conv2d(in_channels=3, out_channels=32, kernel_size=3)\n",
    "#         self.relu1 = nn.ReLU()\n",
    "#         self.batchnorm1 = nn.BatchNorm2d(32)\n",
    "        \n",
    "#         self.conv2 = nn.Conv2d(in_channels=32, out_channels=64, kernel_size=3)\n",
    "#         self.relu2 = nn.ReLU()\n",
    "#         self.batchnorm2 = nn.BatchNorm2d(64)\n",
    "        \n",
    "#         self.maxpool1 = nn.MaxPool2d(kernel_size=2)\n",
    "        \n",
    "#         self.conv3 = nn.Conv2d(in_channels=64, out_channels=96, kernel_size=3)\n",
    "#         self.relu3 = nn.ReLU()\n",
    "#         self.batchnorm3 = nn.BatchNorm2d(96)\n",
    "        \n",
    "#         self.conv4 = nn.Conv2d(in_channels=96, out_channels=128, kernel_size=3)\n",
    "#         self.relu4 = nn.ReLU()\n",
    "#         self.batchnorm4 = nn.BatchNorm2d(128)\n",
    "        \n",
    "#         self.maxpool2 = nn.MaxPool2d(kernel_size=2)\n",
    "        \n",
    "#         self.conv5 = nn.Conv2d(in_channels=128, out_channels=160, kernel_size=3)\n",
    "#         self.relu5 = nn.ReLU()\n",
    "#         self.batchnorm5 = nn.BatchNorm2d(160)\n",
    "        \n",
    "#         self.conv6 = nn.Conv2d(in_channels=160, out_channels=192, kernel_size=3)\n",
    "#         self.relu6 = nn.ReLU()\n",
    "#         self.batchnorm6 = nn.BatchNorm2d(192)\n",
    "        \n",
    "#         self.maxpool3 = nn.MaxPool2d(kernel_size=2)\n",
    "        \n",
    "#         self.conv7 = nn.Conv2d(in_channels=192, out_channels=224, kernel_size=3)\n",
    "#         self.relu7 = nn.ReLU()\n",
    "#         self.batchnorm7 = nn.BatchNorm2d(224)\n",
    "        \n",
    "#         self.conv8 = nn.Conv2d(in_channels=224, out_channels=256, kernel_size=3)\n",
    "#         self.relu8 = nn.ReLU()\n",
    "#         self.batchnorm8 = nn.BatchNorm2d(256)\n",
    "        \n",
    "#         self.maxpool4 = nn.MaxPool2d(kernel_size=2)\n",
    "        \n",
    "#         self.conv9 = nn.Conv2d(in_channels=256, out_channels=288, kernel_size=3)\n",
    "#         self.relu9 = nn.ReLU()\n",
    "#         self.batchnorm9 = nn.BatchNorm2d(288)\n",
    "        \n",
    "#         self.conv10 = nn.Conv2d(in_channels=288, out_channels=320, kernel_size=3)\n",
    "#         self.relu10 = nn.ReLU()\n",
    "#         self.batchnorm10 = nn.BatchNorm2d(320)\n",
    "        \n",
    "#         self.maxpool5 = nn.MaxPool2d(kernel_size=2)\n",
    "        \n",
    "#         self.flatten = nn.Flatten()\n",
    "#         self.dense1 = nn.Linear(320 * 4 * 4, 64)\n",
    "#         self.dense2 = nn.Linear(64,3)\n",
    "\n",
    "#     def forward(self, x):\n",
    "#         x = self.batchnorm1(self.relu1(self.conv1(x)))\n",
    "#         x = self.batchnorm2(self.relu2(self.conv2(x)))\n",
    "#         x = self.maxpool1(x)\n",
    "#         x = self.batchnorm3(self.relu3(self.conv3(x)))\n",
    "#         x = self.batchnorm4(self.relu4(self.conv4(x)))\n",
    "#         x = self.maxpool2(x)\n",
    "#         x = self.batchnorm5(self.relu5(self.conv5(x)))\n",
    "#         x = self.batchnorm6(self.relu6(self.conv6(x)))\n",
    "#         x = self.maxpool3(x)\n",
    "#         x = self.batchnorm7(self.relu7(self.conv7(x)))\n",
    "#         x = self.batchnorm8(self.relu8(self.conv8(x)))\n",
    "#         x = self.maxpool4(x)\n",
    "#         x = self.batchnorm9(self.relu9(self.conv9(x)))\n",
    "#         x = self.batchnorm10(self.relu10(self.conv10(x)))\n",
    "#         x = self.maxpool5(x)\n",
    "#         x = self.flatten(x)\n",
    "#         x = self.dense1(x)\n",
    "#         x = self.dense2(x)\n",
    "#         return x\n",
    "\n",
    "# # Test the model\n",
    "# resnet_model = MyModel()\n",
    "# resnet_model.cuda()\n",
    "# print(resnet_model)\n"
   ]
  },
  {
   "cell_type": "code",
   "execution_count": 14,
   "id": "57e4c165",
   "metadata": {
    "execution": {
     "iopub.execute_input": "2024-04-20T07:43:52.384178Z",
     "iopub.status.busy": "2024-04-20T07:43:52.383848Z",
     "iopub.status.idle": "2024-04-20T10:47:47.418836Z",
     "shell.execute_reply": "2024-04-20T10:47:47.417912Z"
    },
    "papermill": {
     "duration": 11035.044453,
     "end_time": "2024-04-20T10:47:47.421160",
     "exception": false,
     "start_time": "2024-04-20T07:43:52.376707",
     "status": "completed"
    },
    "tags": []
   },
   "outputs": [
    {
     "name": "stdout",
     "output_type": "stream",
     "text": [
      "Epoch [1/50], Train Loss: 1.0386, Train Acc: 0.4841, Val Loss: 1.0329, Val Acc: 0.6405\n",
      "Epoch [2/50], Train Loss: 0.9383, Train Acc: 0.6024, Val Loss: 0.9625, Val Acc: 0.6454\n",
      "Epoch [3/50], Train Loss: 0.8948, Train Acc: 0.6539, Val Loss: 0.9282, Val Acc: 0.6650\n",
      "Epoch [4/50], Train Loss: 0.8922, Train Acc: 0.6539, Val Loss: 0.9236, Val Acc: 0.6291\n",
      "Epoch [5/50], Train Loss: 0.9317, Train Acc: 0.6131, Val Loss: 0.8911, Val Acc: 0.6814\n",
      "Epoch [6/50], Train Loss: 0.8927, Train Acc: 0.6535, Val Loss: 0.8977, Val Acc: 0.6552\n",
      "Epoch [7/50], Train Loss: 0.8892, Train Acc: 0.6580, Val Loss: 0.8973, Val Acc: 0.6732\n",
      "Epoch [8/50], Train Loss: 0.8866, Train Acc: 0.6580, Val Loss: 0.9462, Val Acc: 0.6029\n",
      "Epoch [9/50], Train Loss: 0.8939, Train Acc: 0.6535, Val Loss: 0.9185, Val Acc: 0.6356\n",
      "Epoch [10/50], Train Loss: 0.8945, Train Acc: 0.6539, Val Loss: 0.8743, Val Acc: 0.6895\n",
      "Epoch [11/50], Train Loss: 0.8866, Train Acc: 0.6604, Val Loss: 0.8674, Val Acc: 0.6814\n",
      "Epoch [12/50], Train Loss: 0.8891, Train Acc: 0.6567, Val Loss: 0.8643, Val Acc: 0.6863\n",
      "Epoch [13/50], Train Loss: 0.8887, Train Acc: 0.6620, Val Loss: 0.8908, Val Acc: 0.6585\n",
      "Epoch [14/50], Train Loss: 0.8826, Train Acc: 0.6653, Val Loss: 0.8592, Val Acc: 0.6863\n",
      "Epoch [15/50], Train Loss: 0.8706, Train Acc: 0.6776, Val Loss: 0.8542, Val Acc: 0.7010\n",
      "Epoch [16/50], Train Loss: 0.8884, Train Acc: 0.6616, Val Loss: 0.8521, Val Acc: 0.6961\n",
      "Epoch [17/50], Train Loss: 0.8791, Train Acc: 0.6698, Val Loss: 0.8463, Val Acc: 0.6977\n",
      "Epoch [18/50], Train Loss: 0.8769, Train Acc: 0.6731, Val Loss: 0.8472, Val Acc: 0.7042\n",
      "Epoch [19/50], Train Loss: 0.8828, Train Acc: 0.6669, Val Loss: 0.8543, Val Acc: 0.7010\n",
      "Epoch [20/50], Train Loss: 0.8889, Train Acc: 0.6588, Val Loss: 0.9273, Val Acc: 0.6176\n",
      "Epoch [21/50], Train Loss: 0.9102, Train Acc: 0.6388, Val Loss: 0.8691, Val Acc: 0.6797\n",
      "Epoch [22/50], Train Loss: 0.9006, Train Acc: 0.6482, Val Loss: 0.9248, Val Acc: 0.6225\n",
      "Epoch [23/50], Train Loss: 0.9777, Train Acc: 0.5759, Val Loss: 1.0000, Val Acc: 0.5490\n",
      "Epoch [24/50], Train Loss: 0.9313, Train Acc: 0.6192, Val Loss: 0.8808, Val Acc: 0.6683\n",
      "Epoch [25/50], Train Loss: 0.8834, Train Acc: 0.6657, Val Loss: 0.9063, Val Acc: 0.6503\n",
      "Epoch [26/50], Train Loss: 0.8894, Train Acc: 0.6571, Val Loss: 0.8797, Val Acc: 0.6748\n",
      "Epoch [27/50], Train Loss: 0.9053, Train Acc: 0.6441, Val Loss: 0.8676, Val Acc: 0.6830\n",
      "Epoch [28/50], Train Loss: 0.9026, Train Acc: 0.6449, Val Loss: 0.9481, Val Acc: 0.5997\n",
      "Epoch [29/50], Train Loss: 0.9720, Train Acc: 0.5784, Val Loss: 1.0554, Val Acc: 0.4984\n",
      "Epoch [30/50], Train Loss: 0.9699, Train Acc: 0.5800, Val Loss: 0.9153, Val Acc: 0.6356\n",
      "Epoch [31/50], Train Loss: 0.9092, Train Acc: 0.6416, Val Loss: 0.8714, Val Acc: 0.6814\n",
      "Epoch [32/50], Train Loss: 0.9065, Train Acc: 0.6433, Val Loss: 0.8913, Val Acc: 0.6585\n",
      "Epoch [33/50], Train Loss: 0.9030, Train Acc: 0.6514, Val Loss: 0.8667, Val Acc: 0.6797\n",
      "Epoch [34/50], Train Loss: 0.9497, Train Acc: 0.6004, Val Loss: 0.8910, Val Acc: 0.6585\n",
      "Epoch [35/50], Train Loss: 0.9140, Train Acc: 0.6388, Val Loss: 0.8793, Val Acc: 0.6781\n",
      "Epoch [36/50], Train Loss: 0.8944, Train Acc: 0.6588, Val Loss: 0.8757, Val Acc: 0.6732\n",
      "Epoch [37/50], Train Loss: 0.9156, Train Acc: 0.6392, Val Loss: 0.8835, Val Acc: 0.6650\n",
      "Epoch [38/50], Train Loss: 0.9113, Train Acc: 0.6384, Val Loss: 0.8769, Val Acc: 0.6765\n",
      "Epoch [39/50], Train Loss: 0.9156, Train Acc: 0.6347, Val Loss: 0.8939, Val Acc: 0.6569\n",
      "Epoch [40/50], Train Loss: 0.9277, Train Acc: 0.6241, Val Loss: 0.8748, Val Acc: 0.6748\n",
      "Epoch [41/50], Train Loss: 0.9204, Train Acc: 0.6302, Val Loss: 0.8915, Val Acc: 0.6569\n",
      "Epoch [42/50], Train Loss: 0.9258, Train Acc: 0.6216, Val Loss: 0.8877, Val Acc: 0.6650\n",
      "Epoch [43/50], Train Loss: 0.9393, Train Acc: 0.6122, Val Loss: 0.9460, Val Acc: 0.6029\n",
      "Epoch [44/50], Train Loss: 0.9952, Train Acc: 0.5584, Val Loss: 1.0344, Val Acc: 0.5131\n",
      "Epoch [45/50], Train Loss: 0.9421, Train Acc: 0.6049, Val Loss: 0.9066, Val Acc: 0.6487\n",
      "Epoch [46/50], Train Loss: 0.9559, Train Acc: 0.5931, Val Loss: 1.0652, Val Acc: 0.4886\n",
      "Epoch [47/50], Train Loss: 1.0476, Train Acc: 0.5029, Val Loss: 1.0531, Val Acc: 0.5033\n",
      "Epoch [48/50], Train Loss: 1.0181, Train Acc: 0.5318, Val Loss: 1.0287, Val Acc: 0.5180\n",
      "Epoch [49/50], Train Loss: 1.0225, Train Acc: 0.5286, Val Loss: 0.9793, Val Acc: 0.5703\n",
      "Epoch [50/50], Train Loss: 1.1118, Train Acc: 0.4396, Val Loss: 1.1743, Val Acc: 0.3791\n"
     ]
    },
    {
     "data": {
      "image/png": "[encoded data removed]",
      "text/plain": [
       "<Figure size 640x480 with 1 Axes>"
      ]
     },
     "metadata": {},
     "output_type": "display_data"
    },
    {
     "data": {
      "image/png": "[encoded data removed]",
      "text/plain": [
       "<Figure size 640x480 with 1 Axes>"
      ]
     },
     "metadata": {},
     "output_type": "display_data"
    }
   ],
   "source": [
    "import os\n",
    "import torch\n",
    "import torch.nn as nn\n",
    "import torch.optim as optim\n",
    "from torch.utils.data import DataLoader\n",
    "import torchvision.transforms as transforms\n",
    "from torchvision.datasets import ImageFolder\n",
    "import matplotlib.pyplot as plt\n",
    "from sklearn.metrics import accuracy_score\n",
    "# Define loss function and optimizer\n",
    "criterion = nn.CrossEntropyLoss()\n",
    "optimizer = optim.Adam(resnet_model.parameters(), lr=0.001)\n",
    "\n",
    "# Function to calculate accuracy\n",
    "def get_accuracy(outputs, labels):\n",
    "    _, predicted = torch.max(outputs, 1)\n",
    "    correct = (predicted == labels).sum().item()\n",
    "    return correct / labels.size(0)\n",
    "\n",
    "# Training the model\n",
    "num_epochs = 50\n",
    "train_losses = []\n",
    "val_losses = []\n",
    "train_accs = []\n",
    "val_accs = []\n",
    "\n",
    "for epoch in range(num_epochs):\n",
    "    resnet_model.train()\n",
    "    running_loss = 0.0\n",
    "    total_train = 0\n",
    "    correct_train = 0\n",
    "\n",
    "    for images, labels in train_loader:\n",
    "        images = images.cuda() if torch.cuda.is_available() else images\n",
    "        labels = labels.cuda() if torch.cuda.is_available() else labels\n",
    "\n",
    "        optimizer.zero_grad()\n",
    "        outputs = resnet_model(images)\n",
    "        loss = criterion(outputs, labels)\n",
    "        loss.backward()\n",
    "        optimizer.step()\n",
    "\n",
    "        running_loss += loss.item()\n",
    "        total_train += labels.size(0)\n",
    "        correct_train += (torch.argmax(outputs, 1) == labels).sum().item()\n",
    "\n",
    "    train_acc = correct_train / total_train\n",
    "    train_accs.append(train_acc)\n",
    "    train_losses.append(running_loss / len(train_loader))\n",
    "\n",
    "    # Evaluating on validation set\n",
    "    resnet_model.eval()\n",
    "    val_loss = 0.0\n",
    "    total_val = 0\n",
    "    correct_val = 0\n",
    "\n",
    "    with torch.no_grad():\n",
    "        for images, labels in test_loader:\n",
    "            images = images.cuda() if torch.cuda.is_available() else images\n",
    "            labels = labels.cuda() if torch.cuda.is_available() else labels\n",
    "\n",
    "            outputs = resnet_model(images)\n",
    "            loss = criterion(outputs, labels)\n",
    "\n",
    "            val_loss += loss.item()\n",
    "            total_val += labels.size(0)\n",
    "            correct_val += (torch.argmax(outputs, 1) == labels).sum().item()\n",
    "\n",
    "    val_acc = correct_val / total_val\n",
    "    val_accs.append(val_acc)\n",
    "    val_losses.append(val_loss / len(test_loader))\n",
    "\n",
    "    print(f'Epoch [{epoch + 1}/{num_epochs}], '\n",
    "          f'Train Loss: {train_losses[-1]:.4f}, Train Acc: {train_acc:.4f}, '\n",
    "          f'Val Loss: {val_losses[-1]:.4f}, Val Acc: {val_acc:.4f}')\n",
    "\n",
    "# Plotting the training process\n",
    "plt.plot(train_losses, label='Train Loss')\n",
    "plt.plot(val_losses, label='Validation Loss')\n",
    "plt.xlabel('Epochs')\n",
    "plt.ylabel('Loss')\n",
    "plt.legend()\n",
    "plt.show()\n",
    "\n",
    "plt.plot(train_accs, label='Train Accuracy')\n",
    "plt.plot(val_accs, label='Validation Accuracy')\n",
    "plt.xlabel('Epochs')\n",
    "plt.ylabel('Accuracy')\n",
    "plt.legend()\n",
    "plt.show()"
   ]
  },
  {
   "cell_type": "code",
   "execution_count": null,
   "id": "d6efc607",
   "metadata": {
    "papermill": {
     "duration": 0.010897,
     "end_time": "2024-04-20T10:47:47.443656",
     "exception": false,
     "start_time": "2024-04-20T10:47:47.432759",
     "status": "completed"
    },
    "tags": []
   },
   "outputs": [],
   "source": []
  },
  {
   "cell_type": "code",
   "execution_count": null,
   "id": "23f86cbb",
   "metadata": {
    "papermill": {
     "duration": 0.010773,
     "end_time": "2024-04-20T10:47:47.465996",
     "exception": false,
     "start_time": "2024-04-20T10:47:47.455223",
     "status": "completed"
    },
    "tags": []
   },
   "outputs": [],
   "source": []
  }
 ],
 "metadata": {
  "kaggle": {
   "accelerator": "gpu",
   "dataSources": [
    {
     "datasetId": 2020131,
     "sourceId": 3347069,
     "sourceType": "datasetVersion"
    }
   ],
   "dockerImageVersionId": 30683,
   "isGpuEnabled": true,
   "isInternetEnabled": true,
   "language": "python",
   "sourceType": "notebook"
  },
  "kernelspec": {
   "display_name": "Python 3",
   "language": "python",
   "name": "python3"
  },
  "language_info": {
   "codemirror_mode": {
    "name": "ipython",
    "version": 3
   },
   "file_extension": ".py",
   "mimetype": "text/x-python",
   "name": "python",
   "nbconvert_exporter": "python",
   "pygments_lexer": "ipython3",
   "version": "3.10.13"
  },
  "papermill": {
   "default_parameters": {},
   "duration": 11144.661854,
   "end_time": "2024-04-20T10:47:50.287039",
   "environment_variables": {},
   "exception": null,
   "input_path": "__notebook__.ipynb",
   "output_path": "__notebook__.ipynb",
   "parameters": {},
   "start_time": "2024-04-20T07:42:05.625185",
   "version": "2.5.0"
  }
 },
 "nbformat": 4,
 "nbformat_minor": 5
}
