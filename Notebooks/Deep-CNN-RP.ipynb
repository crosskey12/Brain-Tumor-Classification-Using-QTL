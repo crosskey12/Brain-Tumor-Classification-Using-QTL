{
 "cells": [
  {
   "cell_type": "code",
   "execution_count": 1,
   "id": "579e47e2",
   "metadata": {
    "_cell_guid": "b1076dfc-b9ad-4769-8c92-a6c4dae69d19",
    "_uuid": "8f2839f25d086af736a60e9eeb907d3b93b6e0e5",
    "execution": {
     "iopub.execute_input": "2024-04-16T16:32:11.987887Z",
     "iopub.status.busy": "2024-04-16T16:32:11.987543Z",
     "iopub.status.idle": "2024-04-16T16:32:12.686446Z",
     "shell.execute_reply": "2024-04-16T16:32:12.685697Z"
    },
    "papermill": {
     "duration": 0.707589,
     "end_time": "2024-04-16T16:32:12.688795",
     "exception": false,
     "start_time": "2024-04-16T16:32:11.981206",
     "status": "completed"
    },
    "tags": []
   },
   "outputs": [],
   "source": [
    "# This Python 3 environment comes with many helpful analytics libraries installed\n",
    "# It is defined by the kaggle/python Docker image: https://github.com/kaggle/docker-python\n",
    "# For example, here's several helpful packages to load\n",
    "\n",
    "import numpy as np # linear algebra\n",
    "import pandas as pd # data processing, CSV file I/O (e.g. pd.read_csv)\n",
    "\n",
    "# Input data files are available in the read-only \"../input/\" directory\n",
    "# For example, running this (by clicking run or pressing Shift+Enter) will list all files under the input directory\n",
    "\n",
    "import os\n",
    "\n",
    "\n",
    "# You can write up to 20GB to the current directory (/kaggle/working/) that gets preserved as output when you create a version using \"Save & Run All\" \n",
    "# You can also write temporary files to /kaggle/temp/, but they won't be saved outside of the current session"
   ]
  },
  {
   "cell_type": "code",
   "execution_count": 2,
   "id": "938cf891",
   "metadata": {
    "execution": {
     "iopub.execute_input": "2024-04-16T16:32:12.700155Z",
     "iopub.status.busy": "2024-04-16T16:32:12.699294Z",
     "iopub.status.idle": "2024-04-16T16:32:13.005662Z",
     "shell.execute_reply": "2024-04-16T16:32:13.004949Z"
    },
    "papermill": {
     "duration": 0.313923,
     "end_time": "2024-04-16T16:32:13.007848",
     "exception": false,
     "start_time": "2024-04-16T16:32:12.693925",
     "status": "completed"
    },
    "tags": []
   },
   "outputs": [],
   "source": [
    "import os\n",
    "import PIL\n",
    "import zipfile\n",
    "import numpy as np\n",
    "import pandas as pd\n",
    "import matplotlib.pyplot as plt\n",
    "import pickle\n",
    "import h5py\n",
    "import cv2"
   ]
  },
  {
   "cell_type": "code",
   "execution_count": 3,
   "id": "dc424208",
   "metadata": {
    "execution": {
     "iopub.execute_input": "2024-04-16T16:32:13.018303Z",
     "iopub.status.busy": "2024-04-16T16:32:13.018029Z",
     "iopub.status.idle": "2024-04-16T16:32:13.022941Z",
     "shell.execute_reply": "2024-04-16T16:32:13.022106Z"
    },
    "papermill": {
     "duration": 0.01242,
     "end_time": "2024-04-16T16:32:13.024918",
     "exception": false,
     "start_time": "2024-04-16T16:32:13.012498",
     "status": "completed"
    },
    "tags": []
   },
   "outputs": [],
   "source": [
    "os.mkdir(\"/kaggle/working/bt_images\")\n",
    "os.mkdir(\"/kaggle/working/bt_images/1\")\n",
    "os.mkdir(\"/kaggle/working/bt_images/2\")\n",
    "os.mkdir(\"/kaggle/working/bt_images/3\")"
   ]
  },
  {
   "cell_type": "code",
   "execution_count": 4,
   "id": "74f8e7f0",
   "metadata": {
    "execution": {
     "iopub.execute_input": "2024-04-16T16:32:13.034952Z",
     "iopub.status.busy": "2024-04-16T16:32:13.034669Z",
     "iopub.status.idle": "2024-04-16T16:33:46.549689Z",
     "shell.execute_reply": "2024-04-16T16:33:46.548291Z"
    },
    "papermill": {
     "duration": 93.533385,
     "end_time": "2024-04-16T16:33:46.562808",
     "exception": false,
     "start_time": "2024-04-16T16:32:13.029423",
     "status": "completed"
    },
    "tags": []
   },
   "outputs": [
    {
     "name": "stdout",
     "output_type": "stream",
     "text": [
      "3064 files successfully saved\n"
     ]
    },
    {
     "data": {
      "image/png": "[encoded data removed]",
      "text/plain": [
       "<Figure size 640x480 with 1 Axes>"
      ]
     },
     "metadata": {},
     "output_type": "display_data"
    }
   ],
   "source": [
    "labels=[]\n",
    "border=[]\n",
    "filename = None\n",
    "\n",
    "for filename in range(1, 3065):\n",
    "  with h5py.File('/kaggle/input/figshare-brain-tumor-dataset/dataset/data/{}.mat'.format(filename), 'r') as f:\n",
    "      img = f['cjdata']['image']\n",
    "      label = f['cjdata']['label'][0][0]\n",
    "     \n",
    "     \n",
    "      labels.append(int(label))\n",
    "      img = np.array(img, dtype=np.float32)\n",
    "      \n",
    "      plt.axis('off')\n",
    "      \n",
    "      plt.imsave(\"/kaggle/working/bt_images/{}/{}.jpg\".format(str(int(label)),filename), img, cmap='gray')\n",
    "      \n",
    "      \n",
    "print(\"{} files successfully saved\".format(filename))"
   ]
  },
  {
   "cell_type": "code",
   "execution_count": 5,
   "id": "2a71fecf",
   "metadata": {
    "execution": {
     "iopub.execute_input": "2024-04-16T16:33:46.585402Z",
     "iopub.status.busy": "2024-04-16T16:33:46.584936Z",
     "iopub.status.idle": "2024-04-16T16:34:00.380363Z",
     "shell.execute_reply": "2024-04-16T16:34:00.379333Z"
    },
    "papermill": {
     "duration": 13.808942,
     "end_time": "2024-04-16T16:34:00.382302",
     "exception": false,
     "start_time": "2024-04-16T16:33:46.573360",
     "status": "completed"
    },
    "tags": []
   },
   "outputs": [
    {
     "name": "stdout",
     "output_type": "stream",
     "text": [
      "Collecting split-folders\r\n",
      "  Downloading split_folders-0.5.1-py3-none-any.whl.metadata (6.2 kB)\r\n",
      "Downloading split_folders-0.5.1-py3-none-any.whl (8.4 kB)\r\n",
      "Installing collected packages: split-folders\r\n",
      "Successfully installed split-folders-0.5.1\r\n"
     ]
    },
    {
     "name": "stderr",
     "output_type": "stream",
     "text": [
      "Copying files: 3064 files [00:00, 6762.86 files/s]\n"
     ]
    }
   ],
   "source": [
    "!pip install split-folders\n",
    "import splitfolders\n",
    "splitfolders.ratio('/kaggle/working/bt_images', output=\"/kaggle/working/output\", seed=1337, ratio=(.8, 0.2,0.0)) "
   ]
  },
  {
   "cell_type": "code",
   "execution_count": 6,
   "id": "7e56d816",
   "metadata": {
    "execution": {
     "iopub.execute_input": "2024-04-16T16:34:00.395132Z",
     "iopub.status.busy": "2024-04-16T16:34:00.394852Z",
     "iopub.status.idle": "2024-04-16T16:34:07.637859Z",
     "shell.execute_reply": "2024-04-16T16:34:07.637046Z"
    },
    "papermill": {
     "duration": 7.252024,
     "end_time": "2024-04-16T16:34:07.640141",
     "exception": false,
     "start_time": "2024-04-16T16:34:00.388117",
     "status": "completed"
    },
    "tags": []
   },
   "outputs": [],
   "source": [
    "#packages for notebook\n",
    "import torch\n",
    "import torch.nn as nn\n",
    "import torch.nn.functional as F\n",
    "from torch.utils.data import DataLoader, Dataset\n",
    "from torchvision import transforms, models\n",
    "from torchvision.utils import make_grid\n",
    "import os\n",
    "import random\n",
    "import numpy as np\n",
    "import pandas as pd\n",
    "import pickle\n",
    "import time\n",
    "import matplotlib.pyplot as plt\n",
    "import seaborn as sns\n",
    "from sklearn.model_selection import train_test_split\n",
    "from sklearn.metrics import confusion_matrix, classification_report\n",
    "from torchvision.datasets import ImageFolder"
   ]
  },
  {
   "cell_type": "code",
   "execution_count": 7,
   "id": "5c38e3c2",
   "metadata": {
    "execution": {
     "iopub.execute_input": "2024-04-16T16:34:07.653300Z",
     "iopub.status.busy": "2024-04-16T16:34:07.652522Z",
     "iopub.status.idle": "2024-04-16T16:34:07.661616Z",
     "shell.execute_reply": "2024-04-16T16:34:07.660791Z"
    },
    "papermill": {
     "duration": 0.01735,
     "end_time": "2024-04-16T16:34:07.663379",
     "exception": false,
     "start_time": "2024-04-16T16:34:07.646029",
     "status": "completed"
    },
    "tags": []
   },
   "outputs": [],
   "source": [
    "rotation_angles = [45, 90, 135, 180, 225, 270, 315]\n",
    "    \n",
    "    # Define sigma values for Gaussian Blur\n",
    "sigma_values = [0.25, 0.5, 1.0, 2.0]\n",
    "    \n",
    "    # Define lightness values for sharpening\n",
    "lightness_values = [0.5, 1.0, 1.5, 2.0]\n",
    "    \n",
    "    # Define transformations\n",
    "transform = transforms.Compose([\n",
    "        transforms.Resize((256, 256)),\n",
    "        transforms.RandomChoice([\n",
    "            transforms.RandomRotation(angle) for angle in rotation_angles\n",
    "        ]),\n",
    "        transforms.RandomHorizontalFlip(p=0.5),\n",
    "        transforms.RandomVerticalFlip(p=0.5),\n",
    "        transforms.RandomApply([\n",
    "            transforms.GaussianBlur(kernel_size=23, sigma=(sigma, sigma)) for sigma in sigma_values\n",
    "        ], p=0.5),\n",
    "        transforms.RandomApply([\n",
    "            transforms.Lambda(lambda img: transforms.functional.adjust_sharpness(img, lightness)) \n",
    "            for lightness in lightness_values\n",
    "        ], p=0.5),\n",
    "        transforms.ToTensor(),\n",
    "        transforms.Normalize(mean=[0.485, 0.456, 0.406], std=[0.229, 0.224, 0.225])\n",
    "    ])"
   ]
  },
  {
   "cell_type": "code",
   "execution_count": 8,
   "id": "2d16f0ac",
   "metadata": {
    "execution": {
     "iopub.execute_input": "2024-04-16T16:34:07.675969Z",
     "iopub.status.busy": "2024-04-16T16:34:07.675404Z",
     "iopub.status.idle": "2024-04-16T16:34:07.679053Z",
     "shell.execute_reply": "2024-04-16T16:34:07.678231Z"
    },
    "papermill": {
     "duration": 0.01188,
     "end_time": "2024-04-16T16:34:07.680863",
     "exception": false,
     "start_time": "2024-04-16T16:34:07.668983",
     "status": "completed"
    },
    "tags": []
   },
   "outputs": [],
   "source": [
    "# transform = transforms.Compose([\n",
    "#     transforms.Resize((256, 256)),\n",
    "#     transforms.RandomHorizontalFlip(),\n",
    "#     transforms.RandomVerticalFlip(),\n",
    "#     transforms.ToTensor(),\n",
    "#     transforms.Normalize(mean=[0.485, 0.456, 0.406], std=[0.229, 0.224, 0.225]),\n",
    "# ])"
   ]
  },
  {
   "cell_type": "code",
   "execution_count": 9,
   "id": "25536853",
   "metadata": {
    "execution": {
     "iopub.execute_input": "2024-04-16T16:34:07.693307Z",
     "iopub.status.busy": "2024-04-16T16:34:07.692689Z",
     "iopub.status.idle": "2024-04-16T16:34:07.696095Z",
     "shell.execute_reply": "2024-04-16T16:34:07.695296Z"
    },
    "papermill": {
     "duration": 0.011543,
     "end_time": "2024-04-16T16:34:07.697923",
     "exception": false,
     "start_time": "2024-04-16T16:34:07.686380",
     "status": "completed"
    },
    "tags": []
   },
   "outputs": [],
   "source": [
    "#os.rmdir('/kaggle/working/output/train/0')\n",
    "# os.rmdir('/kaggle/working/output/val/0')"
   ]
  },
  {
   "cell_type": "code",
   "execution_count": 10,
   "id": "809c71a9",
   "metadata": {
    "execution": {
     "iopub.execute_input": "2024-04-16T16:34:07.710018Z",
     "iopub.status.busy": "2024-04-16T16:34:07.709769Z",
     "iopub.status.idle": "2024-04-16T16:34:07.728491Z",
     "shell.execute_reply": "2024-04-16T16:34:07.727856Z"
    },
    "papermill": {
     "duration": 0.026654,
     "end_time": "2024-04-16T16:34:07.730220",
     "exception": false,
     "start_time": "2024-04-16T16:34:07.703566",
     "status": "completed"
    },
    "tags": []
   },
   "outputs": [],
   "source": [
    "dataset_path=\"/kaggle/working/output\"\n",
    "batch_size=64\n",
    "train_dataset = ImageFolder(dataset_path+\"/train\", transform=transform)\n",
    "val_dataset = ImageFolder(dataset_path+\"/val\", transform=transform)\n",
    "train_loader = DataLoader(train_dataset, batch_size=batch_size, shuffle=True)\n",
    "test_loader = DataLoader(val_dataset, batch_size=batch_size, shuffle=True)"
   ]
  },
  {
   "cell_type": "code",
   "execution_count": 11,
   "id": "01613b8a",
   "metadata": {
    "execution": {
     "iopub.execute_input": "2024-04-16T16:34:07.742387Z",
     "iopub.status.busy": "2024-04-16T16:34:07.742139Z",
     "iopub.status.idle": "2024-04-16T16:34:07.746608Z",
     "shell.execute_reply": "2024-04-16T16:34:07.745695Z"
    },
    "papermill": {
     "duration": 0.012877,
     "end_time": "2024-04-16T16:34:07.748581",
     "exception": false,
     "start_time": "2024-04-16T16:34:07.735704",
     "status": "completed"
    },
    "tags": []
   },
   "outputs": [],
   "source": [
    "# # instantiate transfer learning model\n",
    "# resnet_model = models.resnet50(pretrained=True)\n",
    "\n",
    "# # set all parameters as not trainable\n",
    "# for param in resnet_model.parameters():\n",
    "#     param.requires_grad = False\n",
    "\n",
    "# # get input of fc layer\n",
    "# n_inputs = resnet_model.fc.in_features\n",
    "\n",
    "# # redefine fc layer / top layer / head for our classification problem\n",
    "# resnet_model.fc = nn.Sequential(\n",
    "#     nn.Linear(n_inputs, 2048),\n",
    "#     nn.SELU(),\n",
    "#     nn.Dropout(p=0.4),\n",
    "#     nn.Linear(2048, 1024),\n",
    "#     nn.SELU(),\n",
    "#     nn.Dropout(p=0.4),\n",
    "#     nn.Linear(1024, 512),\n",
    "#     nn.SELU(),\n",
    "#     nn.Dropout(p=0.4),\n",
    "#     nn.Linear(512, 256),\n",
    "#     nn.SELU(),\n",
    "#     nn.Dropout(p=0.4),\n",
    "#     nn.Linear(256, 3)  # Assuming 4 classes\n",
    "# )\n",
    "\n",
    "# # Make only the last 2 layers (fc layer and the final activation) trainable\n",
    "# for name, child in resnet_model.named_children():\n",
    "#     if name == 'fc'or name=='layer4':\n",
    "#         for param in child.parameters():\n",
    "#             param.requires_grad = True\n",
    "\n",
    "# # set model to run on GPU or CPU based on availability (not shown in your code)\n",
    "# resnet_model.cuda()\n",
    "# # print the transfer\n",
    "# print(resnet_model)"
   ]
  },
  {
   "cell_type": "code",
   "execution_count": 12,
   "id": "8965ad27",
   "metadata": {
    "execution": {
     "iopub.execute_input": "2024-04-16T16:34:07.762316Z",
     "iopub.status.busy": "2024-04-16T16:34:07.762050Z",
     "iopub.status.idle": "2024-04-16T16:34:08.074752Z",
     "shell.execute_reply": "2024-04-16T16:34:08.073603Z"
    },
    "papermill": {
     "duration": 0.321804,
     "end_time": "2024-04-16T16:34:08.077137",
     "exception": false,
     "start_time": "2024-04-16T16:34:07.755333",
     "status": "completed"
    },
    "tags": []
   },
   "outputs": [
    {
     "name": "stdout",
     "output_type": "stream",
     "text": [
      "MyModel(\n",
      "  (conv1): Conv2d(3, 32, kernel_size=(3, 3), stride=(1, 1))\n",
      "  (relu1): ReLU()\n",
      "  (batchnorm1): BatchNorm2d(32, eps=1e-05, momentum=0.1, affine=True, track_running_stats=True)\n",
      "  (conv2): Conv2d(32, 64, kernel_size=(3, 3), stride=(1, 1))\n",
      "  (relu2): ReLU()\n",
      "  (batchnorm2): BatchNorm2d(64, eps=1e-05, momentum=0.1, affine=True, track_running_stats=True)\n",
      "  (maxpool1): MaxPool2d(kernel_size=2, stride=2, padding=0, dilation=1, ceil_mode=False)\n",
      "  (conv3): Conv2d(64, 96, kernel_size=(3, 3), stride=(1, 1))\n",
      "  (relu3): ReLU()\n",
      "  (batchnorm3): BatchNorm2d(96, eps=1e-05, momentum=0.1, affine=True, track_running_stats=True)\n",
      "  (conv4): Conv2d(96, 128, kernel_size=(3, 3), stride=(1, 1))\n",
      "  (relu4): ReLU()\n",
      "  (batchnorm4): BatchNorm2d(128, eps=1e-05, momentum=0.1, affine=True, track_running_stats=True)\n",
      "  (maxpool2): MaxPool2d(kernel_size=2, stride=2, padding=0, dilation=1, ceil_mode=False)\n",
      "  (conv5): Conv2d(128, 160, kernel_size=(3, 3), stride=(1, 1))\n",
      "  (relu5): ReLU()\n",
      "  (batchnorm5): BatchNorm2d(160, eps=1e-05, momentum=0.1, affine=True, track_running_stats=True)\n",
      "  (conv6): Conv2d(160, 192, kernel_size=(3, 3), stride=(1, 1))\n",
      "  (relu6): ReLU()\n",
      "  (batchnorm6): BatchNorm2d(192, eps=1e-05, momentum=0.1, affine=True, track_running_stats=True)\n",
      "  (maxpool3): MaxPool2d(kernel_size=2, stride=2, padding=0, dilation=1, ceil_mode=False)\n",
      "  (conv7): Conv2d(192, 224, kernel_size=(3, 3), stride=(1, 1))\n",
      "  (relu7): ReLU()\n",
      "  (batchnorm7): BatchNorm2d(224, eps=1e-05, momentum=0.1, affine=True, track_running_stats=True)\n",
      "  (conv8): Conv2d(224, 256, kernel_size=(3, 3), stride=(1, 1))\n",
      "  (relu8): ReLU()\n",
      "  (batchnorm8): BatchNorm2d(256, eps=1e-05, momentum=0.1, affine=True, track_running_stats=True)\n",
      "  (maxpool4): MaxPool2d(kernel_size=2, stride=2, padding=0, dilation=1, ceil_mode=False)\n",
      "  (conv9): Conv2d(256, 288, kernel_size=(3, 3), stride=(1, 1))\n",
      "  (relu9): ReLU()\n",
      "  (batchnorm9): BatchNorm2d(288, eps=1e-05, momentum=0.1, affine=True, track_running_stats=True)\n",
      "  (conv10): Conv2d(288, 320, kernel_size=(3, 3), stride=(1, 1))\n",
      "  (relu10): ReLU()\n",
      "  (batchnorm10): BatchNorm2d(320, eps=1e-05, momentum=0.1, affine=True, track_running_stats=True)\n",
      "  (maxpool5): MaxPool2d(kernel_size=2, stride=2, padding=0, dilation=1, ceil_mode=False)\n",
      "  (flatten): Flatten(start_dim=1, end_dim=-1)\n",
      "  (dense1): Linear(in_features=5120, out_features=64, bias=True)\n",
      "  (dense2): Linear(in_features=64, out_features=3, bias=True)\n",
      ")\n"
     ]
    }
   ],
   "source": [
    "import torch\n",
    "import torch.nn as nn\n",
    "\n",
    "class MyModel(nn.Module):\n",
    "    def __init__(self):\n",
    "        super(MyModel, self).__init__()\n",
    "        self.conv1 = nn.Conv2d(in_channels=3, out_channels=32, kernel_size=3)\n",
    "        self.relu1 = nn.ReLU()\n",
    "        self.batchnorm1 = nn.BatchNorm2d(32)\n",
    "        \n",
    "        self.conv2 = nn.Conv2d(in_channels=32, out_channels=64, kernel_size=3)\n",
    "        self.relu2 = nn.ReLU()\n",
    "        self.batchnorm2 = nn.BatchNorm2d(64)\n",
    "        \n",
    "        self.maxpool1 = nn.MaxPool2d(kernel_size=2)\n",
    "        \n",
    "        self.conv3 = nn.Conv2d(in_channels=64, out_channels=96, kernel_size=3)\n",
    "        self.relu3 = nn.ReLU()\n",
    "        self.batchnorm3 = nn.BatchNorm2d(96)\n",
    "        \n",
    "        self.conv4 = nn.Conv2d(in_channels=96, out_channels=128, kernel_size=3)\n",
    "        self.relu4 = nn.ReLU()\n",
    "        self.batchnorm4 = nn.BatchNorm2d(128)\n",
    "        \n",
    "        self.maxpool2 = nn.MaxPool2d(kernel_size=2)\n",
    "        \n",
    "        self.conv5 = nn.Conv2d(in_channels=128, out_channels=160, kernel_size=3)\n",
    "        self.relu5 = nn.ReLU()\n",
    "        self.batchnorm5 = nn.BatchNorm2d(160)\n",
    "        \n",
    "        self.conv6 = nn.Conv2d(in_channels=160, out_channels=192, kernel_size=3)\n",
    "        self.relu6 = nn.ReLU()\n",
    "        self.batchnorm6 = nn.BatchNorm2d(192)\n",
    "        \n",
    "        self.maxpool3 = nn.MaxPool2d(kernel_size=2)\n",
    "        \n",
    "        self.conv7 = nn.Conv2d(in_channels=192, out_channels=224, kernel_size=3)\n",
    "        self.relu7 = nn.ReLU()\n",
    "        self.batchnorm7 = nn.BatchNorm2d(224)\n",
    "        \n",
    "        self.conv8 = nn.Conv2d(in_channels=224, out_channels=256, kernel_size=3)\n",
    "        self.relu8 = nn.ReLU()\n",
    "        self.batchnorm8 = nn.BatchNorm2d(256)\n",
    "        \n",
    "        self.maxpool4 = nn.MaxPool2d(kernel_size=2)\n",
    "        \n",
    "        self.conv9 = nn.Conv2d(in_channels=256, out_channels=288, kernel_size=3)\n",
    "        self.relu9 = nn.ReLU()\n",
    "        self.batchnorm9 = nn.BatchNorm2d(288)\n",
    "        \n",
    "        self.conv10 = nn.Conv2d(in_channels=288, out_channels=320, kernel_size=3)\n",
    "        self.relu10 = nn.ReLU()\n",
    "        self.batchnorm10 = nn.BatchNorm2d(320)\n",
    "        \n",
    "        self.maxpool5 = nn.MaxPool2d(kernel_size=2)\n",
    "        \n",
    "        self.flatten = nn.Flatten()\n",
    "        self.dense1 = nn.Linear(320 * 4 * 4, 64)\n",
    "        self.dense2 = nn.Linear(64,3)\n",
    "\n",
    "    def forward(self, x):\n",
    "        x = self.batchnorm1(self.relu1(self.conv1(x)))\n",
    "        x = self.batchnorm2(self.relu2(self.conv2(x)))\n",
    "        x = self.maxpool1(x)\n",
    "        x = self.batchnorm3(self.relu3(self.conv3(x)))\n",
    "        x = self.batchnorm4(self.relu4(self.conv4(x)))\n",
    "        x = self.maxpool2(x)\n",
    "        x = self.batchnorm5(self.relu5(self.conv5(x)))\n",
    "        x = self.batchnorm6(self.relu6(self.conv6(x)))\n",
    "        x = self.maxpool3(x)\n",
    "        x = self.batchnorm7(self.relu7(self.conv7(x)))\n",
    "        x = self.batchnorm8(self.relu8(self.conv8(x)))\n",
    "        x = self.maxpool4(x)\n",
    "        x = self.batchnorm9(self.relu9(self.conv9(x)))\n",
    "        x = self.batchnorm10(self.relu10(self.conv10(x)))\n",
    "        x = self.maxpool5(x)\n",
    "        x = self.flatten(x)\n",
    "        x = self.dense1(x)\n",
    "        x = self.dense2(x)\n",
    "        return x\n",
    "\n",
    "# Test the model\n",
    "resnet_model = MyModel()\n",
    "resnet_model.cuda()\n",
    "print(resnet_model)\n"
   ]
  },
  {
   "cell_type": "code",
   "execution_count": 13,
   "id": "b0b9d034",
   "metadata": {
    "execution": {
     "iopub.execute_input": "2024-04-16T16:34:08.094606Z",
     "iopub.status.busy": "2024-04-16T16:34:08.093876Z",
     "iopub.status.idle": "2024-04-16T19:52:29.688340Z",
     "shell.execute_reply": "2024-04-16T19:52:29.687411Z"
    },
    "papermill": {
     "duration": 11901.606015,
     "end_time": "2024-04-16T19:52:29.690287",
     "exception": false,
     "start_time": "2024-04-16T16:34:08.084272",
     "status": "completed"
    },
    "tags": []
   },
   "outputs": [
    {
     "name": "stdout",
     "output_type": "stream",
     "text": [
      "Epoch [1/50], Train Loss: 1.5219, Train Acc: 0.5457, Val Loss: 1.0123, Val Acc: 0.5735\n",
      "Epoch [2/50], Train Loss: 0.8362, Train Acc: 0.6620, Val Loss: 0.8931, Val Acc: 0.5899\n",
      "Epoch [3/50], Train Loss: 0.7962, Train Acc: 0.6743, Val Loss: 0.7642, Val Acc: 0.7190\n",
      "Epoch [4/50], Train Loss: 0.6950, Train Acc: 0.7082, Val Loss: 0.9147, Val Acc: 0.6650\n",
      "Epoch [5/50], Train Loss: 0.5759, Train Acc: 0.7661, Val Loss: 0.5669, Val Acc: 0.7451\n",
      "Epoch [6/50], Train Loss: 0.5266, Train Acc: 0.7739, Val Loss: 0.7905, Val Acc: 0.6716\n",
      "Epoch [7/50], Train Loss: 0.4634, Train Acc: 0.8118, Val Loss: 0.5474, Val Acc: 0.7745\n",
      "Epoch [8/50], Train Loss: 0.4307, Train Acc: 0.8257, Val Loss: 0.5344, Val Acc: 0.7794\n",
      "Epoch [9/50], Train Loss: 0.3831, Train Acc: 0.8429, Val Loss: 0.4740, Val Acc: 0.8056\n",
      "Epoch [10/50], Train Loss: 0.3851, Train Acc: 0.8396, Val Loss: 0.6240, Val Acc: 0.7680\n",
      "Epoch [11/50], Train Loss: 0.3742, Train Acc: 0.8441, Val Loss: 0.4278, Val Acc: 0.8431\n",
      "Epoch [12/50], Train Loss: 0.3054, Train Acc: 0.8743, Val Loss: 0.4591, Val Acc: 0.8121\n",
      "Epoch [13/50], Train Loss: 0.3013, Train Acc: 0.8853, Val Loss: 0.7201, Val Acc: 0.7565\n",
      "Epoch [14/50], Train Loss: 0.3104, Train Acc: 0.8718, Val Loss: 0.9225, Val Acc: 0.6699\n",
      "Epoch [15/50], Train Loss: 0.3024, Train Acc: 0.8771, Val Loss: 0.6151, Val Acc: 0.7778\n",
      "Epoch [16/50], Train Loss: 0.2924, Train Acc: 0.8804, Val Loss: 0.6195, Val Acc: 0.7761\n",
      "Epoch [17/50], Train Loss: 0.2578, Train Acc: 0.8959, Val Loss: 0.4422, Val Acc: 0.8513\n",
      "Epoch [18/50], Train Loss: 0.2763, Train Acc: 0.8951, Val Loss: 0.4426, Val Acc: 0.8448\n",
      "Epoch [19/50], Train Loss: 0.2768, Train Acc: 0.8910, Val Loss: 0.3574, Val Acc: 0.8742\n",
      "Epoch [20/50], Train Loss: 0.2693, Train Acc: 0.8947, Val Loss: 0.3215, Val Acc: 0.8725\n",
      "Epoch [21/50], Train Loss: 0.2461, Train Acc: 0.9065, Val Loss: 0.3022, Val Acc: 0.8709\n",
      "Epoch [22/50], Train Loss: 0.2372, Train Acc: 0.9114, Val Loss: 0.5556, Val Acc: 0.7549\n",
      "Epoch [23/50], Train Loss: 0.2406, Train Acc: 0.9078, Val Loss: 0.2773, Val Acc: 0.8889\n",
      "Epoch [24/50], Train Loss: 0.2285, Train Acc: 0.9118, Val Loss: 0.4528, Val Acc: 0.8088\n",
      "Epoch [25/50], Train Loss: 0.2212, Train Acc: 0.9180, Val Loss: 0.6435, Val Acc: 0.7631\n",
      "Epoch [26/50], Train Loss: 0.2317, Train Acc: 0.9057, Val Loss: 0.4278, Val Acc: 0.8333\n",
      "Epoch [27/50], Train Loss: 0.2186, Train Acc: 0.9139, Val Loss: 0.3747, Val Acc: 0.8595\n",
      "Epoch [28/50], Train Loss: 0.2042, Train Acc: 0.9237, Val Loss: 0.2225, Val Acc: 0.9150\n",
      "Epoch [29/50], Train Loss: 0.2189, Train Acc: 0.9229, Val Loss: 0.3620, Val Acc: 0.8497\n",
      "Epoch [30/50], Train Loss: 0.1855, Train Acc: 0.9257, Val Loss: 0.3592, Val Acc: 0.8497\n",
      "Epoch [31/50], Train Loss: 0.1856, Train Acc: 0.9278, Val Loss: 0.3464, Val Acc: 0.8660\n",
      "Epoch [32/50], Train Loss: 0.1794, Train Acc: 0.9298, Val Loss: 0.2584, Val Acc: 0.9036\n",
      "Epoch [33/50], Train Loss: 0.1795, Train Acc: 0.9327, Val Loss: 0.2375, Val Acc: 0.9069\n",
      "Epoch [34/50], Train Loss: 0.1761, Train Acc: 0.9396, Val Loss: 0.7511, Val Acc: 0.7663\n",
      "Epoch [35/50], Train Loss: 0.1565, Train Acc: 0.9441, Val Loss: 0.2946, Val Acc: 0.8954\n",
      "Epoch [36/50], Train Loss: 0.1729, Train Acc: 0.9355, Val Loss: 0.4986, Val Acc: 0.8399\n",
      "Epoch [37/50], Train Loss: 0.1785, Train Acc: 0.9327, Val Loss: 0.2767, Val Acc: 0.8922\n",
      "Epoch [38/50], Train Loss: 0.1348, Train Acc: 0.9482, Val Loss: 0.2514, Val Acc: 0.9150\n",
      "Epoch [39/50], Train Loss: 0.1694, Train Acc: 0.9343, Val Loss: 0.2576, Val Acc: 0.9118\n",
      "Epoch [40/50], Train Loss: 0.1630, Train Acc: 0.9355, Val Loss: 0.2681, Val Acc: 0.9036\n",
      "Epoch [41/50], Train Loss: 0.1590, Train Acc: 0.9400, Val Loss: 0.2457, Val Acc: 0.9052\n",
      "Epoch [42/50], Train Loss: 0.1501, Train Acc: 0.9429, Val Loss: 0.2227, Val Acc: 0.9167\n",
      "Epoch [43/50], Train Loss: 0.1224, Train Acc: 0.9514, Val Loss: 0.2471, Val Acc: 0.9150\n",
      "Epoch [44/50], Train Loss: 0.1262, Train Acc: 0.9527, Val Loss: 0.2039, Val Acc: 0.9248\n",
      "Epoch [45/50], Train Loss: 0.1381, Train Acc: 0.9494, Val Loss: 0.2473, Val Acc: 0.9069\n",
      "Epoch [46/50], Train Loss: 0.1403, Train Acc: 0.9502, Val Loss: 0.2427, Val Acc: 0.9118\n",
      "Epoch [47/50], Train Loss: 0.1307, Train Acc: 0.9543, Val Loss: 0.2741, Val Acc: 0.8971\n",
      "Epoch [48/50], Train Loss: 0.1240, Train Acc: 0.9567, Val Loss: 0.2572, Val Acc: 0.9101\n",
      "Epoch [49/50], Train Loss: 0.1478, Train Acc: 0.9392, Val Loss: 0.4795, Val Acc: 0.8676\n",
      "Epoch [50/50], Train Loss: 0.1606, Train Acc: 0.9355, Val Loss: 0.2764, Val Acc: 0.8971\n"
     ]
    },
    {
     "data": {
      "image/png": "[encoded data removed]",
      "text/plain": [
       "<Figure size 640x480 with 1 Axes>"
      ]
     },
     "metadata": {},
     "output_type": "display_data"
    },
    {
     "data": {
      "image/png": "[encoded data removed]",
      "text/plain": [
       "<Figure size 640x480 with 1 Axes>"
      ]
     },
     "metadata": {},
     "output_type": "display_data"
    }
   ],
   "source": [
    "import os\n",
    "import torch\n",
    "import torch.nn as nn\n",
    "import torch.optim as optim\n",
    "from torch.utils.data import DataLoader\n",
    "import torchvision.transforms as transforms\n",
    "from torchvision.datasets import ImageFolder\n",
    "import matplotlib.pyplot as plt\n",
    "from sklearn.metrics import accuracy_score\n",
    "# Define loss function and optimizer\n",
    "criterion = nn.CrossEntropyLoss()\n",
    "optimizer = optim.Adam(resnet_model.parameters(), lr=0.001)\n",
    "\n",
    "# Function to calculate accuracy\n",
    "def get_accuracy(outputs, labels):\n",
    "    _, predicted = torch.max(outputs, 1)\n",
    "    correct = (predicted == labels).sum().item()\n",
    "    return correct / labels.size(0)\n",
    "\n",
    "# Training the model\n",
    "num_epochs = 50\n",
    "train_losses = []\n",
    "val_losses = []\n",
    "train_accs = []\n",
    "val_accs = []\n",
    "\n",
    "for epoch in range(num_epochs):\n",
    "    resnet_model.train()\n",
    "    running_loss = 0.0\n",
    "    total_train = 0\n",
    "    correct_train = 0\n",
    "\n",
    "    for images, labels in train_loader:\n",
    "        images = images.cuda() if torch.cuda.is_available() else images\n",
    "        labels = labels.cuda() if torch.cuda.is_available() else labels\n",
    "\n",
    "        optimizer.zero_grad()\n",
    "        outputs = resnet_model(images)\n",
    "        loss = criterion(outputs, labels)\n",
    "        loss.backward()\n",
    "        optimizer.step()\n",
    "\n",
    "        running_loss += loss.item()\n",
    "        total_train += labels.size(0)\n",
    "        correct_train += (torch.argmax(outputs, 1) == labels).sum().item()\n",
    "\n",
    "    train_acc = correct_train / total_train\n",
    "    train_accs.append(train_acc)\n",
    "    train_losses.append(running_loss / len(train_loader))\n",
    "\n",
    "    # Evaluating on validation set\n",
    "    resnet_model.eval()\n",
    "    val_loss = 0.0\n",
    "    total_val = 0\n",
    "    correct_val = 0\n",
    "\n",
    "    with torch.no_grad():\n",
    "        for images, labels in test_loader:\n",
    "            images = images.cuda() if torch.cuda.is_available() else images\n",
    "            labels = labels.cuda() if torch.cuda.is_available() else labels\n",
    "\n",
    "            outputs = resnet_model(images)\n",
    "            loss = criterion(outputs, labels)\n",
    "\n",
    "            val_loss += loss.item()\n",
    "            total_val += labels.size(0)\n",
    "            correct_val += (torch.argmax(outputs, 1) == labels).sum().item()\n",
    "\n",
    "    val_acc = correct_val / total_val\n",
    "    val_accs.append(val_acc)\n",
    "    val_losses.append(val_loss / len(test_loader))\n",
    "\n",
    "    print(f'Epoch [{epoch + 1}/{num_epochs}], '\n",
    "          f'Train Loss: {train_losses[-1]:.4f}, Train Acc: {train_acc:.4f}, '\n",
    "          f'Val Loss: {val_losses[-1]:.4f}, Val Acc: {val_acc:.4f}')\n",
    "\n",
    "# Plotting the training process\n",
    "plt.plot(train_losses, label='Train Loss')\n",
    "plt.plot(val_losses, label='Validation Loss')\n",
    "plt.xlabel('Epochs')\n",
    "plt.ylabel('Loss')\n",
    "plt.legend()\n",
    "plt.show()\n",
    "\n",
    "plt.plot(train_accs, label='Train Accuracy')\n",
    "plt.plot(val_accs, label='Validation Accuracy')\n",
    "plt.xlabel('Epochs')\n",
    "plt.ylabel('Accuracy')\n",
    "plt.legend()\n",
    "plt.show()"
   ]
  },
  {
   "cell_type": "code",
   "execution_count": null,
   "id": "2f01cbcb",
   "metadata": {
    "papermill": {
     "duration": 0.011229,
     "end_time": "2024-04-16T19:52:29.713911",
     "exception": false,
     "start_time": "2024-04-16T19:52:29.702682",
     "status": "completed"
    },
    "tags": []
   },
   "outputs": [],
   "source": []
  }
 ],
 "metadata": {
  "kaggle": {
   "accelerator": "gpu",
   "dataSources": [
    {
     "datasetId": 2020131,
     "sourceId": 3347069,
     "sourceType": "datasetVersion"
    }
   ],
   "dockerImageVersionId": 30683,
   "isGpuEnabled": true,
   "isInternetEnabled": true,
   "language": "python",
   "sourceType": "notebook"
  },
  "kernelspec": {
   "display_name": "Python 3",
   "language": "python",
   "name": "python3"
  },
  "language_info": {
   "codemirror_mode": {
    "name": "ipython",
    "version": 3
   },
   "file_extension": ".py",
   "mimetype": "text/x-python",
   "name": "python",
   "nbconvert_exporter": "python",
   "pygments_lexer": "ipython3",
   "version": "3.10.13"
  },
  "papermill": {
   "default_parameters": {},
   "duration": 12022.852996,
   "end_time": "2024-04-16T19:52:32.175692",
   "environment_variables": {},
   "exception": null,
   "input_path": "__notebook__.ipynb",
   "output_path": "__notebook__.ipynb",
   "parameters": {},
   "start_time": "2024-04-16T16:32:09.322696",
   "version": "2.5.0"
  }
 },
 "nbformat": 4,
 "nbformat_minor": 5
}
