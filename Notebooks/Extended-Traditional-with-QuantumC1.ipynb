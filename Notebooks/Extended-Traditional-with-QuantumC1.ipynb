{
 "cells": [
  {
   "cell_type": "code",
   "execution_count": 1,
   "id": "a2e60f16",
   "metadata": {
    "_cell_guid": "b1076dfc-b9ad-4769-8c92-a6c4dae69d19",
    "_uuid": "8f2839f25d086af736a60e9eeb907d3b93b6e0e5",
    "execution": {
     "iopub.execute_input": "2024-04-21T13:29:43.229897Z",
     "iopub.status.busy": "2024-04-21T13:29:43.229565Z",
     "iopub.status.idle": "2024-04-21T13:29:44.188436Z",
     "shell.execute_reply": "2024-04-21T13:29:44.187495Z"
    },
    "papermill": {
     "duration": 0.973103,
     "end_time": "2024-04-21T13:29:44.190767",
     "exception": false,
     "start_time": "2024-04-21T13:29:43.217664",
     "status": "completed"
    },
    "tags": []
   },
   "outputs": [
    {
     "name": "stdout",
     "output_type": "stream",
     "text": [
      "Python 3.10.13\r\n"
     ]
    }
   ],
   "source": [
    "!python --version"
   ]
  },
  {
   "cell_type": "code",
   "execution_count": 2,
   "id": "8a17d42e",
   "metadata": {
    "execution": {
     "iopub.execute_input": "2024-04-21T13:29:44.212859Z",
     "iopub.status.busy": "2024-04-21T13:29:44.212553Z",
     "iopub.status.idle": "2024-04-21T13:30:00.276061Z",
     "shell.execute_reply": "2024-04-21T13:30:00.274867Z"
    },
    "papermill": {
     "duration": 16.077337,
     "end_time": "2024-04-21T13:30:00.278554",
     "exception": false,
     "start_time": "2024-04-21T13:29:44.201217",
     "status": "completed"
    },
    "tags": []
   },
   "outputs": [
    {
     "name": "stdout",
     "output_type": "stream",
     "text": [
      "Collecting pennylane\r\n",
      "  Downloading PennyLane-0.35.1-py3-none-any.whl.metadata (9.1 kB)\r\n",
      "Requirement already satisfied: numpy in /opt/conda/lib/python3.10/site-packages (from pennylane) (1.24.4)\r\n",
      "Requirement already satisfied: scipy in /opt/conda/lib/python3.10/site-packages (from pennylane) (1.11.4)\r\n",
      "Requirement already satisfied: networkx in /opt/conda/lib/python3.10/site-packages (from pennylane) (3.2.1)\r\n",
      "Collecting rustworkx (from pennylane)\r\n",
      "  Downloading rustworkx-0.14.2-cp310-cp310-manylinux_2_17_x86_64.manylinux2014_x86_64.whl.metadata (10.0 kB)\r\n",
      "Collecting autograd (from pennylane)\r\n",
      "  Downloading autograd-1.6.2-py3-none-any.whl.metadata (706 bytes)\r\n",
      "Requirement already satisfied: toml in /opt/conda/lib/python3.10/site-packages (from pennylane) (0.10.2)\r\n",
      "Requirement already satisfied: appdirs in /opt/conda/lib/python3.10/site-packages (from pennylane) (1.4.4)\r\n",
      "Collecting semantic-version>=2.7 (from pennylane)\r\n",
      "  Downloading semantic_version-2.10.0-py2.py3-none-any.whl.metadata (9.7 kB)\r\n",
      "Collecting autoray>=0.6.1 (from pennylane)\r\n",
      "  Downloading autoray-0.6.9-py3-none-any.whl.metadata (5.7 kB)\r\n",
      "Requirement already satisfied: cachetools in /opt/conda/lib/python3.10/site-packages (from pennylane) (4.2.4)\r\n",
      "Collecting pennylane-lightning>=0.35 (from pennylane)\r\n",
      "  Downloading PennyLane_Lightning-0.35.1-cp310-cp310-manylinux_2_17_x86_64.manylinux2014_x86_64.whl.metadata (22 kB)\r\n",
      "Requirement already satisfied: requests in /opt/conda/lib/python3.10/site-packages (from pennylane) (2.31.0)\r\n",
      "Requirement already satisfied: typing-extensions in /opt/conda/lib/python3.10/site-packages (from pennylane) (4.9.0)\r\n",
      "Requirement already satisfied: future>=0.15.2 in /opt/conda/lib/python3.10/site-packages (from autograd->pennylane) (0.18.3)\r\n",
      "Requirement already satisfied: charset-normalizer<4,>=2 in /opt/conda/lib/python3.10/site-packages (from requests->pennylane) (3.3.2)\r\n",
      "Requirement already satisfied: idna<4,>=2.5 in /opt/conda/lib/python3.10/site-packages (from requests->pennylane) (3.6)\r\n",
      "Requirement already satisfied: urllib3<3,>=1.21.1 in /opt/conda/lib/python3.10/site-packages (from requests->pennylane) (1.26.18)\r\n",
      "Requirement already satisfied: certifi>=2017.4.17 in /opt/conda/lib/python3.10/site-packages (from requests->pennylane) (2023.11.17)\r\n",
      "Downloading PennyLane-0.35.1-py3-none-any.whl (1.6 MB)\r\n",
      "\u001b[2K   \u001b[90m━━━━━━━━━━━━━━━━━━━━━━━━━━━━━━━━━━━━━━━━\u001b[0m \u001b[32m1.6/1.6 MB\u001b[0m \u001b[31m33.2 MB/s\u001b[0m eta \u001b[36m0:00:00\u001b[0m\r\n",
      "\u001b[?25hDownloading autoray-0.6.9-py3-none-any.whl (49 kB)\r\n",
      "\u001b[2K   \u001b[90m━━━━━━━━━━━━━━━━━━━━━━━━━━━━━━━━━━━━━━━━\u001b[0m \u001b[32m49.8/49.8 kB\u001b[0m \u001b[31m3.3 MB/s\u001b[0m eta \u001b[36m0:00:00\u001b[0m\r\n",
      "\u001b[?25hDownloading PennyLane_Lightning-0.35.1-cp310-cp310-manylinux_2_17_x86_64.manylinux2014_x86_64.whl (18.5 MB)\r\n",
      "\u001b[2K   \u001b[90m━━━━━━━━━━━━━━━━━━━━━━━━━━━━━━━━━━━━━━━━\u001b[0m \u001b[32m18.5/18.5 MB\u001b[0m \u001b[31m68.2 MB/s\u001b[0m eta \u001b[36m0:00:00\u001b[0m\r\n",
      "\u001b[?25hDownloading semantic_version-2.10.0-py2.py3-none-any.whl (15 kB)\r\n",
      "Downloading autograd-1.6.2-py3-none-any.whl (49 kB)\r\n",
      "\u001b[2K   \u001b[90m━━━━━━━━━━━━━━━━━━━━━━━━━━━━━━━━━━━━━━━━\u001b[0m \u001b[32m49.3/49.3 kB\u001b[0m \u001b[31m3.2 MB/s\u001b[0m eta \u001b[36m0:00:00\u001b[0m\r\n",
      "\u001b[?25hDownloading rustworkx-0.14.2-cp310-cp310-manylinux_2_17_x86_64.manylinux2014_x86_64.whl (2.1 MB)\r\n",
      "\u001b[2K   \u001b[90m━━━━━━━━━━━━━━━━━━━━━━━━━━━━━━━━━━━━━━━━\u001b[0m \u001b[32m2.1/2.1 MB\u001b[0m \u001b[31m51.7 MB/s\u001b[0m eta \u001b[36m0:00:00\u001b[0m\r\n",
      "\u001b[?25hInstalling collected packages: semantic-version, rustworkx, autoray, autograd, pennylane-lightning, pennylane\r\n",
      "Successfully installed autograd-1.6.2 autoray-0.6.9 pennylane-0.35.1 pennylane-lightning-0.35.1 rustworkx-0.14.2 semantic-version-2.10.0\r\n"
     ]
    }
   ],
   "source": [
    "!pip install pennylane"
   ]
  },
  {
   "cell_type": "code",
   "execution_count": 3,
   "id": "b33f6bc6",
   "metadata": {
    "execution": {
     "iopub.execute_input": "2024-04-21T13:30:00.304116Z",
     "iopub.status.busy": "2024-04-21T13:30:00.303781Z",
     "iopub.status.idle": "2024-04-21T13:30:12.626031Z",
     "shell.execute_reply": "2024-04-21T13:30:12.625107Z"
    },
    "papermill": {
     "duration": 12.337461,
     "end_time": "2024-04-21T13:30:12.628313",
     "exception": false,
     "start_time": "2024-04-21T13:30:00.290852",
     "status": "completed"
    },
    "tags": []
   },
   "outputs": [
    {
     "name": "stdout",
     "output_type": "stream",
     "text": [
      "Collecting split-folders\r\n",
      "  Downloading split_folders-0.5.1-py3-none-any.whl.metadata (6.2 kB)\r\n",
      "Downloading split_folders-0.5.1-py3-none-any.whl (8.4 kB)\r\n",
      "Installing collected packages: split-folders\r\n",
      "Successfully installed split-folders-0.5.1\r\n"
     ]
    }
   ],
   "source": [
    "!pip install split-folders"
   ]
  },
  {
   "cell_type": "code",
   "execution_count": 4,
   "id": "03538dcf",
   "metadata": {
    "execution": {
     "iopub.execute_input": "2024-04-21T13:30:12.655665Z",
     "iopub.status.busy": "2024-04-21T13:30:12.655315Z",
     "iopub.status.idle": "2024-04-21T13:30:27.435628Z",
     "shell.execute_reply": "2024-04-21T13:30:27.434834Z"
    },
    "papermill": {
     "duration": 14.796943,
     "end_time": "2024-04-21T13:30:27.437883",
     "exception": false,
     "start_time": "2024-04-21T13:30:12.640940",
     "status": "completed"
    },
    "tags": []
   },
   "outputs": [
    {
     "name": "stderr",
     "output_type": "stream",
     "text": [
      "2024-04-21 13:30:15.207872: E external/local_xla/xla/stream_executor/cuda/cuda_dnn.cc:9261] Unable to register cuDNN factory: Attempting to register factory for plugin cuDNN when one has already been registered\n",
      "2024-04-21 13:30:15.207993: E external/local_xla/xla/stream_executor/cuda/cuda_fft.cc:607] Unable to register cuFFT factory: Attempting to register factory for plugin cuFFT when one has already been registered\n",
      "2024-04-21 13:30:15.325851: E external/local_xla/xla/stream_executor/cuda/cuda_blas.cc:1515] Unable to register cuBLAS factory: Attempting to register factory for plugin cuBLAS when one has already been registered\n"
     ]
    }
   ],
   "source": [
    "import pandas as pd\n",
    "import matplotlib.pyplot as plt\n",
    "import cv2\n",
    "import splitfolders\n",
    "\n",
    "import tensorflow as tf\n",
    "from tensorflow.keras.applications import ResNet152\n",
    "from tensorflow.keras.layers import Dense, Flatten\n",
    "from tensorflow.keras.models import Model\n",
    "import pennylane as qml\n",
    "from pennylane.templates import RandomLayers\n",
    "import numpy as np\n",
    "\n",
    "import matplotlib.pyplot as plt\n",
    "import os\n",
    "import PIL\n",
    "from tensorflow import keras\n",
    "from tensorflow.keras import layers\n",
    "from tensorflow.python.keras.layers import Dense, Flatten\n",
    "from tensorflow.keras.models import Sequential\n",
    "from tensorflow.keras.optimizers import Adam"
   ]
  },
  {
   "cell_type": "code",
   "execution_count": 5,
   "id": "62016953",
   "metadata": {
    "execution": {
     "iopub.execute_input": "2024-04-21T13:30:27.464862Z",
     "iopub.status.busy": "2024-04-21T13:30:27.463822Z",
     "iopub.status.idle": "2024-04-21T13:30:27.468115Z",
     "shell.execute_reply": "2024-04-21T13:30:27.467318Z"
    },
    "papermill": {
     "duration": 0.019233,
     "end_time": "2024-04-21T13:30:27.469840",
     "exception": false,
     "start_time": "2024-04-21T13:30:27.450607",
     "status": "completed"
    },
    "tags": []
   },
   "outputs": [],
   "source": [
    "img_height,img_width=256,256\n",
    "\n",
    "batch_size=32"
   ]
  },
  {
   "cell_type": "markdown",
   "id": "878e0f43",
   "metadata": {
    "papermill": {
     "duration": 0.01202,
     "end_time": "2024-04-21T13:30:27.494210",
     "exception": false,
     "start_time": "2024-04-21T13:30:27.482190",
     "status": "completed"
    },
    "tags": []
   },
   "source": [
    "# Data Preparation"
   ]
  },
  {
   "cell_type": "code",
   "execution_count": 6,
   "id": "6a016f05",
   "metadata": {
    "execution": {
     "iopub.execute_input": "2024-04-21T13:30:27.520255Z",
     "iopub.status.busy": "2024-04-21T13:30:27.519334Z",
     "iopub.status.idle": "2024-04-21T13:30:27.525450Z",
     "shell.execute_reply": "2024-04-21T13:30:27.524811Z"
    },
    "papermill": {
     "duration": 0.020869,
     "end_time": "2024-04-21T13:30:27.527271",
     "exception": false,
     "start_time": "2024-04-21T13:30:27.506402",
     "status": "completed"
    },
    "tags": []
   },
   "outputs": [],
   "source": [
    "import tensorflow as tf\n",
    "from tensorflow.keras.applications import ResNet152\n",
    "from tensorflow.keras.layers import Dense, Flatten\n",
    "from tensorflow.keras.models import Model\n",
    "import pennylane as qml\n",
    "from pennylane.templates import RandomLayers\n",
    "import numpy as np\n",
    "\n",
    "import matplotlib.pyplot as plt\n",
    "import os\n",
    "import PIL\n",
    "from tensorflow import keras\n",
    "from tensorflow.keras import layers\n",
    "from tensorflow.python.keras.layers import Dense, Flatten\n",
    "from tensorflow.keras.models import Sequential\n",
    "from tensorflow.keras.optimizers import Adam"
   ]
  },
  {
   "cell_type": "code",
   "execution_count": 7,
   "id": "7236f4a4",
   "metadata": {
    "execution": {
     "iopub.execute_input": "2024-04-21T13:30:27.552989Z",
     "iopub.status.busy": "2024-04-21T13:30:27.552509Z",
     "iopub.status.idle": "2024-04-21T13:30:27.559822Z",
     "shell.execute_reply": "2024-04-21T13:30:27.558974Z"
    },
    "papermill": {
     "duration": 0.022222,
     "end_time": "2024-04-21T13:30:27.561750",
     "exception": false,
     "start_time": "2024-04-21T13:30:27.539528",
     "status": "completed"
    },
    "tags": []
   },
   "outputs": [],
   "source": [
    "def split_data(data_path, output_path):\n",
    "    # Split data into train and validation directories\n",
    "    splitfolders.ratio(data_path, output=output_path, seed=42, ratio=(0.8, 0.2))\n",
    "    train_data_dir = output_path + '/train'\n",
    "    val_data_dir = output_path + '/val'\n",
    "    \n",
    "    # Define image dimensions and batch size\n",
    "    img_height, img_width = 256, 256\n",
    "    batch_size = 32\n",
    "    \n",
    "    # Data augmentation\n",
    "    train_datagen = tf.keras.preprocessing.image.ImageDataGenerator(\n",
    "        rotation_range=45,\n",
    "        horizontal_flip=True,\n",
    "        vertical_flip=True,\n",
    "        rescale=1./255\n",
    "    )\n",
    "    \n",
    "    # Load and augment training data\n",
    "    train_ds = train_datagen.flow_from_directory(\n",
    "        train_data_dir,\n",
    "        target_size=(img_height, img_width),\n",
    "        batch_size=batch_size,\n",
    "        class_mode='categorical' # or 'binary' if it's binary classification\n",
    "    )\n",
    "    \n",
    "    # Load validation data without augmentation\n",
    "    val_datagen = tf.keras.preprocessing.image.ImageDataGenerator(rescale=1./255)\n",
    "    val_ds = val_datagen.flow_from_directory(\n",
    "        val_data_dir,\n",
    "        target_size=(img_height, img_width),\n",
    "        batch_size=batch_size,\n",
    "        class_mode='categorical' # or 'binary' if it's binary classification\n",
    "    )\n",
    "    \n",
    "    return train_ds, val_ds"
   ]
  },
  {
   "cell_type": "code",
   "execution_count": 8,
   "id": "827f0529",
   "metadata": {
    "execution": {
     "iopub.execute_input": "2024-04-21T13:30:27.587041Z",
     "iopub.status.busy": "2024-04-21T13:30:27.586766Z",
     "iopub.status.idle": "2024-04-21T13:31:46.657061Z",
     "shell.execute_reply": "2024-04-21T13:31:46.656073Z"
    },
    "papermill": {
     "duration": 79.098309,
     "end_time": "2024-04-21T13:31:46.672098",
     "exception": false,
     "start_time": "2024-04-21T13:30:27.573789",
     "status": "completed"
    },
    "tags": []
   },
   "outputs": [
    {
     "name": "stdout",
     "output_type": "stream",
     "text": [
      "Requirement already satisfied: split-folders in /opt/conda/lib/python3.10/site-packages (0.5.1)\r\n",
      "3064 files successfully saved\n"
     ]
    },
    {
     "data": {
      "image/png": "[encoded data removed]",
      "text/plain": [
       "<Figure size 640x480 with 1 Axes>"
      ]
     },
     "metadata": {},
     "output_type": "display_data"
    }
   ],
   "source": [
    "import os\n",
    "import PIL\n",
    "import zipfile\n",
    "import numpy as np\n",
    "import pandas as pd\n",
    "import matplotlib.pyplot as plt\n",
    "import pickle\n",
    "import h5py\n",
    "!pip install split-folders\n",
    "import splitfolders\n",
    "import cv2\n",
    "import tensorflow as tf\n",
    "from tensorflow.keras.applications import ResNet152\n",
    "from tensorflow.keras.layers import Dense, Flatten\n",
    "from tensorflow.keras.models import Model\n",
    "from tensorflow import keras\n",
    "from tensorflow.keras import layers\n",
    "from tensorflow.python.keras.layers import Dense, Flatten\n",
    "from tensorflow.keras.models import Sequential\n",
    "from tensorflow.keras.optimizers import Adam\n",
    "os.mkdir(\"/kaggle/working/bt_images\")\n",
    "os.mkdir(\"/kaggle/working/bt_images/1\")\n",
    "os.mkdir(\"/kaggle/working/bt_images/2\")\n",
    "os.mkdir(\"/kaggle/working/bt_images/3\")\n",
    "labels=[]\n",
    "border=[]\n",
    "filename = None\n",
    "\n",
    "for filename in range(1, 3065):\n",
    "  with h5py.File('/kaggle/input/figshare-brain-tumor-dataset/dataset/data/{}.mat'.format(filename), 'r') as f:\n",
    "      img = f['cjdata']['image']\n",
    "      label = f['cjdata']['label'][0][0]\n",
    "     \n",
    "     \n",
    "      labels.append(int(label))\n",
    "      img = np.array(img, dtype=np.float32)\n",
    "      \n",
    "      plt.axis('off')\n",
    "      \n",
    "      plt.imsave(\"/kaggle/working/bt_images/{}/{}.jpg\".format(str(int(label)),filename), img, cmap='gray')\n",
    "      \n",
    "      \n",
    "print(\"{} files successfully saved\".format(filename))\n",
    " "
   ]
  },
  {
   "cell_type": "code",
   "execution_count": 9,
   "id": "9ae013cb",
   "metadata": {
    "execution": {
     "iopub.execute_input": "2024-04-21T13:31:46.698867Z",
     "iopub.status.busy": "2024-04-21T13:31:46.698167Z",
     "iopub.status.idle": "2024-04-21T13:31:47.276631Z",
     "shell.execute_reply": "2024-04-21T13:31:47.275805Z"
    },
    "papermill": {
     "duration": 0.5943,
     "end_time": "2024-04-21T13:31:47.278898",
     "exception": false,
     "start_time": "2024-04-21T13:31:46.684598",
     "status": "completed"
    },
    "tags": []
   },
   "outputs": [
    {
     "name": "stderr",
     "output_type": "stream",
     "text": [
      "Copying files: 3064 files [00:00, 6599.22 files/s]\n"
     ]
    },
    {
     "name": "stdout",
     "output_type": "stream",
     "text": [
      "Found 2450 images belonging to 3 classes.\n",
      "Found 614 images belonging to 3 classes.\n"
     ]
    }
   ],
   "source": [
    "train_ds1, val_ds1 = split_data('/kaggle/working/bt_images', '/kaggle/working/output')"
   ]
  },
  {
   "cell_type": "code",
   "execution_count": null,
   "id": "fac9320e",
   "metadata": {
    "papermill": {
     "duration": 0.013064,
     "end_time": "2024-04-21T13:31:47.306089",
     "exception": false,
     "start_time": "2024-04-21T13:31:47.293025",
     "status": "completed"
    },
    "tags": []
   },
   "outputs": [],
   "source": []
  },
  {
   "cell_type": "code",
   "execution_count": 10,
   "id": "a3332f7d",
   "metadata": {
    "execution": {
     "iopub.execute_input": "2024-04-21T13:31:47.334028Z",
     "iopub.status.busy": "2024-04-21T13:31:47.333449Z",
     "iopub.status.idle": "2024-04-21T13:31:47.337164Z",
     "shell.execute_reply": "2024-04-21T13:31:47.336345Z"
    },
    "papermill": {
     "duration": 0.019937,
     "end_time": "2024-04-21T13:31:47.339215",
     "exception": false,
     "start_time": "2024-04-21T13:31:47.319278",
     "status": "completed"
    },
    "tags": []
   },
   "outputs": [],
   "source": [
    "# class_names = train_ds1.class_names\n",
    "# print(class_names)"
   ]
  },
  {
   "cell_type": "code",
   "execution_count": 11,
   "id": "7dd6b535",
   "metadata": {
    "execution": {
     "iopub.execute_input": "2024-04-21T13:31:47.367179Z",
     "iopub.status.busy": "2024-04-21T13:31:47.366622Z",
     "iopub.status.idle": "2024-04-21T13:31:47.370375Z",
     "shell.execute_reply": "2024-04-21T13:31:47.369526Z"
    },
    "papermill": {
     "duration": 0.019852,
     "end_time": "2024-04-21T13:31:47.372330",
     "exception": false,
     "start_time": "2024-04-21T13:31:47.352478",
     "status": "completed"
    },
    "tags": []
   },
   "outputs": [],
   "source": [
    "# class_names = val_ds1.class_names\n",
    "# print(class_names)"
   ]
  },
  {
   "cell_type": "code",
   "execution_count": 12,
   "id": "5a85d6cd",
   "metadata": {
    "execution": {
     "iopub.execute_input": "2024-04-21T13:31:47.400785Z",
     "iopub.status.busy": "2024-04-21T13:31:47.400031Z",
     "iopub.status.idle": "2024-04-21T13:31:48.412149Z",
     "shell.execute_reply": "2024-04-21T13:31:48.410957Z"
    },
    "papermill": {
     "duration": 1.029048,
     "end_time": "2024-04-21T13:31:48.414539",
     "exception": false,
     "start_time": "2024-04-21T13:31:47.385491",
     "status": "completed"
    },
    "tags": []
   },
   "outputs": [
    {
     "name": "stdout",
     "output_type": "stream",
     "text": [
      "Sun Apr 21 13:31:48 2024       \r\n",
      "+---------------------------------------------------------------------------------------+\r\n",
      "| NVIDIA-SMI 535.129.03             Driver Version: 535.129.03   CUDA Version: 12.2     |\r\n",
      "|-----------------------------------------+----------------------+----------------------+\r\n",
      "| GPU  Name                 Persistence-M | Bus-Id        Disp.A | Volatile Uncorr. ECC |\r\n",
      "| Fan  Temp   Perf          Pwr:Usage/Cap |         Memory-Usage | GPU-Util  Compute M. |\r\n",
      "|                                         |                      |               MIG M. |\r\n",
      "|=========================================+======================+======================|\r\n",
      "|   0  Tesla P100-PCIE-16GB           Off | 00000000:00:04.0 Off |                    0 |\r\n",
      "| N/A   33C    P0              25W / 250W |      0MiB / 16384MiB |      0%      Default |\r\n",
      "|                                         |                      |                  N/A |\r\n",
      "+-----------------------------------------+----------------------+----------------------+\r\n",
      "                                                                                         \r\n",
      "+---------------------------------------------------------------------------------------+\r\n",
      "| Processes:                                                                            |\r\n",
      "|  GPU   GI   CI        PID   Type   Process name                            GPU Memory |\r\n",
      "|        ID   ID                                                             Usage      |\r\n",
      "|=======================================================================================|\r\n",
      "|  No running processes found                                                           |\r\n",
      "+---------------------------------------------------------------------------------------+\r\n"
     ]
    }
   ],
   "source": [
    "!nvidia-smi"
   ]
  },
  {
   "cell_type": "markdown",
   "id": "f9504416",
   "metadata": {
    "papermill": {
     "duration": 0.013269,
     "end_time": "2024-04-21T13:31:48.441482",
     "exception": false,
     "start_time": "2024-04-21T13:31:48.428213",
     "status": "completed"
    },
    "tags": []
   },
   "source": [
    "# MODEL TRAINING\n"
   ]
  },
  {
   "cell_type": "code",
   "execution_count": 13,
   "id": "2011a62e",
   "metadata": {
    "execution": {
     "iopub.execute_input": "2024-04-21T13:31:48.469800Z",
     "iopub.status.busy": "2024-04-21T13:31:48.469428Z",
     "iopub.status.idle": "2024-04-21T13:31:48.473860Z",
     "shell.execute_reply": "2024-04-21T13:31:48.473007Z"
    },
    "papermill": {
     "duration": 0.020968,
     "end_time": "2024-04-21T13:31:48.475659",
     "exception": false,
     "start_time": "2024-04-21T13:31:48.454691",
     "status": "completed"
    },
    "tags": []
   },
   "outputs": [],
   "source": [
    "# tf.keras.backend.set_floatx('float32')"
   ]
  },
  {
   "cell_type": "markdown",
   "id": "4accefdb",
   "metadata": {
    "papermill": {
     "duration": 0.013228,
     "end_time": "2024-04-21T13:31:48.502243",
     "exception": false,
     "start_time": "2024-04-21T13:31:48.489015",
     "status": "completed"
    },
    "tags": []
   },
   "source": [
    "## QUANTUM PART"
   ]
  },
  {
   "cell_type": "code",
   "execution_count": 14,
   "id": "392a5a0c",
   "metadata": {
    "execution": {
     "iopub.execute_input": "2024-04-21T13:31:48.530570Z",
     "iopub.status.busy": "2024-04-21T13:31:48.530200Z",
     "iopub.status.idle": "2024-04-21T13:31:48.537806Z",
     "shell.execute_reply": "2024-04-21T13:31:48.536943Z"
    },
    "papermill": {
     "duration": 0.023997,
     "end_time": "2024-04-21T13:31:48.539884",
     "exception": false,
     "start_time": "2024-04-21T13:31:48.515887",
     "status": "completed"
    },
    "tags": []
   },
   "outputs": [],
   "source": [
    "n_qubits = 4\n",
    "dev = qml.device(\"default.qubit\", wires=n_qubits)\n",
    "\n",
    "@qml.qnode(dev)\n",
    "def qnode(inputs, weights):\n",
    "    qml.AngleEmbedding(inputs, wires=range(n_qubits))\n",
    "    qml.BasicEntanglerLayers(weights, wires=range(n_qubits))\n",
    "    return [qml.expval(qml.PauliZ(wires=i)) for i in range(n_qubits)]"
   ]
  },
  {
   "cell_type": "code",
   "execution_count": 15,
   "id": "990eba50",
   "metadata": {
    "execution": {
     "iopub.execute_input": "2024-04-21T13:31:48.568057Z",
     "iopub.status.busy": "2024-04-21T13:31:48.567457Z",
     "iopub.status.idle": "2024-04-21T13:31:48.571843Z",
     "shell.execute_reply": "2024-04-21T13:31:48.570925Z"
    },
    "papermill": {
     "duration": 0.020658,
     "end_time": "2024-04-21T13:31:48.573787",
     "exception": false,
     "start_time": "2024-04-21T13:31:48.553129",
     "status": "completed"
    },
    "tags": []
   },
   "outputs": [],
   "source": [
    "n_layers = 3\n",
    "weight_shapes = {\"weights\": (n_layers, n_qubits)}"
   ]
  },
  {
   "cell_type": "code",
   "execution_count": 16,
   "id": "c8de4a84",
   "metadata": {
    "execution": {
     "iopub.execute_input": "2024-04-21T13:31:48.601697Z",
     "iopub.status.busy": "2024-04-21T13:31:48.601418Z",
     "iopub.status.idle": "2024-04-21T13:31:49.286306Z",
     "shell.execute_reply": "2024-04-21T13:31:49.285336Z"
    },
    "papermill": {
     "duration": 0.701549,
     "end_time": "2024-04-21T13:31:49.288712",
     "exception": false,
     "start_time": "2024-04-21T13:31:48.587163",
     "status": "completed"
    },
    "tags": []
   },
   "outputs": [],
   "source": [
    "qlayer = qml.qnn.KerasLayer(qnode, weight_shapes, output_dim=n_qubits)"
   ]
  },
  {
   "cell_type": "markdown",
   "id": "973638c1",
   "metadata": {
    "papermill": {
     "duration": 0.013347,
     "end_time": "2024-04-21T13:31:49.316034",
     "exception": false,
     "start_time": "2024-04-21T13:31:49.302687",
     "status": "completed"
    },
    "tags": []
   },
   "source": [
    "## CLASSICAL PART"
   ]
  },
  {
   "cell_type": "code",
   "execution_count": 17,
   "id": "a1cca0b8",
   "metadata": {
    "execution": {
     "iopub.execute_input": "2024-04-21T13:31:49.344869Z",
     "iopub.status.busy": "2024-04-21T13:31:49.344131Z",
     "iopub.status.idle": "2024-04-21T13:31:49.348370Z",
     "shell.execute_reply": "2024-04-21T13:31:49.347484Z"
    },
    "papermill": {
     "duration": 0.020819,
     "end_time": "2024-04-21T13:31:49.350275",
     "exception": false,
     "start_time": "2024-04-21T13:31:49.329456",
     "status": "completed"
    },
    "tags": []
   },
   "outputs": [],
   "source": [
    "INPUT = (256,256,3)"
   ]
  },
  {
   "cell_type": "code",
   "execution_count": 18,
   "id": "8017be04",
   "metadata": {
    "execution": {
     "iopub.execute_input": "2024-04-21T13:31:49.378390Z",
     "iopub.status.busy": "2024-04-21T13:31:49.377709Z",
     "iopub.status.idle": "2024-04-21T13:31:49.387890Z",
     "shell.execute_reply": "2024-04-21T13:31:49.387052Z"
    },
    "papermill": {
     "duration": 0.026286,
     "end_time": "2024-04-21T13:31:49.389818",
     "exception": false,
     "start_time": "2024-04-21T13:31:49.363532",
     "status": "completed"
    },
    "tags": []
   },
   "outputs": [],
   "source": [
    "def show_results(pretrained_model, epochs, lr, train_ds, val_ds):\n",
    "    model = Sequential()\n",
    "\n",
    "    for layer in pretrained_model.layers:\n",
    "            layer.trainable=False\n",
    "\n",
    "    model.add(pretrained_model)\n",
    "    model.add(Flatten())\n",
    "#     model.add(Dense(512, activation='relu'))\n",
    "    model.add(Dense(128, activation='relu'))\n",
    "#     model.add(Dense(64, activation='relu'))\n",
    "    model.add(Dense(32, activation='relu'))\n",
    "#     model.add(Dense(16, activation='relu'))\n",
    "    model.add(Dense(8, activation='relu'))\n",
    "    model.add(Dense(4, activation='relu'))\n",
    "    model.add(qlayer)\n",
    "    model.add(Dense(3, activation='softmax'))\n",
    "    \n",
    "    \n",
    "    model.summary()\n",
    "    \n",
    "    \n",
    "    model.compile(optimizer=Adam(lr),loss='categorical_crossentropy',metrics=['accuracy'])\n",
    "\n",
    "    history = model.fit(\n",
    "      train_ds,\n",
    "      validation_data=val_ds,\n",
    "      epochs=epochs\n",
    "    )\n",
    "    import matplotlib.pyplot as plt\n",
    "\n",
    "    # Assuming 'history' is assigned during model training with 'model.fit'\n",
    "    plt.plot(history.history['loss'], label='Training loss')\n",
    "    plt.plot(history.history['val_loss'], label='Validation loss')\n",
    "    plt.xlabel('Epoch')\n",
    "    plt.ylabel('Loss')\n",
    "    plt.legend()\n",
    "    plt.show()\n",
    "\n",
    "    plt.plot(history.history['accuracy'], label='Training accuracy')\n",
    "    plt.plot(history.history['val_accuracy'], label='Validation accuracy')\n",
    "    plt.xlabel('Epoch')\n",
    "    plt.ylabel('Accuracy')\n",
    "    plt.legend()\n",
    "    plt.show()"
   ]
  },
  {
   "cell_type": "markdown",
   "id": "10f159f1",
   "metadata": {
    "papermill": {
     "duration": 0.060037,
     "end_time": "2024-04-21T13:31:49.463554",
     "exception": false,
     "start_time": "2024-04-21T13:31:49.403517",
     "status": "completed"
    },
    "tags": []
   },
   "source": [
    "### ResNet"
   ]
  },
  {
   "cell_type": "code",
   "execution_count": 19,
   "id": "5586cdf1",
   "metadata": {
    "execution": {
     "iopub.execute_input": "2024-04-21T13:31:49.492255Z",
     "iopub.status.busy": "2024-04-21T13:31:49.491553Z",
     "iopub.status.idle": "2024-04-21T13:31:49.495533Z",
     "shell.execute_reply": "2024-04-21T13:31:49.494660Z"
    },
    "papermill": {
     "duration": 0.0204,
     "end_time": "2024-04-21T13:31:49.497386",
     "exception": false,
     "start_time": "2024-04-21T13:31:49.476986",
     "status": "completed"
    },
    "tags": []
   },
   "outputs": [],
   "source": [
    "# resnet_model = pretrained_model= tf.keras.applications.ResNet50(include_top=False,\n",
    "#                    input_shape=INPUT,\n",
    "#                    pooling='max',classes=3,\n",
    "#                    weights='imagenet')\n",
    "\n",
    "# show_results(resnet_model, 50, 0.001, train_ds1, val_ds1)"
   ]
  },
  {
   "cell_type": "code",
   "execution_count": null,
   "id": "bbd68304",
   "metadata": {
    "papermill": {
     "duration": 0.013303,
     "end_time": "2024-04-21T13:31:49.524318",
     "exception": false,
     "start_time": "2024-04-21T13:31:49.511015",
     "status": "completed"
    },
    "tags": []
   },
   "outputs": [],
   "source": []
  },
  {
   "cell_type": "markdown",
   "id": "55b786d8",
   "metadata": {
    "papermill": {
     "duration": 0.013462,
     "end_time": "2024-04-21T13:31:49.551489",
     "exception": false,
     "start_time": "2024-04-21T13:31:49.538027",
     "status": "completed"
    },
    "tags": []
   },
   "source": [
    "### VGG19"
   ]
  },
  {
   "cell_type": "code",
   "execution_count": 20,
   "id": "bd5e5177",
   "metadata": {
    "execution": {
     "iopub.execute_input": "2024-04-21T13:31:49.580569Z",
     "iopub.status.busy": "2024-04-21T13:31:49.579854Z",
     "iopub.status.idle": "2024-04-21T13:31:49.583957Z",
     "shell.execute_reply": "2024-04-21T13:31:49.583004Z"
    },
    "papermill": {
     "duration": 0.020972,
     "end_time": "2024-04-21T13:31:49.586001",
     "exception": false,
     "start_time": "2024-04-21T13:31:49.565029",
     "status": "completed"
    },
    "tags": []
   },
   "outputs": [],
   "source": [
    "# vgg19_model = tf.keras.applications.vgg19.VGG19(include_top=False,\n",
    "#                    input_shape=INPUT,\n",
    "#                    pooling='max',classes=3,\n",
    "#                    weights='imagenet')\n",
    "\n",
    "# show_results(vgg19_model, 30, 0.001, train_ds1, val_ds1)"
   ]
  },
  {
   "cell_type": "code",
   "execution_count": null,
   "id": "78d4b037",
   "metadata": {
    "papermill": {
     "duration": 0.013362,
     "end_time": "2024-04-21T13:31:49.613077",
     "exception": false,
     "start_time": "2024-04-21T13:31:49.599715",
     "status": "completed"
    },
    "tags": []
   },
   "outputs": [],
   "source": []
  },
  {
   "cell_type": "markdown",
   "id": "05a5e9ad",
   "metadata": {
    "papermill": {
     "duration": 0.01367,
     "end_time": "2024-04-21T13:31:49.640696",
     "exception": false,
     "start_time": "2024-04-21T13:31:49.627026",
     "status": "completed"
    },
    "tags": []
   },
   "source": [
    "### Mobilenet"
   ]
  },
  {
   "cell_type": "code",
   "execution_count": 21,
   "id": "33b56451",
   "metadata": {
    "execution": {
     "iopub.execute_input": "2024-04-21T13:31:49.670472Z",
     "iopub.status.busy": "2024-04-21T13:31:49.669837Z",
     "iopub.status.idle": "2024-04-21T14:13:29.650839Z",
     "shell.execute_reply": "2024-04-21T14:13:29.649806Z"
    },
    "papermill": {
     "duration": 2500.008889,
     "end_time": "2024-04-21T14:13:29.663867",
     "exception": false,
     "start_time": "2024-04-21T13:31:49.654978",
     "status": "completed"
    },
    "tags": []
   },
   "outputs": [
    {
     "name": "stdout",
     "output_type": "stream",
     "text": [
      "Downloading data from https://storage.googleapis.com/tensorflow/keras-applications/mobilenet/mobilenet_1_0_224_tf_no_top.h5\n",
      "17225924/17225924 [==============================] - 0s 0us/step\n",
      "Model: \"sequential\"\n",
      "_________________________________________________________________\n",
      " Layer (type)                Output Shape              Param #   \n",
      "=================================================================\n",
      " mobilenet_1.00_224 (Functi  (None, 1024)              3228864   \n",
      " onal)                                                           \n",
      "                                                                 \n",
      " module_wrapper (ModuleWrap  (None, 1024)              0         \n",
      " per)                                                            \n",
      "                                                                 \n",
      " module_wrapper_1 (ModuleWr  (None, 128)               131200    \n",
      " apper)                                                          \n",
      "                                                                 \n",
      " module_wrapper_2 (ModuleWr  (None, 32)                4128      \n",
      " apper)                                                          \n",
      "                                                                 \n",
      " module_wrapper_3 (ModuleWr  (None, 8)                 264       \n",
      " apper)                                                          \n",
      "                                                                 \n",
      " module_wrapper_4 (ModuleWr  (None, 4)                 36        \n",
      " apper)                                                          \n",
      "                                                                 \n",
      " keras_layer (KerasLayer)    (None, 4)                 12        \n",
      "                                                                 \n",
      " module_wrapper_5 (ModuleWr  (None, 3)                 15        \n",
      " apper)                                                          \n",
      "                                                                 \n",
      "=================================================================\n",
      "Total params: 3364519 (12.83 MB)\n",
      "Trainable params: 135655 (529.90 KB)\n",
      "Non-trainable params: 3228864 (12.32 MB)\n",
      "_________________________________________________________________\n",
      "Epoch 1/60\n"
     ]
    },
    {
     "name": "stderr",
     "output_type": "stream",
     "text": [
      "WARNING: All log messages before absl::InitializeLog() is called are written to STDERR\n",
      "I0000 00:00:1713706315.212441      26 device_compiler.h:186] Compiled cluster using XLA!  This line is logged at most once for the lifetime of the process.\n"
     ]
    },
    {
     "name": "stdout",
     "output_type": "stream",
     "text": [
      "77/77 [==============================] - 46s 536ms/step - loss: 1.0780 - accuracy: 0.4894 - val_loss: 0.8806 - val_accuracy: 0.6726\n",
      "Epoch 2/60\n",
      "77/77 [==============================] - 41s 533ms/step - loss: 0.9124 - accuracy: 0.6045 - val_loss: 0.8094 - val_accuracy: 0.6938\n",
      "Epoch 3/60\n",
      "77/77 [==============================] - 41s 528ms/step - loss: 0.8497 - accuracy: 0.6339 - val_loss: 0.9583 - val_accuracy: 0.6303\n",
      "Epoch 4/60\n",
      "77/77 [==============================] - 42s 543ms/step - loss: 0.7583 - accuracy: 0.6804 - val_loss: 0.7059 - val_accuracy: 0.7020\n",
      "Epoch 5/60\n",
      "77/77 [==============================] - 42s 539ms/step - loss: 0.7118 - accuracy: 0.6943 - val_loss: 0.7722 - val_accuracy: 0.6580\n",
      "Epoch 6/60\n",
      "77/77 [==============================] - 42s 539ms/step - loss: 0.6620 - accuracy: 0.7273 - val_loss: 0.6112 - val_accuracy: 0.7557\n",
      "Epoch 7/60\n",
      "77/77 [==============================] - 41s 529ms/step - loss: 0.5683 - accuracy: 0.7996 - val_loss: 0.5459 - val_accuracy: 0.8143\n",
      "Epoch 8/60\n",
      "77/77 [==============================] - 41s 525ms/step - loss: 0.5485 - accuracy: 0.8184 - val_loss: 0.5352 - val_accuracy: 0.8225\n",
      "Epoch 9/60\n",
      "77/77 [==============================] - 42s 539ms/step - loss: 0.4732 - accuracy: 0.8510 - val_loss: 0.4831 - val_accuracy: 0.8371\n",
      "Epoch 10/60\n",
      "77/77 [==============================] - 42s 536ms/step - loss: 0.4504 - accuracy: 0.8624 - val_loss: 0.4741 - val_accuracy: 0.8355\n",
      "Epoch 11/60\n",
      "77/77 [==============================] - 41s 534ms/step - loss: 0.3918 - accuracy: 0.8808 - val_loss: 0.4385 - val_accuracy: 0.8518\n",
      "Epoch 12/60\n",
      "77/77 [==============================] - 41s 534ms/step - loss: 0.4614 - accuracy: 0.8241 - val_loss: 0.4662 - val_accuracy: 0.8339\n",
      "Epoch 13/60\n",
      "77/77 [==============================] - 42s 535ms/step - loss: 0.3805 - accuracy: 0.8682 - val_loss: 0.8596 - val_accuracy: 0.6319\n",
      "Epoch 14/60\n",
      "77/77 [==============================] - 41s 529ms/step - loss: 0.3759 - accuracy: 0.8673 - val_loss: 0.4680 - val_accuracy: 0.8176\n",
      "Epoch 15/60\n",
      "77/77 [==============================] - 42s 535ms/step - loss: 0.3628 - accuracy: 0.8735 - val_loss: 0.5963 - val_accuracy: 0.7736\n",
      "Epoch 16/60\n",
      "77/77 [==============================] - 41s 534ms/step - loss: 0.3631 - accuracy: 0.8735 - val_loss: 0.3703 - val_accuracy: 0.8746\n",
      "Epoch 17/60\n",
      "77/77 [==============================] - 42s 537ms/step - loss: 0.3637 - accuracy: 0.8706 - val_loss: 0.4519 - val_accuracy: 0.8388\n",
      "Epoch 18/60\n",
      "77/77 [==============================] - 42s 539ms/step - loss: 0.3650 - accuracy: 0.8686 - val_loss: 0.3930 - val_accuracy: 0.8404\n",
      "Epoch 19/60\n",
      "77/77 [==============================] - 42s 542ms/step - loss: 0.3760 - accuracy: 0.8620 - val_loss: 0.3824 - val_accuracy: 0.8534\n",
      "Epoch 20/60\n",
      "77/77 [==============================] - 41s 529ms/step - loss: 0.3023 - accuracy: 0.9041 - val_loss: 0.3929 - val_accuracy: 0.8599\n",
      "Epoch 21/60\n",
      "77/77 [==============================] - 41s 533ms/step - loss: 0.3060 - accuracy: 0.9004 - val_loss: 0.3387 - val_accuracy: 0.8779\n",
      "Epoch 22/60\n",
      "77/77 [==============================] - 41s 529ms/step - loss: 0.2867 - accuracy: 0.9020 - val_loss: 0.3470 - val_accuracy: 0.8827\n",
      "Epoch 23/60\n",
      "77/77 [==============================] - 41s 525ms/step - loss: 0.2804 - accuracy: 0.8963 - val_loss: 0.3225 - val_accuracy: 0.8844\n",
      "Epoch 24/60\n",
      "77/77 [==============================] - 41s 532ms/step - loss: 0.2898 - accuracy: 0.8996 - val_loss: 0.3922 - val_accuracy: 0.8453\n",
      "Epoch 25/60\n",
      "77/77 [==============================] - 41s 525ms/step - loss: 0.2967 - accuracy: 0.8918 - val_loss: 0.3759 - val_accuracy: 0.8746\n",
      "Epoch 26/60\n",
      "77/77 [==============================] - 42s 543ms/step - loss: 0.3115 - accuracy: 0.8873 - val_loss: 0.3831 - val_accuracy: 0.8599\n",
      "Epoch 27/60\n",
      "77/77 [==============================] - 41s 529ms/step - loss: 0.2633 - accuracy: 0.9078 - val_loss: 0.3450 - val_accuracy: 0.8730\n",
      "Epoch 28/60\n",
      "77/77 [==============================] - 42s 537ms/step - loss: 0.2927 - accuracy: 0.8980 - val_loss: 0.3792 - val_accuracy: 0.8616\n",
      "Epoch 29/60\n",
      "77/77 [==============================] - 42s 536ms/step - loss: 0.3031 - accuracy: 0.8873 - val_loss: 0.3536 - val_accuracy: 0.8713\n",
      "Epoch 30/60\n",
      "77/77 [==============================] - 42s 535ms/step - loss: 0.2603 - accuracy: 0.9073 - val_loss: 0.3585 - val_accuracy: 0.8681\n",
      "Epoch 31/60\n",
      "77/77 [==============================] - 41s 531ms/step - loss: 0.2372 - accuracy: 0.9167 - val_loss: 0.3659 - val_accuracy: 0.8779\n",
      "Epoch 32/60\n",
      "77/77 [==============================] - 41s 534ms/step - loss: 0.2677 - accuracy: 0.9118 - val_loss: 0.3728 - val_accuracy: 0.8550\n",
      "Epoch 33/60\n",
      "77/77 [==============================] - 42s 538ms/step - loss: 0.3047 - accuracy: 0.8918 - val_loss: 0.3766 - val_accuracy: 0.8762\n",
      "Epoch 34/60\n",
      "77/77 [==============================] - 41s 531ms/step - loss: 0.2641 - accuracy: 0.9037 - val_loss: 0.3361 - val_accuracy: 0.8860\n",
      "Epoch 35/60\n",
      "77/77 [==============================] - 42s 536ms/step - loss: 0.2527 - accuracy: 0.9069 - val_loss: 0.3082 - val_accuracy: 0.8860\n",
      "Epoch 36/60\n",
      "77/77 [==============================] - 41s 526ms/step - loss: 0.2406 - accuracy: 0.9147 - val_loss: 0.3236 - val_accuracy: 0.8893\n",
      "Epoch 37/60\n",
      "77/77 [==============================] - 42s 543ms/step - loss: 0.2546 - accuracy: 0.9012 - val_loss: 0.3547 - val_accuracy: 0.8664\n",
      "Epoch 38/60\n",
      "77/77 [==============================] - 41s 528ms/step - loss: 0.2466 - accuracy: 0.9118 - val_loss: 0.5455 - val_accuracy: 0.8176\n",
      "Epoch 39/60\n",
      "77/77 [==============================] - 41s 530ms/step - loss: 0.2231 - accuracy: 0.9249 - val_loss: 0.3136 - val_accuracy: 0.8811\n",
      "Epoch 40/60\n",
      "77/77 [==============================] - 42s 543ms/step - loss: 0.2525 - accuracy: 0.9159 - val_loss: 0.3395 - val_accuracy: 0.8697\n",
      "Epoch 41/60\n",
      "77/77 [==============================] - 43s 552ms/step - loss: 0.2681 - accuracy: 0.9016 - val_loss: 0.3285 - val_accuracy: 0.8746\n",
      "Epoch 42/60\n",
      "77/77 [==============================] - 41s 531ms/step - loss: 0.2288 - accuracy: 0.9180 - val_loss: 0.3322 - val_accuracy: 0.8746\n",
      "Epoch 43/60\n",
      "77/77 [==============================] - 42s 535ms/step - loss: 0.2578 - accuracy: 0.9110 - val_loss: 0.3388 - val_accuracy: 0.8827\n",
      "Epoch 44/60\n",
      "77/77 [==============================] - 41s 534ms/step - loss: 0.2655 - accuracy: 0.9073 - val_loss: 0.3382 - val_accuracy: 0.8632\n",
      "Epoch 45/60\n",
      "77/77 [==============================] - 42s 542ms/step - loss: 0.2216 - accuracy: 0.9220 - val_loss: 0.4199 - val_accuracy: 0.8485\n",
      "Epoch 46/60\n",
      "77/77 [==============================] - 41s 525ms/step - loss: 0.2532 - accuracy: 0.9086 - val_loss: 0.4315 - val_accuracy: 0.8502\n",
      "Epoch 47/60\n",
      "77/77 [==============================] - 41s 530ms/step - loss: 0.2238 - accuracy: 0.9196 - val_loss: 0.3959 - val_accuracy: 0.8599\n",
      "Epoch 48/60\n",
      "77/77 [==============================] - 41s 534ms/step - loss: 0.2458 - accuracy: 0.9106 - val_loss: 0.4538 - val_accuracy: 0.8469\n",
      "Epoch 49/60\n",
      "77/77 [==============================] - 41s 526ms/step - loss: 0.2575 - accuracy: 0.9122 - val_loss: 0.4925 - val_accuracy: 0.8404\n",
      "Epoch 50/60\n",
      "77/77 [==============================] - 43s 549ms/step - loss: 0.2529 - accuracy: 0.9049 - val_loss: 0.4080 - val_accuracy: 0.8599\n",
      "Epoch 51/60\n",
      "77/77 [==============================] - 43s 550ms/step - loss: 0.2231 - accuracy: 0.9253 - val_loss: 0.3580 - val_accuracy: 0.8811\n",
      "Epoch 52/60\n",
      "77/77 [==============================] - 42s 545ms/step - loss: 0.2579 - accuracy: 0.9118 - val_loss: 0.3800 - val_accuracy: 0.8648\n",
      "Epoch 53/60\n",
      "77/77 [==============================] - 42s 537ms/step - loss: 0.2276 - accuracy: 0.9147 - val_loss: 0.4742 - val_accuracy: 0.8469\n",
      "Epoch 54/60\n",
      "77/77 [==============================] - 42s 541ms/step - loss: 0.2622 - accuracy: 0.9086 - val_loss: 0.3681 - val_accuracy: 0.8795\n",
      "Epoch 55/60\n",
      "77/77 [==============================] - 42s 536ms/step - loss: 0.2354 - accuracy: 0.9192 - val_loss: 0.3177 - val_accuracy: 0.8827\n",
      "Epoch 56/60\n",
      "77/77 [==============================] - 41s 533ms/step - loss: 0.2248 - accuracy: 0.9208 - val_loss: 0.4305 - val_accuracy: 0.8550\n",
      "Epoch 57/60\n",
      "77/77 [==============================] - 41s 532ms/step - loss: 0.2181 - accuracy: 0.9237 - val_loss: 0.3047 - val_accuracy: 0.8925\n",
      "Epoch 58/60\n",
      "77/77 [==============================] - 42s 537ms/step - loss: 0.2405 - accuracy: 0.9171 - val_loss: 0.3443 - val_accuracy: 0.8681\n",
      "Epoch 59/60\n",
      "77/77 [==============================] - 42s 536ms/step - loss: 0.2273 - accuracy: 0.9188 - val_loss: 0.4300 - val_accuracy: 0.8339\n",
      "Epoch 60/60\n",
      "77/77 [==============================] - 42s 537ms/step - loss: 0.2250 - accuracy: 0.9204 - val_loss: 0.3507 - val_accuracy: 0.8811\n"
     ]
    },
    {
     "data": {
      "image/png": "[encoded data removed]",
      "text/plain": [
       "<Figure size 640x480 with 1 Axes>"
      ]
     },
     "metadata": {},
     "output_type": "display_data"
    },
    {
     "data": {
      "image/png": "[encoded data removed]",
      "text/plain": [
       "<Figure size 640x480 with 1 Axes>"
      ]
     },
     "metadata": {},
     "output_type": "display_data"
    }
   ],
   "source": [
    "mobilenet_model = tf.keras.applications.mobilenet.MobileNet(include_top=False,\n",
    "                   input_shape=INPUT,\n",
    "                   pooling='max',classes=3,\n",
    "                   weights='imagenet')\n",
    "\n",
    "show_results(mobilenet_model, 60, 0.001, train_ds1, val_ds1)"
   ]
  },
  {
   "cell_type": "code",
   "execution_count": null,
   "id": "0d724519",
   "metadata": {
    "papermill": {
     "duration": 0.396622,
     "end_time": "2024-04-21T14:13:30.455351",
     "exception": false,
     "start_time": "2024-04-21T14:13:30.058729",
     "status": "completed"
    },
    "tags": []
   },
   "outputs": [],
   "source": []
  },
  {
   "cell_type": "markdown",
   "id": "5c5046e2",
   "metadata": {
    "papermill": {
     "duration": 0.449433,
     "end_time": "2024-04-21T14:13:31.295130",
     "exception": false,
     "start_time": "2024-04-21T14:13:30.845697",
     "status": "completed"
    },
    "tags": []
   },
   "source": [
    "### InceptionNet"
   ]
  },
  {
   "cell_type": "code",
   "execution_count": 22,
   "id": "9e7f595f",
   "metadata": {
    "execution": {
     "iopub.execute_input": "2024-04-21T14:13:32.088224Z",
     "iopub.status.busy": "2024-04-21T14:13:32.087254Z",
     "iopub.status.idle": "2024-04-21T14:13:32.092060Z",
     "shell.execute_reply": "2024-04-21T14:13:32.091166Z"
    },
    "papermill": {
     "duration": 0.406845,
     "end_time": "2024-04-21T14:13:32.094058",
     "exception": false,
     "start_time": "2024-04-21T14:13:31.687213",
     "status": "completed"
    },
    "tags": []
   },
   "outputs": [],
   "source": [
    "# inceptionnet_model = tf.keras.applications.inception_v3.InceptionV3(include_top=False,\n",
    "#                    input_shape=INPUT,\n",
    "#                    pooling='max',classes=3,\n",
    "#                    weights='imagenet')\n",
    "\n",
    "# show_results(inceptionnet_model, 30, 0.001, train_ds1, val_ds1)"
   ]
  },
  {
   "cell_type": "code",
   "execution_count": null,
   "id": "c5f14009",
   "metadata": {
    "papermill": {
     "duration": 0.3877,
     "end_time": "2024-04-21T14:13:32.876135",
     "exception": false,
     "start_time": "2024-04-21T14:13:32.488435",
     "status": "completed"
    },
    "tags": []
   },
   "outputs": [],
   "source": []
  },
  {
   "cell_type": "markdown",
   "id": "f11e036d",
   "metadata": {
    "papermill": {
     "duration": 0.39304,
     "end_time": "2024-04-21T14:13:33.661749",
     "exception": false,
     "start_time": "2024-04-21T14:13:33.268709",
     "status": "completed"
    },
    "tags": []
   },
   "source": [
    "### VGG16"
   ]
  },
  {
   "cell_type": "code",
   "execution_count": 23,
   "id": "3ece0d16",
   "metadata": {
    "execution": {
     "iopub.execute_input": "2024-04-21T14:13:34.498228Z",
     "iopub.status.busy": "2024-04-21T14:13:34.497590Z",
     "iopub.status.idle": "2024-04-21T14:56:40.920396Z",
     "shell.execute_reply": "2024-04-21T14:56:40.919339Z"
    },
    "papermill": {
     "duration": 2587.24294,
     "end_time": "2024-04-21T14:56:41.294883",
     "exception": false,
     "start_time": "2024-04-21T14:13:34.051943",
     "status": "completed"
    },
    "tags": []
   },
   "outputs": [
    {
     "name": "stdout",
     "output_type": "stream",
     "text": [
      "Downloading data from https://storage.googleapis.com/tensorflow/keras-applications/vgg16/vgg16_weights_tf_dim_ordering_tf_kernels_notop.h5\n",
      "58889256/58889256 [==============================] - 0s 0us/step\n",
      "Model: \"sequential_1\"\n",
      "_________________________________________________________________\n",
      " Layer (type)                Output Shape              Param #   \n",
      "=================================================================\n",
      " vgg16 (Functional)          (None, 512)               14714688  \n",
      "                                                                 \n",
      " module_wrapper_6 (ModuleWr  (None, 512)               0         \n",
      " apper)                                                          \n",
      "                                                                 \n",
      " module_wrapper_7 (ModuleWr  (None, 128)               65664     \n",
      " apper)                                                          \n",
      "                                                                 \n",
      " module_wrapper_8 (ModuleWr  (None, 32)                4128      \n",
      " apper)                                                          \n",
      "                                                                 \n",
      " module_wrapper_9 (ModuleWr  (None, 8)                 264       \n",
      " apper)                                                          \n",
      "                                                                 \n",
      " module_wrapper_10 (ModuleW  (None, 4)                 36        \n",
      " rapper)                                                         \n",
      "                                                                 \n",
      " keras_layer (KerasLayer)    (None, 4)                 12        \n",
      "                                                                 \n",
      " module_wrapper_11 (ModuleW  (None, 3)                 15        \n",
      " rapper)                                                         \n",
      "                                                                 \n",
      "=================================================================\n",
      "Total params: 14784807 (56.40 MB)\n",
      "Trainable params: 70119 (273.90 KB)\n",
      "Non-trainable params: 14714688 (56.13 MB)\n",
      "_________________________________________________________________\n",
      "Epoch 1/50\n",
      "77/77 [==============================] - 75s 785ms/step - loss: 0.9981 - accuracy: 0.5482 - val_loss: 0.8840 - val_accuracy: 0.7362\n",
      "Epoch 2/50\n",
      "77/77 [==============================] - 51s 661ms/step - loss: 0.7501 - accuracy: 0.7604 - val_loss: 0.6811 - val_accuracy: 0.7964\n",
      "Epoch 3/50\n",
      "77/77 [==============================] - 52s 667ms/step - loss: 0.6020 - accuracy: 0.8163 - val_loss: 0.5976 - val_accuracy: 0.8013\n",
      "Epoch 4/50\n",
      "77/77 [==============================] - 51s 666ms/step - loss: 0.5468 - accuracy: 0.8253 - val_loss: 0.5356 - val_accuracy: 0.8192\n",
      "Epoch 5/50\n",
      "77/77 [==============================] - 51s 661ms/step - loss: 0.5147 - accuracy: 0.8335 - val_loss: 0.4909 - val_accuracy: 0.8322\n",
      "Epoch 6/50\n",
      "77/77 [==============================] - 51s 654ms/step - loss: 0.4498 - accuracy: 0.8518 - val_loss: 0.4784 - val_accuracy: 0.8290\n",
      "Epoch 7/50\n",
      "77/77 [==============================] - 51s 654ms/step - loss: 0.4432 - accuracy: 0.8506 - val_loss: 0.4524 - val_accuracy: 0.8322\n",
      "Epoch 8/50\n",
      "77/77 [==============================] - 51s 664ms/step - loss: 0.4183 - accuracy: 0.8543 - val_loss: 0.4923 - val_accuracy: 0.8176\n",
      "Epoch 9/50\n",
      "77/77 [==============================] - 51s 657ms/step - loss: 0.4004 - accuracy: 0.8596 - val_loss: 0.5759 - val_accuracy: 0.7834\n",
      "Epoch 10/50\n",
      "77/77 [==============================] - 51s 657ms/step - loss: 0.4168 - accuracy: 0.8469 - val_loss: 0.4338 - val_accuracy: 0.8502\n",
      "Epoch 11/50\n",
      "77/77 [==============================] - 51s 659ms/step - loss: 0.3817 - accuracy: 0.8629 - val_loss: 0.3943 - val_accuracy: 0.8567\n",
      "Epoch 12/50\n",
      "77/77 [==============================] - 52s 665ms/step - loss: 0.3410 - accuracy: 0.8824 - val_loss: 0.3902 - val_accuracy: 0.8502\n",
      "Epoch 13/50\n",
      "77/77 [==============================] - 52s 664ms/step - loss: 0.3746 - accuracy: 0.8612 - val_loss: 0.4056 - val_accuracy: 0.8404\n",
      "Epoch 14/50\n",
      "77/77 [==============================] - 52s 668ms/step - loss: 0.3708 - accuracy: 0.8678 - val_loss: 0.3726 - val_accuracy: 0.8664\n",
      "Epoch 15/50\n",
      "77/77 [==============================] - 52s 667ms/step - loss: 0.3639 - accuracy: 0.8624 - val_loss: 0.4951 - val_accuracy: 0.8078\n",
      "Epoch 16/50\n",
      "77/77 [==============================] - 52s 665ms/step - loss: 0.3380 - accuracy: 0.8743 - val_loss: 0.4944 - val_accuracy: 0.8127\n",
      "Epoch 17/50\n",
      "77/77 [==============================] - 52s 667ms/step - loss: 0.3433 - accuracy: 0.8710 - val_loss: 0.3665 - val_accuracy: 0.8550\n",
      "Epoch 18/50\n",
      "77/77 [==============================] - 52s 664ms/step - loss: 0.3529 - accuracy: 0.8718 - val_loss: 0.3636 - val_accuracy: 0.8616\n",
      "Epoch 19/50\n",
      "77/77 [==============================] - 52s 667ms/step - loss: 0.3198 - accuracy: 0.8796 - val_loss: 0.3673 - val_accuracy: 0.8599\n",
      "Epoch 20/50\n",
      "77/77 [==============================] - 52s 668ms/step - loss: 0.3474 - accuracy: 0.8714 - val_loss: 0.3972 - val_accuracy: 0.8436\n",
      "Epoch 21/50\n",
      "77/77 [==============================] - 51s 662ms/step - loss: 0.3291 - accuracy: 0.8714 - val_loss: 0.3587 - val_accuracy: 0.8550\n",
      "Epoch 22/50\n",
      "77/77 [==============================] - 52s 666ms/step - loss: 0.3327 - accuracy: 0.8788 - val_loss: 0.4505 - val_accuracy: 0.8176\n",
      "Epoch 23/50\n",
      "77/77 [==============================] - 52s 665ms/step - loss: 0.3315 - accuracy: 0.8755 - val_loss: 0.3447 - val_accuracy: 0.8730\n",
      "Epoch 24/50\n",
      "77/77 [==============================] - 51s 663ms/step - loss: 0.3401 - accuracy: 0.8690 - val_loss: 0.3561 - val_accuracy: 0.8567\n",
      "Epoch 25/50\n",
      "77/77 [==============================] - 52s 670ms/step - loss: 0.3186 - accuracy: 0.8780 - val_loss: 0.3511 - val_accuracy: 0.8632\n",
      "Epoch 26/50\n",
      "77/77 [==============================] - 52s 667ms/step - loss: 0.3195 - accuracy: 0.8735 - val_loss: 0.4231 - val_accuracy: 0.8436\n",
      "Epoch 27/50\n",
      "77/77 [==============================] - 51s 663ms/step - loss: 0.3193 - accuracy: 0.8816 - val_loss: 0.3836 - val_accuracy: 0.8436\n",
      "Epoch 28/50\n",
      "77/77 [==============================] - 51s 659ms/step - loss: 0.3158 - accuracy: 0.8788 - val_loss: 0.3572 - val_accuracy: 0.8616\n",
      "Epoch 29/50\n",
      "77/77 [==============================] - 51s 656ms/step - loss: 0.3212 - accuracy: 0.8743 - val_loss: 0.4281 - val_accuracy: 0.8420\n",
      "Epoch 30/50\n",
      "77/77 [==============================] - 51s 662ms/step - loss: 0.2975 - accuracy: 0.8894 - val_loss: 0.3569 - val_accuracy: 0.8567\n",
      "Epoch 31/50\n",
      "77/77 [==============================] - 52s 665ms/step - loss: 0.2977 - accuracy: 0.8824 - val_loss: 0.4213 - val_accuracy: 0.8322\n",
      "Epoch 32/50\n",
      "77/77 [==============================] - 51s 656ms/step - loss: 0.2960 - accuracy: 0.8910 - val_loss: 0.4072 - val_accuracy: 0.8388\n",
      "Epoch 33/50\n",
      "77/77 [==============================] - 51s 656ms/step - loss: 0.2824 - accuracy: 0.8910 - val_loss: 0.3897 - val_accuracy: 0.8534\n",
      "Epoch 34/50\n",
      "77/77 [==============================] - 51s 659ms/step - loss: 0.2865 - accuracy: 0.8922 - val_loss: 0.3359 - val_accuracy: 0.8648\n",
      "Epoch 35/50\n",
      "77/77 [==============================] - 51s 661ms/step - loss: 0.2834 - accuracy: 0.8931 - val_loss: 0.3845 - val_accuracy: 0.8583\n",
      "Epoch 36/50\n",
      "77/77 [==============================] - 51s 658ms/step - loss: 0.3023 - accuracy: 0.8878 - val_loss: 0.3278 - val_accuracy: 0.8795\n",
      "Epoch 37/50\n",
      "77/77 [==============================] - 51s 656ms/step - loss: 0.2799 - accuracy: 0.8943 - val_loss: 0.3494 - val_accuracy: 0.8550\n",
      "Epoch 38/50\n",
      "77/77 [==============================] - 51s 653ms/step - loss: 0.2830 - accuracy: 0.8906 - val_loss: 0.3347 - val_accuracy: 0.8534\n",
      "Epoch 39/50\n",
      "77/77 [==============================] - 51s 652ms/step - loss: 0.2946 - accuracy: 0.8898 - val_loss: 0.3439 - val_accuracy: 0.8599\n",
      "Epoch 40/50\n",
      "77/77 [==============================] - 50s 648ms/step - loss: 0.2910 - accuracy: 0.8857 - val_loss: 0.3375 - val_accuracy: 0.8730\n",
      "Epoch 41/50\n",
      "77/77 [==============================] - 51s 656ms/step - loss: 0.2774 - accuracy: 0.8918 - val_loss: 0.3720 - val_accuracy: 0.8518\n",
      "Epoch 42/50\n",
      "77/77 [==============================] - 51s 652ms/step - loss: 0.2898 - accuracy: 0.8935 - val_loss: 0.3650 - val_accuracy: 0.8518\n",
      "Epoch 43/50\n",
      "77/77 [==============================] - 50s 650ms/step - loss: 0.2764 - accuracy: 0.8869 - val_loss: 0.3477 - val_accuracy: 0.8632\n",
      "Epoch 44/50\n",
      "77/77 [==============================] - 51s 656ms/step - loss: 0.2622 - accuracy: 0.9016 - val_loss: 0.3350 - val_accuracy: 0.8648\n",
      "Epoch 45/50\n",
      "77/77 [==============================] - 51s 654ms/step - loss: 0.2948 - accuracy: 0.8882 - val_loss: 0.3453 - val_accuracy: 0.8697\n",
      "Epoch 46/50\n",
      "77/77 [==============================] - 51s 660ms/step - loss: 0.2713 - accuracy: 0.9012 - val_loss: 0.3529 - val_accuracy: 0.8616\n",
      "Epoch 47/50\n",
      "77/77 [==============================] - 51s 657ms/step - loss: 0.2675 - accuracy: 0.8980 - val_loss: 0.3299 - val_accuracy: 0.8730\n",
      "Epoch 48/50\n",
      "77/77 [==============================] - 51s 658ms/step - loss: 0.2706 - accuracy: 0.8947 - val_loss: 0.3487 - val_accuracy: 0.8616\n",
      "Epoch 49/50\n",
      "77/77 [==============================] - 51s 655ms/step - loss: 0.2752 - accuracy: 0.8992 - val_loss: 0.3665 - val_accuracy: 0.8485\n",
      "Epoch 50/50\n",
      "77/77 [==============================] - 51s 659ms/step - loss: 0.2698 - accuracy: 0.8939 - val_loss: 0.4204 - val_accuracy: 0.8469\n"
     ]
    },
    {
     "data": {
      "image/png": "[encoded data removed]",
      "text/plain": [
       "<Figure size 640x480 with 1 Axes>"
      ]
     },
     "metadata": {},
     "output_type": "display_data"
    },
    {
     "data": {
      "image/png": "[encoded data removed]",
      "text/plain": [
       "<Figure size 640x480 with 1 Axes>"
      ]
     },
     "metadata": {},
     "output_type": "display_data"
    }
   ],
   "source": [
    "vgg16_model = tf.keras.applications.vgg16.VGG16(include_top=False,\n",
    "                   input_shape=INPUT,\n",
    "                   pooling='max',classes=3,\n",
    "                   weights='imagenet')\n",
    "\n",
    "show_results(vgg16_model, 50, 0.001, train_ds1, val_ds1)"
   ]
  },
  {
   "cell_type": "code",
   "execution_count": null,
   "id": "d9f1cd42",
   "metadata": {
    "papermill": {
     "duration": 0.813759,
     "end_time": "2024-04-21T14:56:42.820539",
     "exception": false,
     "start_time": "2024-04-21T14:56:42.006780",
     "status": "completed"
    },
    "tags": []
   },
   "outputs": [],
   "source": []
  },
  {
   "cell_type": "markdown",
   "id": "c75e5aaa",
   "metadata": {
    "papermill": {
     "duration": 0.739108,
     "end_time": "2024-04-21T14:56:44.279827",
     "exception": false,
     "start_time": "2024-04-21T14:56:43.540719",
     "status": "completed"
    },
    "tags": []
   },
   "source": [
    "### XceptionNet"
   ]
  },
  {
   "cell_type": "code",
   "execution_count": 24,
   "id": "c2e4ae7f",
   "metadata": {
    "execution": {
     "iopub.execute_input": "2024-04-21T14:56:45.770102Z",
     "iopub.status.busy": "2024-04-21T14:56:45.769732Z",
     "iopub.status.idle": "2024-04-21T15:46:23.432130Z",
     "shell.execute_reply": "2024-04-21T15:46:23.431123Z"
    },
    "papermill": {
     "duration": 2978.432472,
     "end_time": "2024-04-21T15:46:23.435004",
     "exception": false,
     "start_time": "2024-04-21T14:56:45.002532",
     "status": "completed"
    },
    "tags": []
   },
   "outputs": [
    {
     "name": "stdout",
     "output_type": "stream",
     "text": [
      "Downloading data from https://storage.googleapis.com/tensorflow/keras-applications/xception/xception_weights_tf_dim_ordering_tf_kernels_notop.h5\n",
      "83683744/83683744 [==============================] - 0s 0us/step\n",
      "Model: \"sequential_2\"\n",
      "_________________________________________________________________\n",
      " Layer (type)                Output Shape              Param #   \n",
      "=================================================================\n",
      " xception (Functional)       (None, 2048)              20861480  \n",
      "                                                                 \n",
      " module_wrapper_12 (ModuleW  (None, 2048)              0         \n",
      " rapper)                                                         \n",
      "                                                                 \n",
      " module_wrapper_13 (ModuleW  (None, 128)               262272    \n",
      " rapper)                                                         \n",
      "                                                                 \n",
      " module_wrapper_14 (ModuleW  (None, 32)                4128      \n",
      " rapper)                                                         \n",
      "                                                                 \n",
      " module_wrapper_15 (ModuleW  (None, 8)                 264       \n",
      " rapper)                                                         \n",
      "                                                                 \n",
      " module_wrapper_16 (ModuleW  (None, 4)                 36        \n",
      " rapper)                                                         \n",
      "                                                                 \n",
      " keras_layer (KerasLayer)    (None, 4)                 12        \n",
      "                                                                 \n",
      " module_wrapper_17 (ModuleW  (None, 3)                 15        \n",
      " rapper)                                                         \n",
      "                                                                 \n",
      "=================================================================\n",
      "Total params: 21128207 (80.60 MB)\n",
      "Trainable params: 266727 (1.02 MB)\n",
      "Non-trainable params: 20861480 (79.58 MB)\n",
      "_________________________________________________________________\n",
      "Epoch 1/50\n",
      "77/77 [==============================] - 63s 776ms/step - loss: 1.0178 - accuracy: 0.5065 - val_loss: 0.7386 - val_accuracy: 0.7101\n",
      "Epoch 2/50\n",
      "77/77 [==============================] - 59s 763ms/step - loss: 0.6923 - accuracy: 0.7518 - val_loss: 0.6308 - val_accuracy: 0.7671\n",
      "Epoch 3/50\n",
      "77/77 [==============================] - 59s 757ms/step - loss: 0.5770 - accuracy: 0.8029 - val_loss: 0.5396 - val_accuracy: 0.8013\n",
      "Epoch 4/50\n",
      "77/77 [==============================] - 59s 760ms/step - loss: 0.5231 - accuracy: 0.8196 - val_loss: 0.6142 - val_accuracy: 0.7769\n",
      "Epoch 5/50\n",
      "77/77 [==============================] - 59s 761ms/step - loss: 0.5169 - accuracy: 0.8200 - val_loss: 0.4947 - val_accuracy: 0.8143\n",
      "Epoch 6/50\n",
      "77/77 [==============================] - 59s 763ms/step - loss: 0.4451 - accuracy: 0.8449 - val_loss: 0.4615 - val_accuracy: 0.8290\n",
      "Epoch 7/50\n",
      "77/77 [==============================] - 59s 759ms/step - loss: 0.4247 - accuracy: 0.8563 - val_loss: 0.6224 - val_accuracy: 0.7606\n",
      "Epoch 8/50\n",
      "77/77 [==============================] - 59s 768ms/step - loss: 0.4247 - accuracy: 0.8473 - val_loss: 0.4375 - val_accuracy: 0.8355\n",
      "Epoch 9/50\n",
      "77/77 [==============================] - 59s 766ms/step - loss: 0.4080 - accuracy: 0.8592 - val_loss: 0.4298 - val_accuracy: 0.8388\n",
      "Epoch 10/50\n",
      "77/77 [==============================] - 59s 766ms/step - loss: 0.3706 - accuracy: 0.8767 - val_loss: 0.4889 - val_accuracy: 0.8094\n",
      "Epoch 11/50\n",
      "77/77 [==============================] - 60s 773ms/step - loss: 0.3575 - accuracy: 0.8731 - val_loss: 0.3837 - val_accuracy: 0.8632\n",
      "Epoch 12/50\n",
      "77/77 [==============================] - 60s 770ms/step - loss: 0.3377 - accuracy: 0.8808 - val_loss: 0.5019 - val_accuracy: 0.7883\n",
      "Epoch 13/50\n",
      "77/77 [==============================] - 60s 772ms/step - loss: 0.3386 - accuracy: 0.8837 - val_loss: 0.4404 - val_accuracy: 0.8355\n",
      "Epoch 14/50\n",
      "77/77 [==============================] - 61s 783ms/step - loss: 0.3326 - accuracy: 0.8780 - val_loss: 0.4912 - val_accuracy: 0.7964\n",
      "Epoch 15/50\n",
      "77/77 [==============================] - 60s 768ms/step - loss: 0.3454 - accuracy: 0.8678 - val_loss: 0.3842 - val_accuracy: 0.8485\n",
      "Epoch 16/50\n",
      "77/77 [==============================] - 60s 771ms/step - loss: 0.3125 - accuracy: 0.8918 - val_loss: 0.3795 - val_accuracy: 0.8502\n",
      "Epoch 17/50\n",
      "77/77 [==============================] - 60s 780ms/step - loss: 0.3096 - accuracy: 0.8886 - val_loss: 0.4023 - val_accuracy: 0.8502\n",
      "Epoch 18/50\n",
      "77/77 [==============================] - 60s 775ms/step - loss: 0.2909 - accuracy: 0.8971 - val_loss: 0.3667 - val_accuracy: 0.8469\n",
      "Epoch 19/50\n",
      "77/77 [==============================] - 59s 761ms/step - loss: 0.2758 - accuracy: 0.9012 - val_loss: 0.4261 - val_accuracy: 0.8322\n",
      "Epoch 20/50\n",
      "77/77 [==============================] - 59s 756ms/step - loss: 0.2877 - accuracy: 0.9000 - val_loss: 0.4600 - val_accuracy: 0.8322\n",
      "Epoch 21/50\n",
      "77/77 [==============================] - 59s 763ms/step - loss: 0.2813 - accuracy: 0.9004 - val_loss: 0.4151 - val_accuracy: 0.8436\n",
      "Epoch 22/50\n",
      "77/77 [==============================] - 59s 759ms/step - loss: 0.2847 - accuracy: 0.9016 - val_loss: 0.7112 - val_accuracy: 0.7231\n",
      "Epoch 23/50\n",
      "77/77 [==============================] - 59s 762ms/step - loss: 0.3023 - accuracy: 0.8890 - val_loss: 0.3978 - val_accuracy: 0.8453\n",
      "Epoch 24/50\n",
      "77/77 [==============================] - 59s 761ms/step - loss: 0.3130 - accuracy: 0.8837 - val_loss: 0.5042 - val_accuracy: 0.8029\n",
      "Epoch 25/50\n",
      "77/77 [==============================] - 59s 756ms/step - loss: 0.3463 - accuracy: 0.8665 - val_loss: 0.3621 - val_accuracy: 0.8648\n",
      "Epoch 26/50\n",
      "77/77 [==============================] - 59s 761ms/step - loss: 0.2776 - accuracy: 0.9020 - val_loss: 0.3484 - val_accuracy: 0.8648\n",
      "Epoch 27/50\n",
      "77/77 [==============================] - 59s 768ms/step - loss: 0.2635 - accuracy: 0.9053 - val_loss: 0.3649 - val_accuracy: 0.8583\n",
      "Epoch 28/50\n",
      "77/77 [==============================] - 59s 761ms/step - loss: 0.2514 - accuracy: 0.9082 - val_loss: 0.3271 - val_accuracy: 0.8681\n",
      "Epoch 29/50\n",
      "77/77 [==============================] - 60s 768ms/step - loss: 0.2469 - accuracy: 0.9122 - val_loss: 0.3594 - val_accuracy: 0.8599\n",
      "Epoch 30/50\n",
      "77/77 [==============================] - 59s 767ms/step - loss: 0.2643 - accuracy: 0.9033 - val_loss: 0.3716 - val_accuracy: 0.8550\n",
      "Epoch 31/50\n",
      "77/77 [==============================] - 59s 762ms/step - loss: 0.2773 - accuracy: 0.8992 - val_loss: 0.3667 - val_accuracy: 0.8485\n",
      "Epoch 32/50\n",
      "77/77 [==============================] - 59s 763ms/step - loss: 0.2573 - accuracy: 0.9016 - val_loss: 0.3521 - val_accuracy: 0.8664\n",
      "Epoch 33/50\n",
      "77/77 [==============================] - 59s 764ms/step - loss: 0.2306 - accuracy: 0.9233 - val_loss: 0.5922 - val_accuracy: 0.8029\n",
      "Epoch 34/50\n",
      "77/77 [==============================] - 59s 765ms/step - loss: 0.2740 - accuracy: 0.9012 - val_loss: 0.3685 - val_accuracy: 0.8567\n",
      "Epoch 35/50\n",
      "77/77 [==============================] - 59s 764ms/step - loss: 0.2890 - accuracy: 0.8967 - val_loss: 0.3158 - val_accuracy: 0.8746\n",
      "Epoch 36/50\n",
      "77/77 [==============================] - 59s 767ms/step - loss: 0.2507 - accuracy: 0.9061 - val_loss: 0.3372 - val_accuracy: 0.8713\n",
      "Epoch 37/50\n",
      "77/77 [==============================] - 60s 771ms/step - loss: 0.2634 - accuracy: 0.9049 - val_loss: 0.3424 - val_accuracy: 0.8681\n",
      "Epoch 38/50\n",
      "77/77 [==============================] - 59s 763ms/step - loss: 0.2225 - accuracy: 0.9229 - val_loss: 0.3166 - val_accuracy: 0.8779\n",
      "Epoch 39/50\n",
      "77/77 [==============================] - 59s 765ms/step - loss: 0.2347 - accuracy: 0.9155 - val_loss: 0.3482 - val_accuracy: 0.8648\n",
      "Epoch 40/50\n",
      "77/77 [==============================] - 59s 759ms/step - loss: 0.2363 - accuracy: 0.9167 - val_loss: 0.3824 - val_accuracy: 0.8453\n",
      "Epoch 41/50\n",
      "77/77 [==============================] - 59s 767ms/step - loss: 0.2404 - accuracy: 0.9122 - val_loss: 0.4421 - val_accuracy: 0.8208\n",
      "Epoch 42/50\n",
      "77/77 [==============================] - 60s 773ms/step - loss: 0.2139 - accuracy: 0.9261 - val_loss: 0.3228 - val_accuracy: 0.8762\n",
      "Epoch 43/50\n",
      "77/77 [==============================] - 60s 772ms/step - loss: 0.2143 - accuracy: 0.9237 - val_loss: 0.3647 - val_accuracy: 0.8616\n",
      "Epoch 44/50\n",
      "77/77 [==============================] - 60s 772ms/step - loss: 0.2034 - accuracy: 0.9265 - val_loss: 0.3265 - val_accuracy: 0.8681\n",
      "Epoch 45/50\n",
      "77/77 [==============================] - 60s 769ms/step - loss: 0.2114 - accuracy: 0.9290 - val_loss: 0.3635 - val_accuracy: 0.8632\n",
      "Epoch 46/50\n",
      "77/77 [==============================] - 60s 774ms/step - loss: 0.2261 - accuracy: 0.9204 - val_loss: 0.3179 - val_accuracy: 0.8795\n",
      "Epoch 47/50\n",
      "77/77 [==============================] - 60s 774ms/step - loss: 0.2338 - accuracy: 0.9110 - val_loss: 0.3425 - val_accuracy: 0.8681\n",
      "Epoch 48/50\n",
      "77/77 [==============================] - 60s 771ms/step - loss: 0.2180 - accuracy: 0.9216 - val_loss: 0.3012 - val_accuracy: 0.8876\n",
      "Epoch 49/50\n",
      "77/77 [==============================] - 60s 776ms/step - loss: 0.2425 - accuracy: 0.9102 - val_loss: 0.3703 - val_accuracy: 0.8664\n",
      "Epoch 50/50\n",
      "77/77 [==============================] - 60s 772ms/step - loss: 0.2478 - accuracy: 0.9102 - val_loss: 0.3625 - val_accuracy: 0.8681\n"
     ]
    },
    {
     "data": {
      "image/png": "[encoded data removed]",
      "text/plain": [
       "<Figure size 640x480 with 1 Axes>"
      ]
     },
     "metadata": {},
     "output_type": "display_data"
    },
    {
     "data": {
      "image/png": "[encoded data removed]",
      "text/plain": [
       "<Figure size 640x480 with 1 Axes>"
      ]
     },
     "metadata": {},
     "output_type": "display_data"
    }
   ],
   "source": [
    "xception_model = tf.keras.applications.xception.Xception(include_top=False,\n",
    "                   input_shape=INPUT,\n",
    "                   pooling='max',classes=3,\n",
    "                   weights='imagenet')\n",
    "\n",
    "show_results(xception_model, 50, 0.001, train_ds1, val_ds1)"
   ]
  },
  {
   "cell_type": "code",
   "execution_count": null,
   "id": "756db960",
   "metadata": {
    "papermill": {
     "duration": 1.051944,
     "end_time": "2024-04-21T15:46:25.550002",
     "exception": false,
     "start_time": "2024-04-21T15:46:24.498058",
     "status": "completed"
    },
    "tags": []
   },
   "outputs": [],
   "source": []
  },
  {
   "cell_type": "markdown",
   "id": "c0b767bf",
   "metadata": {
    "papermill": {
     "duration": 1.04019,
     "end_time": "2024-04-21T15:46:27.692671",
     "exception": false,
     "start_time": "2024-04-21T15:46:26.652481",
     "status": "completed"
    },
    "tags": []
   },
   "source": [
    "### Resnet152"
   ]
  },
  {
   "cell_type": "code",
   "execution_count": 25,
   "id": "bdf1477f",
   "metadata": {
    "execution": {
     "iopub.execute_input": "2024-04-21T15:46:29.870637Z",
     "iopub.status.busy": "2024-04-21T15:46:29.869963Z",
     "iopub.status.idle": "2024-04-21T15:46:29.874634Z",
     "shell.execute_reply": "2024-04-21T15:46:29.873777Z"
    },
    "papermill": {
     "duration": 1.060976,
     "end_time": "2024-04-21T15:46:29.876551",
     "exception": false,
     "start_time": "2024-04-21T15:46:28.815575",
     "status": "completed"
    },
    "tags": []
   },
   "outputs": [],
   "source": [
    "# resnet152_model = tf.keras.applications.resnet.ResNet152(include_top=False,\n",
    "#                    input_shape=INPUT,\n",
    "#                    pooling='max',classes=3,\n",
    "#                    weights='imagenet')\n",
    "\n",
    "# show_results(resnet152_model, 50, 0.001, train_ds1, val_ds1)"
   ]
  },
  {
   "cell_type": "code",
   "execution_count": null,
   "id": "6317bcd0",
   "metadata": {
    "papermill": {
     "duration": 1.042378,
     "end_time": "2024-04-21T15:46:32.036773",
     "exception": false,
     "start_time": "2024-04-21T15:46:30.994395",
     "status": "completed"
    },
    "tags": []
   },
   "outputs": [],
   "source": []
  }
 ],
 "metadata": {
  "kaggle": {
   "accelerator": "gpu",
   "dataSources": [
    {
     "datasetId": 2020131,
     "sourceId": 3347069,
     "sourceType": "datasetVersion"
    }
   ],
   "dockerImageVersionId": 30648,
   "isGpuEnabled": true,
   "isInternetEnabled": true,
   "language": "python",
   "sourceType": "notebook"
  },
  "kernelspec": {
   "display_name": "Python 3",
   "language": "python",
   "name": "python3"
  },
  "language_info": {
   "codemirror_mode": {
    "name": "ipython",
    "version": 3
   },
   "file_extension": ".py",
   "mimetype": "text/x-python",
   "name": "python",
   "nbconvert_exporter": "python",
   "pygments_lexer": "ipython3",
   "version": "3.10.13"
  },
  "papermill": {
   "default_parameters": {},
   "duration": 8215.575977,
   "end_time": "2024-04-21T15:46:36.112368",
   "environment_variables": {},
   "exception": null,
   "input_path": "__notebook__.ipynb",
   "output_path": "__notebook__.ipynb",
   "parameters": {},
   "start_time": "2024-04-21T13:29:40.536391",
   "version": "2.5.0"
  }
 },
 "nbformat": 4,
 "nbformat_minor": 5
}
