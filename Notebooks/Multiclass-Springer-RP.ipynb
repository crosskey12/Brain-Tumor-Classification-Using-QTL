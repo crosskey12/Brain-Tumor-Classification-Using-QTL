{
 "cells": [
  {
   "cell_type": "code",
   "execution_count": 1,
   "id": "72ad595d",
   "metadata": {
    "_cell_guid": "b1076dfc-b9ad-4769-8c92-a6c4dae69d19",
    "_uuid": "8f2839f25d086af736a60e9eeb907d3b93b6e0e5",
    "execution": {
     "iopub.execute_input": "2024-04-20T13:38:24.274407Z",
     "iopub.status.busy": "2024-04-20T13:38:24.274060Z",
     "iopub.status.idle": "2024-04-20T13:38:25.014946Z",
     "shell.execute_reply": "2024-04-20T13:38:25.014148Z"
    },
    "papermill": {
     "duration": 0.750459,
     "end_time": "2024-04-20T13:38:25.017135",
     "exception": false,
     "start_time": "2024-04-20T13:38:24.266676",
     "status": "completed"
    },
    "tags": []
   },
   "outputs": [],
   "source": [
    "# This Python 3 environment comes with many helpful analytics libraries installed\n",
    "# It is defined by the kaggle/python Docker image: https://github.com/kaggle/docker-python\n",
    "# For example, here's several helpful packages to load\n",
    "\n",
    "import numpy as np # linear algebra\n",
    "import pandas as pd # data processing, CSV file I/O (e.g. pd.read_csv)\n",
    "\n",
    "# Input data files are available in the read-only \"../input/\" directory\n",
    "# For example, running this (by clicking run or pressing Shift+Enter) will list all files under the input directory\n",
    "\n",
    "import os\n",
    "\n",
    "\n",
    "# You can write up to 20GB to the current directory (/kaggle/working/) that gets preserved as output when you create a version using \"Save & Run All\" \n",
    "# You can also write temporary files to /kaggle/temp/, but they won't be saved outside of the current session"
   ]
  },
  {
   "cell_type": "code",
   "execution_count": 2,
   "id": "44c9d7e9",
   "metadata": {
    "execution": {
     "iopub.execute_input": "2024-04-20T13:38:25.030446Z",
     "iopub.status.busy": "2024-04-20T13:38:25.030072Z",
     "iopub.status.idle": "2024-04-20T13:38:25.342675Z",
     "shell.execute_reply": "2024-04-20T13:38:25.341875Z"
    },
    "papermill": {
     "duration": 0.321678,
     "end_time": "2024-04-20T13:38:25.344927",
     "exception": false,
     "start_time": "2024-04-20T13:38:25.023249",
     "status": "completed"
    },
    "tags": []
   },
   "outputs": [],
   "source": [
    "import os\n",
    "import PIL\n",
    "import zipfile\n",
    "import numpy as np\n",
    "import pandas as pd\n",
    "import matplotlib.pyplot as plt\n",
    "import pickle\n",
    "import h5py\n",
    "import cv2"
   ]
  },
  {
   "cell_type": "code",
   "execution_count": 3,
   "id": "f611f8a4",
   "metadata": {
    "execution": {
     "iopub.execute_input": "2024-04-20T13:38:25.357726Z",
     "iopub.status.busy": "2024-04-20T13:38:25.357413Z",
     "iopub.status.idle": "2024-04-20T13:38:25.362653Z",
     "shell.execute_reply": "2024-04-20T13:38:25.361895Z"
    },
    "papermill": {
     "duration": 0.013813,
     "end_time": "2024-04-20T13:38:25.364601",
     "exception": false,
     "start_time": "2024-04-20T13:38:25.350788",
     "status": "completed"
    },
    "tags": []
   },
   "outputs": [],
   "source": [
    "os.mkdir(\"/kaggle/working/bt_images\")\n",
    "os.mkdir(\"/kaggle/working/bt_images/1\")\n",
    "os.mkdir(\"/kaggle/working/bt_images/2\")\n",
    "os.mkdir(\"/kaggle/working/bt_images/3\")"
   ]
  },
  {
   "cell_type": "code",
   "execution_count": 4,
   "id": "3f63ec1d",
   "metadata": {
    "execution": {
     "iopub.execute_input": "2024-04-20T13:38:25.377526Z",
     "iopub.status.busy": "2024-04-20T13:38:25.376948Z",
     "iopub.status.idle": "2024-04-20T13:39:42.119882Z",
     "shell.execute_reply": "2024-04-20T13:39:42.118963Z"
    },
    "papermill": {
     "duration": 76.757526,
     "end_time": "2024-04-20T13:39:42.127876",
     "exception": false,
     "start_time": "2024-04-20T13:38:25.370350",
     "status": "completed"
    },
    "tags": []
   },
   "outputs": [
    {
     "name": "stdout",
     "output_type": "stream",
     "text": [
      "3064 files successfully saved\n"
     ]
    },
    {
     "data": {
      "image/png": "[encoded data removed]",
      "text/plain": [
       "<Figure size 640x480 with 1 Axes>"
      ]
     },
     "metadata": {},
     "output_type": "display_data"
    }
   ],
   "source": [
    "labels=[]\n",
    "border=[]\n",
    "filename = None\n",
    "\n",
    "for filename in range(1, 3065):\n",
    "  with h5py.File('/kaggle/input/figshare-brain-tumor-dataset/dataset/data/{}.mat'.format(filename), 'r') as f:\n",
    "      img = f['cjdata']['image']\n",
    "      label = f['cjdata']['label'][0][0]\n",
    "     \n",
    "     \n",
    "      labels.append(int(label))\n",
    "      img = np.array(img, dtype=np.float32)\n",
    "      \n",
    "      plt.axis('off')\n",
    "      \n",
    "      plt.imsave(\"/kaggle/working/bt_images/{}/{}.jpg\".format(str(int(label)),filename), img, cmap='gray')\n",
    "      \n",
    "      \n",
    "print(\"{} files successfully saved\".format(filename))"
   ]
  },
  {
   "cell_type": "code",
   "execution_count": 5,
   "id": "f994d290",
   "metadata": {
    "execution": {
     "iopub.execute_input": "2024-04-20T13:39:42.141510Z",
     "iopub.status.busy": "2024-04-20T13:39:42.140568Z",
     "iopub.status.idle": "2024-04-20T13:39:55.995041Z",
     "shell.execute_reply": "2024-04-20T13:39:55.993877Z"
    },
    "papermill": {
     "duration": 13.863094,
     "end_time": "2024-04-20T13:39:55.997015",
     "exception": false,
     "start_time": "2024-04-20T13:39:42.133921",
     "status": "completed"
    },
    "tags": []
   },
   "outputs": [
    {
     "name": "stdout",
     "output_type": "stream",
     "text": [
      "Collecting split-folders\r\n",
      "  Downloading split_folders-0.5.1-py3-none-any.whl.metadata (6.2 kB)\r\n",
      "Downloading split_folders-0.5.1-py3-none-any.whl (8.4 kB)\r\n",
      "Installing collected packages: split-folders\r\n",
      "Successfully installed split-folders-0.5.1\r\n"
     ]
    },
    {
     "name": "stderr",
     "output_type": "stream",
     "text": [
      "Copying files: 3064 files [00:00, 6618.79 files/s]\n"
     ]
    }
   ],
   "source": [
    "!pip install split-folders\n",
    "import splitfolders\n",
    "splitfolders.ratio('/kaggle/working/bt_images', output=\"/kaggle/working/output\", seed=1337, ratio=(.8, 0.2,0.0)) "
   ]
  },
  {
   "cell_type": "code",
   "execution_count": 6,
   "id": "f07bc94f",
   "metadata": {
    "execution": {
     "iopub.execute_input": "2024-04-20T13:39:56.011908Z",
     "iopub.status.busy": "2024-04-20T13:39:56.011589Z",
     "iopub.status.idle": "2024-04-20T13:40:03.203441Z",
     "shell.execute_reply": "2024-04-20T13:40:03.202617Z"
    },
    "papermill": {
     "duration": 7.20199,
     "end_time": "2024-04-20T13:40:03.205859",
     "exception": false,
     "start_time": "2024-04-20T13:39:56.003869",
     "status": "completed"
    },
    "tags": []
   },
   "outputs": [],
   "source": [
    "#packages for notebook\n",
    "import torch\n",
    "import torch.nn as nn\n",
    "import torch.nn.functional as F\n",
    "from torch.utils.data import DataLoader, Dataset\n",
    "from torchvision import transforms, models\n",
    "from torchvision.utils import make_grid\n",
    "import os\n",
    "import random\n",
    "import numpy as np\n",
    "import pandas as pd\n",
    "import pickle\n",
    "import time\n",
    "import matplotlib.pyplot as plt\n",
    "import seaborn as sns\n",
    "from sklearn.model_selection import train_test_split\n",
    "from sklearn.metrics import confusion_matrix, classification_report\n",
    "from torchvision.datasets import ImageFolder"
   ]
  },
  {
   "cell_type": "code",
   "execution_count": 7,
   "id": "de77c4bc",
   "metadata": {
    "execution": {
     "iopub.execute_input": "2024-04-20T13:40:03.220918Z",
     "iopub.status.busy": "2024-04-20T13:40:03.220436Z",
     "iopub.status.idle": "2024-04-20T13:40:03.229694Z",
     "shell.execute_reply": "2024-04-20T13:40:03.228767Z"
    },
    "papermill": {
     "duration": 0.019001,
     "end_time": "2024-04-20T13:40:03.231782",
     "exception": false,
     "start_time": "2024-04-20T13:40:03.212781",
     "status": "completed"
    },
    "tags": []
   },
   "outputs": [],
   "source": [
    "rotation_angles = [45, 90, 135, 180, 225, 270, 315]\n",
    "    \n",
    "    # Define sigma values for Gaussian Blur\n",
    "sigma_values = [0.25, 0.5, 1.0, 2.0]\n",
    "    \n",
    "    # Define lightness values for sharpening\n",
    "lightness_values = [0.5, 1.0, 1.5, 2.0]\n",
    "    \n",
    "    # Define transformations\n",
    "transform = transforms.Compose([\n",
    "        transforms.Resize((256, 256)),\n",
    "        transforms.RandomChoice([\n",
    "            transforms.RandomRotation(angle) for angle in rotation_angles\n",
    "        ]),\n",
    "        transforms.RandomHorizontalFlip(p=0.5),\n",
    "        transforms.RandomVerticalFlip(p=0.5),\n",
    "        transforms.RandomApply([\n",
    "            transforms.GaussianBlur(kernel_size=23, sigma=(sigma, sigma)) for sigma in sigma_values\n",
    "        ], p=0.5),\n",
    "        transforms.RandomApply([\n",
    "            transforms.Lambda(lambda img: transforms.functional.adjust_sharpness(img, lightness)) \n",
    "            for lightness in lightness_values\n",
    "        ], p=0.5),\n",
    "        transforms.ToTensor(),\n",
    "        transforms.Normalize(mean=[0.485, 0.456, 0.406], std=[0.229, 0.224, 0.225])\n",
    "    ])"
   ]
  },
  {
   "cell_type": "code",
   "execution_count": 8,
   "id": "19501c9f",
   "metadata": {
    "execution": {
     "iopub.execute_input": "2024-04-20T13:40:03.246019Z",
     "iopub.status.busy": "2024-04-20T13:40:03.245722Z",
     "iopub.status.idle": "2024-04-20T13:40:03.249626Z",
     "shell.execute_reply": "2024-04-20T13:40:03.248912Z"
    },
    "papermill": {
     "duration": 0.013173,
     "end_time": "2024-04-20T13:40:03.251545",
     "exception": false,
     "start_time": "2024-04-20T13:40:03.238372",
     "status": "completed"
    },
    "tags": []
   },
   "outputs": [],
   "source": [
    "# transform = transforms.Compose([\n",
    "#     transforms.Resize((256, 256)),\n",
    "#     transforms.RandomRotation(90),\n",
    "#     transforms.RandomVerticalFlip(),\n",
    "#     transforms.ToTensor(),\n",
    "#     transforms.Normalize(mean=[0.485, 0.456, 0.406], std=[0.229, 0.224, 0.225]),\n",
    "# ])"
   ]
  },
  {
   "cell_type": "code",
   "execution_count": 9,
   "id": "a0155c0c",
   "metadata": {
    "execution": {
     "iopub.execute_input": "2024-04-20T13:40:03.265586Z",
     "iopub.status.busy": "2024-04-20T13:40:03.265327Z",
     "iopub.status.idle": "2024-04-20T13:40:03.268857Z",
     "shell.execute_reply": "2024-04-20T13:40:03.267880Z"
    },
    "papermill": {
     "duration": 0.013103,
     "end_time": "2024-04-20T13:40:03.271192",
     "exception": false,
     "start_time": "2024-04-20T13:40:03.258089",
     "status": "completed"
    },
    "tags": []
   },
   "outputs": [],
   "source": [
    "#os.rmdir('/kaggle/working/output/train/0')\n",
    "# os.rmdir('/kaggle/working/output/val/0')"
   ]
  },
  {
   "cell_type": "code",
   "execution_count": 10,
   "id": "1757bbfa",
   "metadata": {
    "execution": {
     "iopub.execute_input": "2024-04-20T13:40:03.287495Z",
     "iopub.status.busy": "2024-04-20T13:40:03.287187Z",
     "iopub.status.idle": "2024-04-20T13:40:03.306296Z",
     "shell.execute_reply": "2024-04-20T13:40:03.305497Z"
    },
    "papermill": {
     "duration": 0.029836,
     "end_time": "2024-04-20T13:40:03.308301",
     "exception": false,
     "start_time": "2024-04-20T13:40:03.278465",
     "status": "completed"
    },
    "tags": []
   },
   "outputs": [],
   "source": [
    "dataset_path=\"/kaggle/working/output\"\n",
    "batch_size=64\n",
    "train_dataset = ImageFolder(dataset_path+\"/train\", transform=transform)\n",
    "val_dataset = ImageFolder(dataset_path+\"/val\", transform=transform)\n",
    "train_loader = DataLoader(train_dataset, batch_size=batch_size, shuffle=True)\n",
    "test_loader = DataLoader(val_dataset, batch_size=batch_size, shuffle=True)"
   ]
  },
  {
   "cell_type": "code",
   "execution_count": 11,
   "id": "d109becc",
   "metadata": {
    "execution": {
     "iopub.execute_input": "2024-04-20T13:40:03.323607Z",
     "iopub.status.busy": "2024-04-20T13:40:03.323368Z",
     "iopub.status.idle": "2024-04-20T13:40:03.328566Z",
     "shell.execute_reply": "2024-04-20T13:40:03.327664Z"
    },
    "papermill": {
     "duration": 0.014541,
     "end_time": "2024-04-20T13:40:03.330478",
     "exception": false,
     "start_time": "2024-04-20T13:40:03.315937",
     "status": "completed"
    },
    "tags": []
   },
   "outputs": [],
   "source": [
    "# import torch\n",
    "# import torch.nn as nn\n",
    "# import torch.nn.functional as F\n",
    "\n",
    "# class CNN(nn.Module):\n",
    "#     def __init__(self):\n",
    "#         super(CNN, self).__init__()\n",
    "#         self.conv1 = nn.Conv2d(3, 16, kernel_size=5, stride=2, padding=1)  # Convolutional Layer 1\n",
    "#         self.conv2 = nn.Conv2d(16, 32, kernel_size=3, stride=2, padding=1)  # Convolutional Layer 2\n",
    "#         self.conv3 = nn.Conv2d(32, 64, kernel_size=3, stride=1, padding=1)  # Convolutional Layer 3\n",
    "#         self.conv4 = nn.Conv2d(64, 128, kernel_size=3, stride=1, padding=1)  # Convolutional Layer 4\n",
    "        \n",
    "#         self.fc1 = nn.Linear(128 * 4 * 4, 1024)  # Fully Connected Layer 1\n",
    "#         self.fc2 = nn.Linear(1024, 3)  # Fully Connected Layer 2\n",
    "        \n",
    "#         self.dropout = nn.Dropout(p=0.5)\n",
    "#         self.flatten = nn.Flatten()\n",
    "        \n",
    "#     def forward(self, x):\n",
    "#         x = F.relu(self.conv1(x))  # Conv1\n",
    "#         x = self.dropout(x)\n",
    "#         x = F.max_pool2d(x, kernel_size=2, stride=2)  # Max Pooling 1\n",
    "        \n",
    "#         x = F.relu(self.conv2(x))  # Conv2\n",
    "#         x = self.dropout(x)\n",
    "#         x = F.max_pool2d(x, kernel_size=2, stride=2)  # Max Pooling 2\n",
    "        \n",
    "#         x = F.relu(self.conv3(x))  # Conv3\n",
    "#         x = self.dropout(x)\n",
    "#         x = F.max_pool2d(x, kernel_size=2, stride=2)  # Max Pooling 3\n",
    "        \n",
    "#         x = F.relu(self.conv4(x))  # Conv4\n",
    "#         x = self.dropout(x)\n",
    "#         x = F.max_pool2d(x, kernel_size=2, stride=2)  # Max Pooling 4\n",
    "        \n",
    "# #         x = self.flatten(x)# Flatten\n",
    "#         x = x.view(-1, 128 * 4 * 4)\n",
    "#         x = F.relu(self.fc1(x))  # FC1\n",
    "#         x = self.dropout(x)\n",
    "#         x = self.fc2(x)  # FC2\n",
    "        \n",
    "#         return F.softmax(x, dim=1)  # Softmax\n",
    "\n",
    "# # Initialize the model\n",
    "# resnet_model = CNN()\n",
    "# resnet_model.cuda()\n",
    "# print(resnet_model)\n"
   ]
  },
  {
   "cell_type": "code",
   "execution_count": null,
   "id": "8cd95a1f",
   "metadata": {
    "papermill": {
     "duration": 0.006285,
     "end_time": "2024-04-20T13:40:03.343248",
     "exception": false,
     "start_time": "2024-04-20T13:40:03.336963",
     "status": "completed"
    },
    "tags": []
   },
   "outputs": [],
   "source": []
  },
  {
   "cell_type": "code",
   "execution_count": 12,
   "id": "ce004b18",
   "metadata": {
    "execution": {
     "iopub.execute_input": "2024-04-20T13:40:03.357203Z",
     "iopub.status.busy": "2024-04-20T13:40:03.356927Z",
     "iopub.status.idle": "2024-04-20T13:40:03.361605Z",
     "shell.execute_reply": "2024-04-20T13:40:03.360781Z"
    },
    "papermill": {
     "duration": 0.013836,
     "end_time": "2024-04-20T13:40:03.363541",
     "exception": false,
     "start_time": "2024-04-20T13:40:03.349705",
     "status": "completed"
    },
    "tags": []
   },
   "outputs": [],
   "source": [
    "# # instantiate transfer learning model\n",
    "# resnet_model = models.resnet50(pretrained=True)\n",
    "\n",
    "# # set all parameters as not trainable\n",
    "# for param in resnet_model.parameters():\n",
    "#     param.requires_grad = False\n",
    "\n",
    "# # get input of fc layer\n",
    "# n_inputs = resnet_model.fc.in_features\n",
    "\n",
    "# # redefine fc layer / top layer / head for our classification problem\n",
    "# resnet_model.fc = nn.Sequential(\n",
    "#     nn.Linear(n_inputs, 2048),\n",
    "#     nn.SELU(),\n",
    "#     nn.Dropout(p=0.4),\n",
    "#     nn.Linear(2048, 1024),\n",
    "#     nn.SELU(),\n",
    "#     nn.Dropout(p=0.4),\n",
    "#     nn.Linear(1024, 512),\n",
    "#     nn.SELU(),\n",
    "#     nn.Dropout(p=0.4),\n",
    "#     nn.Linear(512, 256),\n",
    "#     nn.SELU(),\n",
    "#     nn.Dropout(p=0.4),\n",
    "#     nn.Linear(256, 3)  # Assuming 4 classes\n",
    "# )\n",
    "\n",
    "# # Make only the last 2 layers (fc layer and the final activation) trainable\n",
    "# for name, child in resnet_model.named_children():\n",
    "#     if name == 'fc'or name=='layer4':\n",
    "#         for param in child.parameters():\n",
    "#             param.requires_grad = True\n",
    "\n",
    "# # set model to run on GPU or CPU based on availability (not shown in your code)\n",
    "# resnet_model.cuda()\n",
    "# # print the transfer\n",
    "# print(resnet_model)"
   ]
  },
  {
   "cell_type": "code",
   "execution_count": 13,
   "id": "59793e8c",
   "metadata": {
    "execution": {
     "iopub.execute_input": "2024-04-20T13:40:03.377601Z",
     "iopub.status.busy": "2024-04-20T13:40:03.377317Z",
     "iopub.status.idle": "2024-04-20T13:40:03.383940Z",
     "shell.execute_reply": "2024-04-20T13:40:03.383117Z"
    },
    "papermill": {
     "duration": 0.015634,
     "end_time": "2024-04-20T13:40:03.385660",
     "exception": false,
     "start_time": "2024-04-20T13:40:03.370026",
     "status": "completed"
    },
    "tags": []
   },
   "outputs": [],
   "source": [
    "# import torch\n",
    "# import torch.nn as nn\n",
    "\n",
    "# class MyModel(nn.Module):\n",
    "#     def __init__(self):\n",
    "#         super(MyModel, self).__init__()\n",
    "#         self.conv1 = nn.Conv2d(in_channels=3, out_channels=32, kernel_size=3)\n",
    "#         self.relu1 = nn.ReLU()\n",
    "#         self.batchnorm1 = nn.BatchNorm2d(32)\n",
    "        \n",
    "#         self.conv2 = nn.Conv2d(in_channels=32, out_channels=64, kernel_size=3)\n",
    "#         self.relu2 = nn.ReLU()\n",
    "#         self.batchnorm2 = nn.BatchNorm2d(64)\n",
    "        \n",
    "#         self.maxpool1 = nn.MaxPool2d(kernel_size=2)\n",
    "        \n",
    "#         self.conv3 = nn.Conv2d(in_channels=64, out_channels=96, kernel_size=3)\n",
    "#         self.relu3 = nn.ReLU()\n",
    "#         self.batchnorm3 = nn.BatchNorm2d(96)\n",
    "        \n",
    "#         self.conv4 = nn.Conv2d(in_channels=96, out_channels=128, kernel_size=3)\n",
    "#         self.relu4 = nn.ReLU()\n",
    "#         self.batchnorm4 = nn.BatchNorm2d(128)\n",
    "        \n",
    "#         self.maxpool2 = nn.MaxPool2d(kernel_size=2)\n",
    "        \n",
    "#         self.conv5 = nn.Conv2d(in_channels=128, out_channels=160, kernel_size=3)\n",
    "#         self.relu5 = nn.ReLU()\n",
    "#         self.batchnorm5 = nn.BatchNorm2d(160)\n",
    "        \n",
    "#         self.conv6 = nn.Conv2d(in_channels=160, out_channels=192, kernel_size=3)\n",
    "#         self.relu6 = nn.ReLU()\n",
    "#         self.batchnorm6 = nn.BatchNorm2d(192)\n",
    "        \n",
    "#         self.maxpool3 = nn.MaxPool2d(kernel_size=2)\n",
    "        \n",
    "#         self.conv7 = nn.Conv2d(in_channels=192, out_channels=224, kernel_size=3)\n",
    "#         self.relu7 = nn.ReLU()\n",
    "#         self.batchnorm7 = nn.BatchNorm2d(224)\n",
    "        \n",
    "#         self.conv8 = nn.Conv2d(in_channels=224, out_channels=256, kernel_size=3)\n",
    "#         self.relu8 = nn.ReLU()\n",
    "#         self.batchnorm8 = nn.BatchNorm2d(256)\n",
    "        \n",
    "#         self.maxpool4 = nn.MaxPool2d(kernel_size=2)\n",
    "        \n",
    "#         self.conv9 = nn.Conv2d(in_channels=256, out_channels=288, kernel_size=3)\n",
    "#         self.relu9 = nn.ReLU()\n",
    "#         self.batchnorm9 = nn.BatchNorm2d(288)\n",
    "        \n",
    "#         self.conv10 = nn.Conv2d(in_channels=288, out_channels=320, kernel_size=3)\n",
    "#         self.relu10 = nn.ReLU()\n",
    "#         self.batchnorm10 = nn.BatchNorm2d(320)\n",
    "        \n",
    "#         self.maxpool5 = nn.MaxPool2d(kernel_size=2)\n",
    "        \n",
    "#         self.flatten = nn.Flatten()\n",
    "#         self.dense1 = nn.Linear(320 * 4 * 4, 64)\n",
    "#         self.dense2 = nn.Linear(64,3)\n",
    "\n",
    "#     def forward(self, x):\n",
    "#         x = self.batchnorm1(self.relu1(self.conv1(x)))\n",
    "#         x = self.batchnorm2(self.relu2(self.conv2(x)))\n",
    "#         x = self.maxpool1(x)\n",
    "#         x = self.batchnorm3(self.relu3(self.conv3(x)))\n",
    "#         x = self.batchnorm4(self.relu4(self.conv4(x)))\n",
    "#         x = self.maxpool2(x)\n",
    "#         x = self.batchnorm5(self.relu5(self.conv5(x)))\n",
    "#         x = self.batchnorm6(self.relu6(self.conv6(x)))\n",
    "#         x = self.maxpool3(x)\n",
    "#         x = self.batchnorm7(self.relu7(self.conv7(x)))\n",
    "#         x = self.batchnorm8(self.relu8(self.conv8(x)))\n",
    "#         x = self.maxpool4(x)\n",
    "#         x = self.batchnorm9(self.relu9(self.conv9(x)))\n",
    "#         x = self.batchnorm10(self.relu10(self.conv10(x)))\n",
    "#         x = self.maxpool5(x)\n",
    "#         x = self.flatten(x)\n",
    "#         x = self.dense1(x)\n",
    "#         x = self.dense2(x)\n",
    "#         return x\n",
    "\n",
    "# # Test the model\n",
    "# resnet_model = MyModel()\n",
    "# resnet_model.cuda()\n",
    "# print(resnet_model)\n"
   ]
  },
  {
   "cell_type": "code",
   "execution_count": 14,
   "id": "47f887b6",
   "metadata": {
    "execution": {
     "iopub.execute_input": "2024-04-20T13:40:03.400477Z",
     "iopub.status.busy": "2024-04-20T13:40:03.400222Z",
     "iopub.status.idle": "2024-04-20T13:40:03.649372Z",
     "shell.execute_reply": "2024-04-20T13:40:03.648404Z"
    },
    "papermill": {
     "duration": 0.259128,
     "end_time": "2024-04-20T13:40:03.651687",
     "exception": false,
     "start_time": "2024-04-20T13:40:03.392559",
     "status": "completed"
    },
    "tags": []
   },
   "outputs": [
    {
     "name": "stdout",
     "output_type": "stream",
     "text": [
      "CNN(\n",
      "  (conv1): Conv2d(3, 128, kernel_size=(6, 6), stride=(4, 4))\n",
      "  (conv2): Conv2d(128, 96, kernel_size=(6, 6), stride=(1, 1), padding=(2, 2))\n",
      "  (conv3): Conv2d(96, 96, kernel_size=(2, 2), stride=(1, 1), padding=(2, 2))\n",
      "  (conv4): Conv2d(96, 24, kernel_size=(6, 6), stride=(1, 1), padding=(2, 2))\n",
      "  (conv5): Conv2d(24, 24, kernel_size=(6, 6), stride=(1, 1), padding=(2, 2))\n",
      "  (conv6): Conv2d(24, 32, kernel_size=(4, 4), stride=(1, 1), padding=(2, 2))\n",
      "  (fc1): Linear(in_features=32, out_features=512, bias=True)\n",
      "  (fc2): Linear(in_features=512, out_features=3, bias=True)\n",
      "  (dropout): Dropout(p=0.3, inplace=False)\n",
      ")\n"
     ]
    }
   ],
   "source": [
    "import torch\n",
    "import torch.nn as nn\n",
    "import torch.nn.functional as F\n",
    "\n",
    "class CNN(nn.Module):\n",
    "    def __init__(self):\n",
    "        super(CNN, self).__init__()\n",
    "        self.conv1 = nn.Conv2d(in_channels=3, out_channels=128, kernel_size=(6, 6), stride=(4, 4), padding=(0, 0))\n",
    "        self.conv2 = nn.Conv2d(in_channels=128, out_channels=96, kernel_size=(6, 6), stride=(1, 1), padding=(2, 2))\n",
    "        self.conv3 = nn.Conv2d(in_channels=96, out_channels=96, kernel_size=(2, 2), stride=(1, 1), padding=(2, 2))\n",
    "        self.conv4 = nn.Conv2d(in_channels=96, out_channels=24, kernel_size=(6, 6), stride=(1, 1), padding=(2, 2))\n",
    "        self.conv5 = nn.Conv2d(in_channels=24, out_channels=24, kernel_size=(6, 6), stride=(1, 1), padding=(2, 2))\n",
    "        self.conv6 = nn.Conv2d(in_channels=24, out_channels=32, kernel_size=(4, 4), stride=(1, 1), padding=(2, 2))\n",
    "        self.fc1 = nn.Linear(32 * 1 * 1, 512)\n",
    "        self.fc2 = nn.Linear(512, 3)\n",
    "        self.dropout = nn.Dropout(p=0.3)\n",
    "        \n",
    "    def forward(self, x):\n",
    "        x = F.relu(self.conv1(x))\n",
    "        x = F.local_response_norm(x, size=128)\n",
    "        x = F.max_pool2d(x, kernel_size=(2, 2), stride=(2, 2))\n",
    "        x = F.relu(self.conv2(x))\n",
    "        x = F.max_pool2d(x, kernel_size=(2, 2), stride=(2, 2))\n",
    "        x = F.relu(self.conv3(x))\n",
    "        x = F.max_pool2d(x, kernel_size=(2, 2), stride=(2, 2))\n",
    "        x = F.relu(self.conv4(x))\n",
    "        x = F.max_pool2d(x, kernel_size=(2, 2), stride=(2, 2))\n",
    "        x = F.relu(self.conv5(x))\n",
    "        x = F.max_pool2d(x, kernel_size=(2, 2), stride=(2, 2))\n",
    "        x = F.relu(self.conv6(x))\n",
    "        x = F.max_pool2d(x, kernel_size=(2, 2), stride=(2, 2))\n",
    "        x = x.view(-1, 32 * 1 * 1)\n",
    "        x = F.relu(self.fc1(x))\n",
    "        x = self.dropout(x)\n",
    "        x = self.fc2(x)\n",
    "        x = F.softmax(x, dim=1)\n",
    "        return x\n",
    "\n",
    "# Create an instance of the CNN model\n",
    "resnet_model = CNN()\n",
    "resnet_model.cuda()\n",
    "print(resnet_model)\n"
   ]
  },
  {
   "cell_type": "code",
   "execution_count": 15,
   "id": "9a41332d",
   "metadata": {
    "execution": {
     "iopub.execute_input": "2024-04-20T13:40:03.666541Z",
     "iopub.status.busy": "2024-04-20T13:40:03.666272Z",
     "iopub.status.idle": "2024-04-20T16:47:26.976926Z",
     "shell.execute_reply": "2024-04-20T16:47:26.975980Z"
    },
    "papermill": {
     "duration": 11243.320703,
     "end_time": "2024-04-20T16:47:26.979218",
     "exception": false,
     "start_time": "2024-04-20T13:40:03.658515",
     "status": "completed"
    },
    "tags": []
   },
   "outputs": [
    {
     "name": "stdout",
     "output_type": "stream",
     "text": [
      "Epoch [1/50], Train Loss: 1.0691, Train Acc: 0.4559, Val Loss: 1.0467, Val Acc: 0.4657\n",
      "Epoch [2/50], Train Loss: 1.0276, Train Acc: 0.4698, Val Loss: 0.9912, Val Acc: 0.5556\n",
      "Epoch [3/50], Train Loss: 0.9232, Train Acc: 0.6090, Val Loss: 0.9091, Val Acc: 0.6389\n",
      "Epoch [4/50], Train Loss: 0.9117, Train Acc: 0.6355, Val Loss: 0.8996, Val Acc: 0.6405\n",
      "Epoch [5/50], Train Loss: 0.9105, Train Acc: 0.6384, Val Loss: 0.8706, Val Acc: 0.6634\n",
      "Epoch [6/50], Train Loss: 0.8905, Train Acc: 0.6584, Val Loss: 0.8609, Val Acc: 0.6895\n",
      "Epoch [7/50], Train Loss: 0.8864, Train Acc: 0.6612, Val Loss: 0.8585, Val Acc: 0.6814\n",
      "Epoch [8/50], Train Loss: 0.8649, Train Acc: 0.6788, Val Loss: 0.9406, Val Acc: 0.6046\n",
      "Epoch [9/50], Train Loss: 0.8810, Train Acc: 0.6669, Val Loss: 0.8835, Val Acc: 0.6650\n",
      "Epoch [10/50], Train Loss: 0.9058, Train Acc: 0.6445, Val Loss: 0.8740, Val Acc: 0.6797\n",
      "Epoch [11/50], Train Loss: 0.8872, Train Acc: 0.6645, Val Loss: 0.8654, Val Acc: 0.6830\n",
      "Epoch [12/50], Train Loss: 0.8883, Train Acc: 0.6604, Val Loss: 0.8539, Val Acc: 0.6928\n",
      "Epoch [13/50], Train Loss: 0.8753, Train Acc: 0.6751, Val Loss: 0.8369, Val Acc: 0.7124\n",
      "Epoch [14/50], Train Loss: 0.8484, Train Acc: 0.6967, Val Loss: 0.8607, Val Acc: 0.6961\n",
      "Epoch [15/50], Train Loss: 0.8700, Train Acc: 0.6800, Val Loss: 0.8712, Val Acc: 0.6814\n",
      "Epoch [16/50], Train Loss: 0.8996, Train Acc: 0.6486, Val Loss: 0.8998, Val Acc: 0.6454\n",
      "Epoch [17/50], Train Loss: 0.9004, Train Acc: 0.6494, Val Loss: 0.8686, Val Acc: 0.6830\n",
      "Epoch [18/50], Train Loss: 0.8926, Train Acc: 0.6576, Val Loss: 0.8816, Val Acc: 0.6765\n",
      "Epoch [19/50], Train Loss: 0.8976, Train Acc: 0.6535, Val Loss: 0.8535, Val Acc: 0.6977\n",
      "Epoch [20/50], Train Loss: 0.8957, Train Acc: 0.6543, Val Loss: 0.9872, Val Acc: 0.5703\n",
      "Epoch [21/50], Train Loss: 0.9346, Train Acc: 0.6151, Val Loss: 0.8655, Val Acc: 0.6846\n",
      "Epoch [22/50], Train Loss: 0.9183, Train Acc: 0.6306, Val Loss: 0.8917, Val Acc: 0.6618\n",
      "Epoch [23/50], Train Loss: 0.8805, Train Acc: 0.6690, Val Loss: 0.8595, Val Acc: 0.6879\n",
      "Epoch [24/50], Train Loss: 0.8795, Train Acc: 0.6735, Val Loss: 0.8705, Val Acc: 0.6846\n",
      "Epoch [25/50], Train Loss: 0.9052, Train Acc: 0.6502, Val Loss: 0.8858, Val Acc: 0.6618\n",
      "Epoch [26/50], Train Loss: 0.8803, Train Acc: 0.6706, Val Loss: 0.8700, Val Acc: 0.6846\n",
      "Epoch [27/50], Train Loss: 0.8914, Train Acc: 0.6620, Val Loss: 0.8803, Val Acc: 0.6732\n",
      "Epoch [28/50], Train Loss: 0.9498, Train Acc: 0.6037, Val Loss: 1.0505, Val Acc: 0.4984\n",
      "Epoch [29/50], Train Loss: 0.9940, Train Acc: 0.5543, Val Loss: 0.8804, Val Acc: 0.6667\n",
      "Epoch [30/50], Train Loss: 0.9046, Train Acc: 0.6453, Val Loss: 0.9078, Val Acc: 0.6422\n",
      "Epoch [31/50], Train Loss: 0.9016, Train Acc: 0.6494, Val Loss: 0.9007, Val Acc: 0.6503\n",
      "Epoch [32/50], Train Loss: 0.9350, Train Acc: 0.6163, Val Loss: 0.9451, Val Acc: 0.6062\n",
      "Epoch [33/50], Train Loss: 0.8899, Train Acc: 0.6592, Val Loss: 0.9345, Val Acc: 0.6225\n",
      "Epoch [34/50], Train Loss: 1.0972, Train Acc: 0.4482, Val Loss: 0.8745, Val Acc: 0.6748\n",
      "Epoch [35/50], Train Loss: 0.8931, Train Acc: 0.6571, Val Loss: 0.8790, Val Acc: 0.6716\n",
      "Epoch [36/50], Train Loss: 0.9038, Train Acc: 0.6482, Val Loss: 0.8689, Val Acc: 0.6863\n",
      "Epoch [37/50], Train Loss: 0.9132, Train Acc: 0.6384, Val Loss: 0.9340, Val Acc: 0.6176\n",
      "Epoch [38/50], Train Loss: 0.9200, Train Acc: 0.6302, Val Loss: 0.9287, Val Acc: 0.6258\n",
      "Epoch [39/50], Train Loss: 0.9165, Train Acc: 0.6343, Val Loss: 0.9009, Val Acc: 0.6536\n",
      "Epoch [40/50], Train Loss: 0.9095, Train Acc: 0.6445, Val Loss: 0.9575, Val Acc: 0.5931\n",
      "Epoch [41/50], Train Loss: 0.9644, Train Acc: 0.5837, Val Loss: 0.9066, Val Acc: 0.6438\n",
      "Epoch [42/50], Train Loss: 0.9302, Train Acc: 0.6253, Val Loss: 0.9442, Val Acc: 0.6127\n",
      "Epoch [43/50], Train Loss: 0.9388, Train Acc: 0.6114, Val Loss: 0.8760, Val Acc: 0.6732\n",
      "Epoch [44/50], Train Loss: 0.9090, Train Acc: 0.6473, Val Loss: 0.8975, Val Acc: 0.6585\n",
      "Epoch [45/50], Train Loss: 0.9226, Train Acc: 0.6314, Val Loss: 0.9829, Val Acc: 0.5686\n",
      "Epoch [46/50], Train Loss: 0.9555, Train Acc: 0.5967, Val Loss: 1.0450, Val Acc: 0.5033\n",
      "Epoch [47/50], Train Loss: 0.9282, Train Acc: 0.6216, Val Loss: 0.8928, Val Acc: 0.6650\n",
      "Epoch [48/50], Train Loss: 1.0026, Train Acc: 0.5527, Val Loss: 1.0754, Val Acc: 0.4788\n",
      "Epoch [49/50], Train Loss: 1.0738, Train Acc: 0.4751, Val Loss: 1.0502, Val Acc: 0.4984\n",
      "Epoch [50/50], Train Loss: 1.0694, Train Acc: 0.4849, Val Loss: 1.0758, Val Acc: 0.4771\n"
     ]
    },
    {
     "data": {
      "image/png": "[encoded data removed]",
      "text/plain": [
       "<Figure size 640x480 with 1 Axes>"
      ]
     },
     "metadata": {},
     "output_type": "display_data"
    },
    {
     "data": {
      "image/png": "[encoded data removed]",
      "text/plain": [
       "<Figure size 640x480 with 1 Axes>"
      ]
     },
     "metadata": {},
     "output_type": "display_data"
    }
   ],
   "source": [
    "import os\n",
    "import torch\n",
    "import torch.nn as nn\n",
    "import torch.optim as optim\n",
    "from torch.utils.data import DataLoader\n",
    "import torchvision.transforms as transforms\n",
    "from torchvision.datasets import ImageFolder\n",
    "import matplotlib.pyplot as plt\n",
    "from sklearn.metrics import accuracy_score\n",
    "# Define loss function and optimizer\n",
    "criterion = nn.CrossEntropyLoss()\n",
    "optimizer = optim.Adam(resnet_model.parameters(), lr=0.001)\n",
    "\n",
    "# Function to calculate accuracy\n",
    "def get_accuracy(outputs, labels):\n",
    "    _, predicted = torch.max(outputs, 1)\n",
    "    correct = (predicted == labels).sum().item()\n",
    "    return correct / labels.size(0)\n",
    "\n",
    "# Training the model\n",
    "num_epochs = 50\n",
    "train_losses = []\n",
    "val_losses = []\n",
    "train_accs = []\n",
    "val_accs = []\n",
    "\n",
    "for epoch in range(num_epochs):\n",
    "    resnet_model.train()\n",
    "    running_loss = 0.0\n",
    "    total_train = 0\n",
    "    correct_train = 0\n",
    "\n",
    "    for images, labels in train_loader:\n",
    "        images = images.cuda() if torch.cuda.is_available() else images\n",
    "        labels = labels.cuda() if torch.cuda.is_available() else labels\n",
    "\n",
    "        optimizer.zero_grad()\n",
    "        outputs = resnet_model(images)\n",
    "        loss = criterion(outputs, labels)\n",
    "        loss.backward()\n",
    "        optimizer.step()\n",
    "\n",
    "        running_loss += loss.item()\n",
    "        total_train += labels.size(0)\n",
    "        correct_train += (torch.argmax(outputs, 1) == labels).sum().item()\n",
    "\n",
    "    train_acc = correct_train / total_train\n",
    "    train_accs.append(train_acc)\n",
    "    train_losses.append(running_loss / len(train_loader))\n",
    "\n",
    "    # Evaluating on validation set\n",
    "    resnet_model.eval()\n",
    "    val_loss = 0.0\n",
    "    total_val = 0\n",
    "    correct_val = 0\n",
    "\n",
    "    with torch.no_grad():\n",
    "        for images, labels in test_loader:\n",
    "            images = images.cuda() if torch.cuda.is_available() else images\n",
    "            labels = labels.cuda() if torch.cuda.is_available() else labels\n",
    "\n",
    "            outputs = resnet_model(images)\n",
    "            loss = criterion(outputs, labels)\n",
    "\n",
    "            val_loss += loss.item()\n",
    "            total_val += labels.size(0)\n",
    "            correct_val += (torch.argmax(outputs, 1) == labels).sum().item()\n",
    "\n",
    "    val_acc = correct_val / total_val\n",
    "    val_accs.append(val_acc)\n",
    "    val_losses.append(val_loss / len(test_loader))\n",
    "\n",
    "    print(f'Epoch [{epoch + 1}/{num_epochs}], '\n",
    "          f'Train Loss: {train_losses[-1]:.4f}, Train Acc: {train_acc:.4f}, '\n",
    "          f'Val Loss: {val_losses[-1]:.4f}, Val Acc: {val_acc:.4f}')\n",
    "\n",
    "# Plotting the training process\n",
    "plt.plot(train_losses, label='Train Loss')\n",
    "plt.plot(val_losses, label='Validation Loss')\n",
    "plt.xlabel('Epochs')\n",
    "plt.ylabel('Loss')\n",
    "plt.legend()\n",
    "plt.show()\n",
    "\n",
    "plt.plot(train_accs, label='Train Accuracy')\n",
    "plt.plot(val_accs, label='Validation Accuracy')\n",
    "plt.xlabel('Epochs')\n",
    "plt.ylabel('Accuracy')\n",
    "plt.legend()\n",
    "plt.show()"
   ]
  },
  {
   "cell_type": "code",
   "execution_count": null,
   "id": "69327fce",
   "metadata": {
    "papermill": {
     "duration": 0.011771,
     "end_time": "2024-04-20T16:47:27.003225",
     "exception": false,
     "start_time": "2024-04-20T16:47:26.991454",
     "status": "completed"
    },
    "tags": []
   },
   "outputs": [],
   "source": []
  },
  {
   "cell_type": "code",
   "execution_count": null,
   "id": "aed15592",
   "metadata": {
    "papermill": {
     "duration": 0.011582,
     "end_time": "2024-04-20T16:47:27.026707",
     "exception": false,
     "start_time": "2024-04-20T16:47:27.015125",
     "status": "completed"
    },
    "tags": []
   },
   "outputs": [],
   "source": []
  }
 ],
 "metadata": {
  "kaggle": {
   "accelerator": "gpu",
   "dataSources": [
    {
     "datasetId": 2020131,
     "sourceId": 3347069,
     "sourceType": "datasetVersion"
    }
   ],
   "dockerImageVersionId": 30683,
   "isGpuEnabled": true,
   "isInternetEnabled": true,
   "language": "python",
   "sourceType": "notebook"
  },
  "kernelspec": {
   "display_name": "Python 3",
   "language": "python",
   "name": "python3"
  },
  "language_info": {
   "codemirror_mode": {
    "name": "ipython",
    "version": 3
   },
   "file_extension": ".py",
   "mimetype": "text/x-python",
   "name": "python",
   "nbconvert_exporter": "python",
   "pygments_lexer": "ipython3",
   "version": "3.10.13"
  },
  "papermill": {
   "default_parameters": {},
   "duration": 11347.149436,
   "end_time": "2024-04-20T16:47:28.683151",
   "environment_variables": {},
   "exception": null,
   "input_path": "__notebook__.ipynb",
   "output_path": "__notebook__.ipynb",
   "parameters": {},
   "start_time": "2024-04-20T13:38:21.533715",
   "version": "2.5.0"
  }
 },
 "nbformat": 4,
 "nbformat_minor": 5
}
